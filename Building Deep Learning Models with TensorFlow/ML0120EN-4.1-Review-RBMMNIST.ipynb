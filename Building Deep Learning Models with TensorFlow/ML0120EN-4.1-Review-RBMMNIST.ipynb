{
 "cells": [
  {
   "cell_type": "markdown",
   "metadata": {},
   "source": [
    "<img src=\"https://cf-courses-data.s3.us.cloud-object-storage.appdomain.cloud/IBMDeveloperSkillsNetwork-DL0120EN-SkillsNetwork/images/IDSN-logo.png\" width=\"300\" alt=\"cognitiveclass.ai logo\">\n",
    "\n",
    "<h1 align=\"center\"><font size=\"5\">RESTRICTED BOLTZMANN MACHINES</font></h1>\n"
   ]
  },
  {
   "cell_type": "markdown",
   "metadata": {},
   "source": [
    "Estimated time needed: **25** minutes\n"
   ]
  },
  {
   "cell_type": "markdown",
   "metadata": {
    "tags": []
   },
   "source": [
    "<h3>Introduction</h3>\n",
    "<b>Restricted Boltzmann Machine (RBM):</b>  RBMs are shallow neural nets that learn to reconstruct data by themselves in an unsupervised fashion.  \n",
    "\n",
    "\n",
    "<h4>Why are RBMs important?</h4>\n",
    "An RBM are a basic form of autoencoder.  It can automatically extract <b>meaningful</b> features from a given input.\n",
    "\n",
    "\n",
    "<h4>How does it work?</h4>\n",
    "RBM is a 2 layer neural network. Simply, RBM takes the inputs and translates those into a set of binary values that represents them in the hidden layer. Then, these numbers can be translated back to reconstruct the inputs. Through several forward and backward passes, the RBM will be trained, and a trained RBM can reveal which features are the most important ones when detecting patterns.   \n",
    "\n",
    "\n",
    "<h4>What are the applications of an RBM?</h4>\n",
    "RBM is useful for <a href='http://www.cs.utoronto.ca/~hinton/absps/netflixICML.pdf'>  Collaborative Filtering</a>, dimensionality reduction, classification, regression, feature learning, topic modeling and even <b>Deep Belief Networks</b>.\n",
    "\n",
    "<h4>Is RBM a generative or Discriminative model?</h4>\n",
    "RBM is a generative model. Let me explain it by first, see what is different between discriminative and generative models: \n",
    "\n",
    "<b>Discriminative:</b> Consider a classification problem where we want to learn to distinguish between Sedan cars (y = 1) and SUV cars (y = 0), based on some features of cars. Given a training set, an algorithm like logistic regression tries to find a straight line, or <i>decision boundary</i>, that separates the suv and sedan.  \n",
    "\n",
    "<b>Generative:</b> looking at cars, we can build a model of what Sedan cars look like. Then, looking at SUVs, we can build a separate model of what SUV cars look like. Finally, to classify a new car, we can match the new car against the Sedan model, and match it against the SUV model, to see whether the new car looks more like the SUV or Sedan. \n",
    "\n",
    "Generative Models specify a probability distribution over a dataset of input vectors. We can carry out both supervised and unsupervised tasks with generative models:\n",
    "<ul>\n",
    "    <li>In an unsupervised task, we try to form a model for $P(x)$, where $P$ is the probability given $x$ as an input vector.</li>\n",
    "    <li>In the supervised task, we first form a model for $P(x|y)$, where $P$ is the probability of $x$ given $y$(the label for $x$). For example, if $y = 0$ indicates that a car is an SUV, and $y = 1$ indicates that a car is a sedan, then $p(x|y = 0)$ models the distribution of SUV features, and $p(x|y = 1)$ models the distribution of sedan features. If we manage to find $P(x|y)$ and $P(y)$, then we can use <b>Bayes rule</b> to estimate $P(y|x)$, because:   \n",
    "        $$p(y|x) = \\frac{p(x|y)p(y)}{p(x)}$$</li>\n",
    "</ul>\n",
    "Now the question is, can we build a generative model, and then use it to create synthetic data by directly sampling from the modeled probability distributions? Lets see. \n"
   ]
  },
  {
   "cell_type": "markdown",
   "metadata": {},
   "source": [
    "<h2>Table of Contents</h2>\n",
    "<ol>\n",
    "    <li><a href=\"#ref1\">Initialization</a></li>\n",
    "    <li><a href=\"#ref2\">RBM layers</a></li>\n",
    "    <li><a href=\"#ref3\">What RBM can do after training?</a></li>\n",
    "    <li><a href=\"#ref4\">How to train the model?</a></li>\n",
    "    <li><a href=\"#ref5\">Learned features</a></li>\n",
    "</ol>\n",
    "<p></p>\n",
    "</div>\n",
    "<br>\n",
    "\n",
    "<hr>\n"
   ]
  },
  {
   "cell_type": "markdown",
   "metadata": {},
   "source": [
    "<a id=\"ref1\"></a>\n",
    "<h3>Initialization</h3>\n",
    "\n",
    "First, we have to load the utility file which contains different utility functions that are not connected\n",
    "in any way to the networks presented in the tutorials, but rather help in\n",
    "processing the outputs into a more understandable way.\n"
   ]
  },
  {
   "cell_type": "code",
   "execution_count": 1,
   "metadata": {
    "tags": []
   },
   "outputs": [],
   "source": [
    "import urllib.request\n",
    "with urllib.request.urlopen(\"https://cf-courses-data.s3.us.cloud-object-storage.appdomain.cloud/IBMDeveloperSkillsNetwork-DL0120EN-SkillsNetwork/labs/Week4/data/utils.py\") as url:\n",
    "    response = url.read()\n",
    "target = open('utils.py', 'w')\n",
    "target.write(response.decode('utf-8'))\n",
    "target.close()"
   ]
  },
  {
   "cell_type": "markdown",
   "metadata": {},
   "source": [
    "<h2>Installing TensorFlow </h2>\n",
    "\n",
    "We will installing TensorFlow version 2.9.0 and its required prerequistes.  Also installing pillow...\n"
   ]
  },
  {
   "cell_type": "code",
   "execution_count": 2,
   "metadata": {
    "tags": []
   },
   "outputs": [
    {
     "name": "stdout",
     "output_type": "stream",
     "text": [
      "Collecting grpcio==1.24.3\n",
      "  Downloading grpcio-1.24.3-cp37-cp37m-manylinux2010_x86_64.whl (2.2 MB)\n",
      "\u001b[2K     \u001b[90m━━━━━━━━━━━━━━━━━━━━━━━━━━━━━━━━━━━━━━━━\u001b[0m \u001b[32m2.2/2.2 MB\u001b[0m \u001b[31m71.6 MB/s\u001b[0m eta \u001b[36m0:00:00\u001b[0m\n",
      "\u001b[?25hRequirement already satisfied: six>=1.5.2 in /home/jupyterlab/conda/envs/python/lib/python3.7/site-packages (from grpcio==1.24.3) (1.16.0)\n",
      "Installing collected packages: grpcio\n",
      "  Attempting uninstall: grpcio\n",
      "    Found existing installation: grpcio 1.48.1\n",
      "    Uninstalling grpcio-1.48.1:\n",
      "      Successfully uninstalled grpcio-1.48.1\n",
      "Successfully installed grpcio-1.24.3\n",
      "Collecting tensorflow==2.9.0\n",
      "  Downloading tensorflow-2.9.0-cp37-cp37m-manylinux_2_17_x86_64.manylinux2014_x86_64.whl (511.7 MB)\n",
      "\u001b[2K     \u001b[90m━━━━━━━━━━━━━━━━━━━━━━━━━━━━━━━━━━━━━\u001b[0m \u001b[32m511.7/511.7 MB\u001b[0m \u001b[31m920.5 kB/s\u001b[0m eta \u001b[36m0:00:00\u001b[0m00:01\u001b[0m00:01\u001b[0m\n",
      "\u001b[?25hRequirement already satisfied: absl-py>=1.0.0 in /home/jupyterlab/conda/envs/python/lib/python3.7/site-packages (from tensorflow==2.9.0) (1.4.0)\n",
      "Collecting astunparse>=1.6.0 (from tensorflow==2.9.0)\n",
      "  Downloading astunparse-1.6.3-py2.py3-none-any.whl (12 kB)\n",
      "Collecting flatbuffers<2,>=1.12 (from tensorflow==2.9.0)\n",
      "  Downloading flatbuffers-1.12-py2.py3-none-any.whl (15 kB)\n",
      "Collecting gast<=0.4.0,>=0.2.1 (from tensorflow==2.9.0)\n",
      "  Downloading gast-0.4.0-py3-none-any.whl (9.8 kB)\n",
      "Requirement already satisfied: google-pasta>=0.1.1 in /home/jupyterlab/conda/envs/python/lib/python3.7/site-packages (from tensorflow==2.9.0) (0.2.0)\n",
      "Requirement already satisfied: grpcio<2.0,>=1.24.3 in /home/jupyterlab/conda/envs/python/lib/python3.7/site-packages (from tensorflow==2.9.0) (1.24.3)\n",
      "Collecting h5py>=2.9.0 (from tensorflow==2.9.0)\n",
      "  Downloading h5py-3.8.0-cp37-cp37m-manylinux_2_17_x86_64.manylinux2014_x86_64.whl (4.3 MB)\n",
      "\u001b[2K     \u001b[90m━━━━━━━━━━━━━━━━━━━━━━━━━━━━━━━━━━━━━━━━\u001b[0m \u001b[32m4.3/4.3 MB\u001b[0m \u001b[31m95.1 MB/s\u001b[0m eta \u001b[36m0:00:00\u001b[0m:00:01\u001b[0m\n",
      "\u001b[?25hCollecting keras<2.10.0,>=2.9.0rc0 (from tensorflow==2.9.0)\n",
      "  Downloading keras-2.9.0-py2.py3-none-any.whl (1.6 MB)\n",
      "\u001b[2K     \u001b[90m━━━━━━━━━━━━━━━━━━━━━━━━━━━━━━━━━━━━━━━━\u001b[0m \u001b[32m1.6/1.6 MB\u001b[0m \u001b[31m57.7 MB/s\u001b[0m eta \u001b[36m0:00:00\u001b[0m\n",
      "\u001b[?25hRequirement already satisfied: keras-preprocessing>=1.1.1 in /home/jupyterlab/conda/envs/python/lib/python3.7/site-packages (from tensorflow==2.9.0) (1.1.2)\n",
      "Collecting libclang>=13.0.0 (from tensorflow==2.9.0)\n",
      "  Downloading libclang-16.0.6-py2.py3-none-manylinux2010_x86_64.whl (22.9 MB)\n",
      "\u001b[2K     \u001b[90m━━━━━━━━━━━━━━━━━━━━━━━━━━━━━━━━━━━━━━━━\u001b[0m \u001b[32m22.9/22.9 MB\u001b[0m \u001b[31m64.2 MB/s\u001b[0m eta \u001b[36m0:00:00\u001b[0m00:01\u001b[0m00:01\u001b[0m\n",
      "\u001b[?25hRequirement already satisfied: numpy>=1.20 in /home/jupyterlab/conda/envs/python/lib/python3.7/site-packages (from tensorflow==2.9.0) (1.21.6)\n",
      "Collecting opt-einsum>=2.3.2 (from tensorflow==2.9.0)\n",
      "  Downloading opt_einsum-3.3.0-py3-none-any.whl (65 kB)\n",
      "\u001b[2K     \u001b[90m━━━━━━━━━━━━━━━━━━━━━━━━━━━━━━━━━━━━━━━━\u001b[0m \u001b[32m65.5/65.5 kB\u001b[0m \u001b[31m11.7 MB/s\u001b[0m eta \u001b[36m0:00:00\u001b[0m\n",
      "\u001b[?25hRequirement already satisfied: packaging in /home/jupyterlab/conda/envs/python/lib/python3.7/site-packages (from tensorflow==2.9.0) (23.1)\n",
      "Requirement already satisfied: protobuf>=3.9.2 in /home/jupyterlab/conda/envs/python/lib/python3.7/site-packages (from tensorflow==2.9.0) (4.21.8)\n",
      "Requirement already satisfied: setuptools in /home/jupyterlab/conda/envs/python/lib/python3.7/site-packages (from tensorflow==2.9.0) (67.7.2)\n",
      "Requirement already satisfied: six>=1.12.0 in /home/jupyterlab/conda/envs/python/lib/python3.7/site-packages (from tensorflow==2.9.0) (1.16.0)\n",
      "Collecting tensorboard<2.10,>=2.9 (from tensorflow==2.9.0)\n",
      "  Downloading tensorboard-2.9.1-py3-none-any.whl (5.8 MB)\n",
      "\u001b[2K     \u001b[90m━━━━━━━━━━━━━━━━━━━━━━━━━━━━━━━━━━━━━━━━\u001b[0m \u001b[32m5.8/5.8 MB\u001b[0m \u001b[31m73.9 MB/s\u001b[0m eta \u001b[36m0:00:00\u001b[0m:00:01\u001b[0m00:01\u001b[0m\n",
      "\u001b[?25hCollecting tensorflow-io-gcs-filesystem>=0.23.1 (from tensorflow==2.9.0)\n",
      "  Downloading tensorflow_io_gcs_filesystem-0.34.0-cp37-cp37m-manylinux_2_12_x86_64.manylinux2010_x86_64.whl (2.4 MB)\n",
      "\u001b[2K     \u001b[90m━━━━━━━━━━━━━━━━━━━━━━━━━━━━━━━━━━━━━━━━\u001b[0m \u001b[32m2.4/2.4 MB\u001b[0m \u001b[31m92.9 MB/s\u001b[0m eta \u001b[36m0:00:00\u001b[0m\n",
      "\u001b[?25hCollecting tensorflow-estimator<2.10.0,>=2.9.0rc0 (from tensorflow==2.9.0)\n",
      "  Downloading tensorflow_estimator-2.9.0-py2.py3-none-any.whl (438 kB)\n",
      "\u001b[2K     \u001b[90m━━━━━━━━━━━━━━━━━━━━━━━━━━━━━━━━━━━━━━\u001b[0m \u001b[32m438.7/438.7 kB\u001b[0m \u001b[31m43.5 MB/s\u001b[0m eta \u001b[36m0:00:00\u001b[0m\n",
      "\u001b[?25hRequirement already satisfied: termcolor>=1.1.0 in /home/jupyterlab/conda/envs/python/lib/python3.7/site-packages (from tensorflow==2.9.0) (2.3.0)\n",
      "Requirement already satisfied: typing-extensions>=3.6.6 in /home/jupyterlab/conda/envs/python/lib/python3.7/site-packages (from tensorflow==2.9.0) (4.5.0)\n",
      "Requirement already satisfied: wrapt>=1.11.0 in /home/jupyterlab/conda/envs/python/lib/python3.7/site-packages (from tensorflow==2.9.0) (1.14.1)\n",
      "Requirement already satisfied: wheel<1.0,>=0.23.0 in /home/jupyterlab/conda/envs/python/lib/python3.7/site-packages (from astunparse>=1.6.0->tensorflow==2.9.0) (0.40.0)\n",
      "Collecting google-auth<3,>=1.6.3 (from tensorboard<2.10,>=2.9->tensorflow==2.9.0)\n",
      "  Downloading google_auth-2.25.2-py2.py3-none-any.whl (184 kB)\n",
      "\u001b[2K     \u001b[90m━━━━━━━━━━━━━━━━━━━━━━━━━━━━━━━━━━━━━━\u001b[0m \u001b[32m184.2/184.2 kB\u001b[0m \u001b[31m28.4 MB/s\u001b[0m eta \u001b[36m0:00:00\u001b[0m\n",
      "\u001b[?25hCollecting google-auth-oauthlib<0.5,>=0.4.1 (from tensorboard<2.10,>=2.9->tensorflow==2.9.0)\n",
      "  Downloading google_auth_oauthlib-0.4.6-py2.py3-none-any.whl (18 kB)\n",
      "Requirement already satisfied: markdown>=2.6.8 in /home/jupyterlab/conda/envs/python/lib/python3.7/site-packages (from tensorboard<2.10,>=2.9->tensorflow==2.9.0) (3.4.3)\n",
      "Collecting protobuf>=3.9.2 (from tensorflow==2.9.0)\n",
      "  Downloading protobuf-3.19.6-cp37-cp37m-manylinux_2_17_x86_64.manylinux2014_x86_64.whl (1.1 MB)\n",
      "\u001b[2K     \u001b[90m━━━━━━━━━━━━━━━━━━━━━━━━━━━━━━━━━━━━━━━━\u001b[0m \u001b[32m1.1/1.1 MB\u001b[0m \u001b[31m76.8 MB/s\u001b[0m eta \u001b[36m0:00:00\u001b[0m\n",
      "\u001b[?25hRequirement already satisfied: requests<3,>=2.21.0 in /home/jupyterlab/conda/envs/python/lib/python3.7/site-packages (from tensorboard<2.10,>=2.9->tensorflow==2.9.0) (2.29.0)\n",
      "Collecting tensorboard-data-server<0.7.0,>=0.6.0 (from tensorboard<2.10,>=2.9->tensorflow==2.9.0)\n",
      "  Downloading tensorboard_data_server-0.6.1-py3-none-manylinux2010_x86_64.whl (4.9 MB)\n",
      "\u001b[2K     \u001b[90m━━━━━━━━━━━━━━━━━━━━━━━━━━━━━━━━━━━━━━━━\u001b[0m \u001b[32m4.9/4.9 MB\u001b[0m \u001b[31m98.6 MB/s\u001b[0m eta \u001b[36m0:00:00\u001b[0m:00:01\u001b[0m\n",
      "\u001b[?25hCollecting tensorboard-plugin-wit>=1.6.0 (from tensorboard<2.10,>=2.9->tensorflow==2.9.0)\n",
      "  Downloading tensorboard_plugin_wit-1.8.1-py3-none-any.whl (781 kB)\n",
      "\u001b[2K     \u001b[90m━━━━━━━━━━━━━━━━━━━━━━━━━━━━━━━━━━━━━━\u001b[0m \u001b[32m781.3/781.3 kB\u001b[0m \u001b[31m71.5 MB/s\u001b[0m eta \u001b[36m0:00:00\u001b[0m\n",
      "\u001b[?25hRequirement already satisfied: werkzeug>=1.0.1 in /home/jupyterlab/conda/envs/python/lib/python3.7/site-packages (from tensorboard<2.10,>=2.9->tensorflow==2.9.0) (2.2.3)\n",
      "Collecting cachetools<6.0,>=2.0.0 (from google-auth<3,>=1.6.3->tensorboard<2.10,>=2.9->tensorflow==2.9.0)\n",
      "  Downloading cachetools-5.3.2-py3-none-any.whl (9.3 kB)\n",
      "Requirement already satisfied: pyasn1-modules>=0.2.1 in /home/jupyterlab/conda/envs/python/lib/python3.7/site-packages (from google-auth<3,>=1.6.3->tensorboard<2.10,>=2.9->tensorflow==2.9.0) (0.3.0)\n",
      "Collecting rsa<5,>=3.1.4 (from google-auth<3,>=1.6.3->tensorboard<2.10,>=2.9->tensorflow==2.9.0)\n",
      "  Downloading rsa-4.9-py3-none-any.whl (34 kB)\n",
      "Collecting requests-oauthlib>=0.7.0 (from google-auth-oauthlib<0.5,>=0.4.1->tensorboard<2.10,>=2.9->tensorflow==2.9.0)\n",
      "  Downloading requests_oauthlib-1.3.1-py2.py3-none-any.whl (23 kB)\n",
      "Requirement already satisfied: importlib-metadata>=4.4 in /home/jupyterlab/conda/envs/python/lib/python3.7/site-packages (from markdown>=2.6.8->tensorboard<2.10,>=2.9->tensorflow==2.9.0) (4.11.4)\n",
      "Requirement already satisfied: charset-normalizer<4,>=2 in /home/jupyterlab/conda/envs/python/lib/python3.7/site-packages (from requests<3,>=2.21.0->tensorboard<2.10,>=2.9->tensorflow==2.9.0) (3.1.0)\n",
      "Requirement already satisfied: idna<4,>=2.5 in /home/jupyterlab/conda/envs/python/lib/python3.7/site-packages (from requests<3,>=2.21.0->tensorboard<2.10,>=2.9->tensorflow==2.9.0) (3.4)\n",
      "Requirement already satisfied: urllib3<1.27,>=1.21.1 in /home/jupyterlab/conda/envs/python/lib/python3.7/site-packages (from requests<3,>=2.21.0->tensorboard<2.10,>=2.9->tensorflow==2.9.0) (1.26.15)\n",
      "Requirement already satisfied: certifi>=2017.4.17 in /home/jupyterlab/conda/envs/python/lib/python3.7/site-packages (from requests<3,>=2.21.0->tensorboard<2.10,>=2.9->tensorflow==2.9.0) (2023.5.7)\n",
      "Requirement already satisfied: MarkupSafe>=2.1.1 in /home/jupyterlab/conda/envs/python/lib/python3.7/site-packages (from werkzeug>=1.0.1->tensorboard<2.10,>=2.9->tensorflow==2.9.0) (2.1.1)\n",
      "Requirement already satisfied: zipp>=0.5 in /home/jupyterlab/conda/envs/python/lib/python3.7/site-packages (from importlib-metadata>=4.4->markdown>=2.6.8->tensorboard<2.10,>=2.9->tensorflow==2.9.0) (3.15.0)\n",
      "Requirement already satisfied: pyasn1<0.6.0,>=0.4.6 in /home/jupyterlab/conda/envs/python/lib/python3.7/site-packages (from pyasn1-modules>=0.2.1->google-auth<3,>=1.6.3->tensorboard<2.10,>=2.9->tensorflow==2.9.0) (0.5.0)\n",
      "Collecting oauthlib>=3.0.0 (from requests-oauthlib>=0.7.0->google-auth-oauthlib<0.5,>=0.4.1->tensorboard<2.10,>=2.9->tensorflow==2.9.0)\n",
      "  Downloading oauthlib-3.2.2-py3-none-any.whl (151 kB)\n",
      "\u001b[2K     \u001b[90m━━━━━━━━━━━━━━━━━━━━━━━━━━━━━━━━━━━━━━\u001b[0m \u001b[32m151.7/151.7 kB\u001b[0m \u001b[31m25.5 MB/s\u001b[0m eta \u001b[36m0:00:00\u001b[0m\n",
      "\u001b[?25hInstalling collected packages: tensorboard-plugin-wit, libclang, keras, flatbuffers, tensorflow-io-gcs-filesystem, tensorflow-estimator, tensorboard-data-server, rsa, protobuf, opt-einsum, oauthlib, h5py, gast, cachetools, astunparse, requests-oauthlib, google-auth, google-auth-oauthlib, tensorboard, tensorflow\n",
      "  Attempting uninstall: keras\n",
      "    Found existing installation: Keras 2.1.6\n",
      "    Uninstalling Keras-2.1.6:\n",
      "      Successfully uninstalled Keras-2.1.6\n",
      "  Attempting uninstall: tensorflow-estimator\n",
      "    Found existing installation: tensorflow-estimator 1.14.0\n",
      "    Uninstalling tensorflow-estimator-1.14.0:\n",
      "      Successfully uninstalled tensorflow-estimator-1.14.0\n",
      "  Attempting uninstall: protobuf\n",
      "    Found existing installation: protobuf 4.21.8\n",
      "    Uninstalling protobuf-4.21.8:\n",
      "      Successfully uninstalled protobuf-4.21.8\n",
      "  Attempting uninstall: h5py\n",
      "    Found existing installation: h5py 2.8.0\n",
      "    Uninstalling h5py-2.8.0:\n",
      "      Successfully uninstalled h5py-2.8.0\n",
      "  Attempting uninstall: gast\n",
      "    Found existing installation: gast 0.5.3\n",
      "    Uninstalling gast-0.5.3:\n",
      "      Successfully uninstalled gast-0.5.3\n",
      "  Attempting uninstall: tensorboard\n",
      "    Found existing installation: tensorboard 1.14.0\n",
      "    Uninstalling tensorboard-1.14.0:\n",
      "      Successfully uninstalled tensorboard-1.14.0\n",
      "  Attempting uninstall: tensorflow\n",
      "    Found existing installation: tensorflow 1.14.0\n",
      "    Uninstalling tensorflow-1.14.0:\n",
      "      Successfully uninstalled tensorflow-1.14.0\n",
      "Successfully installed astunparse-1.6.3 cachetools-5.3.2 flatbuffers-1.12 gast-0.4.0 google-auth-2.25.2 google-auth-oauthlib-0.4.6 h5py-3.8.0 keras-2.9.0 libclang-16.0.6 oauthlib-3.2.2 opt-einsum-3.3.0 protobuf-3.19.6 requests-oauthlib-1.3.1 rsa-4.9 tensorboard-2.9.1 tensorboard-data-server-0.6.1 tensorboard-plugin-wit-1.8.1 tensorflow-2.9.0 tensorflow-estimator-2.9.0 tensorflow-io-gcs-filesystem-0.34.0\n",
      "Requirement already satisfied: pillow==8.1.0 in /home/jupyterlab/conda/envs/python/lib/python3.7/site-packages (8.1.0)\n"
     ]
    }
   ],
   "source": [
    "!pip install grpcio==1.24.3\n",
    "!pip install tensorflow==2.9.0\n",
    "!pip install pillow==8.1.0"
   ]
  },
  {
   "cell_type": "markdown",
   "metadata": {},
   "source": [
    "**Restart kernel for latest version of TensorFlow to be activated, then continue to the next section.**\n"
   ]
  },
  {
   "cell_type": "markdown",
   "metadata": {},
   "source": [
    "<b>Notice:</b> This notebook has been created with TensorFlow version 2.9.0, and might not work with other versions. Therefore we check:\n"
   ]
  },
  {
   "cell_type": "code",
   "execution_count": 3,
   "metadata": {
    "tags": []
   },
   "outputs": [
    {
     "name": "stderr",
     "output_type": "stream",
     "text": [
      "2023-12-24 22:11:20.706726: I tensorflow/core/util/util.cc:169] oneDNN custom operations are on. You may see slightly different numerical results due to floating-point round-off errors from different computation orders. To turn them off, set the environment variable `TF_ENABLE_ONEDNN_OPTS=0`.\n",
      "2023-12-24 22:11:20.713605: W tensorflow/stream_executor/platform/default/dso_loader.cc:64] Could not load dynamic library 'libcudart.so.11.0'; dlerror: libcudart.so.11.0: cannot open shared object file: No such file or directory\n",
      "2023-12-24 22:11:20.713633: I tensorflow/stream_executor/cuda/cudart_stub.cc:29] Ignore above cudart dlerror if you do not have a GPU set up on your machine.\n"
     ]
    }
   ],
   "source": [
    "import tensorflow as tf\n",
    "from IPython.display import Markdown, display\n",
    "\n",
    "def printmd(string):\n",
    "    display(Markdown('# <span style=\"color:red\">'+string+'</span>'))\n",
    "\n",
    "\n",
    "if not tf.__version__ == '2.9.0':\n",
    "    printmd('<<<<<!!!!! ERROR !!!! please upgrade to TensorFlow 2.9.0, or restart your Kernel (Kernel->Restart & Clear Output)>>>>>')"
   ]
  },
  {
   "cell_type": "markdown",
   "metadata": {},
   "source": [
    "Now, we load in all the packages that we use to create the net including the TensorFlow package:\n"
   ]
  },
  {
   "cell_type": "code",
   "execution_count": 34,
   "metadata": {
    "tags": []
   },
   "outputs": [
    {
     "name": "stdout",
     "output_type": "stream",
     "text": [
      "Requirement already satisfied: utils in /home/jupyterlab/conda/envs/python/lib/python3.7/site-packages (1.0.1)\n"
     ]
    },
    {
     "ename": "ImportError",
     "evalue": "cannot import name 'tile_raster_images' from 'utils' (/home/jupyterlab/conda/envs/python/lib/python3.7/site-packages/utils/__init__.py)",
     "output_type": "error",
     "traceback": [
      "\u001b[0;31m---------------------------------------------------------------------------\u001b[0m",
      "\u001b[0;31mImportError\u001b[0m                               Traceback (most recent call last)",
      "\u001b[0;32m/tmp/ipykernel_68/3062151044.py\u001b[0m in \u001b[0;36m<module>\u001b[0;34m\u001b[0m\n\u001b[1;32m      3\u001b[0m \u001b[0mget_ipython\u001b[0m\u001b[0;34m(\u001b[0m\u001b[0;34m)\u001b[0m\u001b[0;34m.\u001b[0m\u001b[0msystem\u001b[0m\u001b[0;34m(\u001b[0m\u001b[0;34m'pip install utils'\u001b[0m\u001b[0;34m)\u001b[0m\u001b[0;34m\u001b[0m\u001b[0;34m\u001b[0m\u001b[0m\n\u001b[1;32m      4\u001b[0m \u001b[0;32mfrom\u001b[0m \u001b[0mPIL\u001b[0m \u001b[0;32mimport\u001b[0m \u001b[0mImage\u001b[0m\u001b[0;34m\u001b[0m\u001b[0;34m\u001b[0m\u001b[0m\n\u001b[0;32m----> 5\u001b[0;31m \u001b[0;32mfrom\u001b[0m \u001b[0mutils\u001b[0m \u001b[0;32mimport\u001b[0m \u001b[0mtile_raster_images\u001b[0m\u001b[0;34m\u001b[0m\u001b[0;34m\u001b[0m\u001b[0m\n\u001b[0m\u001b[1;32m      6\u001b[0m \u001b[0;32mimport\u001b[0m \u001b[0mmatplotlib\u001b[0m\u001b[0;34m.\u001b[0m\u001b[0mpyplot\u001b[0m \u001b[0;32mas\u001b[0m \u001b[0mplt\u001b[0m\u001b[0;34m\u001b[0m\u001b[0;34m\u001b[0m\u001b[0m\n\u001b[1;32m      7\u001b[0m \u001b[0mget_ipython\u001b[0m\u001b[0;34m(\u001b[0m\u001b[0;34m)\u001b[0m\u001b[0;34m.\u001b[0m\u001b[0mrun_line_magic\u001b[0m\u001b[0;34m(\u001b[0m\u001b[0;34m'matplotlib'\u001b[0m\u001b[0;34m,\u001b[0m \u001b[0;34m'inline'\u001b[0m\u001b[0;34m)\u001b[0m\u001b[0;34m\u001b[0m\u001b[0;34m\u001b[0m\u001b[0m\n",
      "\u001b[0;31mImportError\u001b[0m: cannot import name 'tile_raster_images' from 'utils' (/home/jupyterlab/conda/envs/python/lib/python3.7/site-packages/utils/__init__.py)"
     ]
    }
   ],
   "source": [
    "import tensorflow as tf\n",
    "import numpy as np\n",
    "!pip install utils\n",
    "from PIL import Image\n",
    "from utils import tile_raster_images\n",
    "import matplotlib.pyplot as plt\n",
    "%matplotlib inline"
   ]
  },
  {
   "cell_type": "markdown",
   "metadata": {},
   "source": [
    "<hr>\n"
   ]
  },
  {
   "cell_type": "markdown",
   "metadata": {},
   "source": [
    "<a id=\"ref2\"></a>\n",
    "<h3>RBM layers</h3>\n",
    "\n",
    "An RBM has two layers. The first layer of the RBM is called the <b>visible</b> (or input layer). Imagine that our toy example, has only vectors with 7 values, so the visible layer must have $V=7$ input nodes. \n",
    "The second layer is the <b>hidden</b> layer, which has $H$ neurons in our case. Each hidden node takes on values of either 0 or 1 (i.e., $h_i = 1$ or $h_i$ = 0), with a probability that is a logistic function of the inputs it receives from the other $V$ visible units, called for example, $p(h_i = 1)$. For our toy sample, we'll use 2 nodes in the hidden layer, so $H = 2$.\n",
    "\n",
    "<center><img src=\"https://ibm.box.com/shared/static/eu26opvcefgls6vnwuo29uwp0nudmokh.png\" alt=\"RBM Model\" style=\"width: 400px;\"></center>\n"
   ]
  },
  {
   "cell_type": "markdown",
   "metadata": {},
   "source": [
    "     \n",
    "\n",
    "Each node in the first layer also has a <b>bias</b>. We will denote the bias as $v_{bias}$, and this single value is shared among the $V$ visible units.\n",
    "\n",
    "The <b>bias</b> of the second is defined similarly as $h_{bias}$, and this single value among the $H$ hidden units.\n"
   ]
  },
  {
   "cell_type": "code",
   "execution_count": 8,
   "metadata": {
    "tags": []
   },
   "outputs": [
    {
     "name": "stderr",
     "output_type": "stream",
     "text": [
      "2023-12-24 22:14:46.943258: W tensorflow/stream_executor/platform/default/dso_loader.cc:64] Could not load dynamic library 'libcuda.so.1'; dlerror: libcuda.so.1: cannot open shared object file: No such file or directory\n",
      "2023-12-24 22:14:46.943334: W tensorflow/stream_executor/cuda/cuda_driver.cc:269] failed call to cuInit: UNKNOWN ERROR (303)\n",
      "2023-12-24 22:14:46.943375: I tensorflow/stream_executor/cuda/cuda_diagnostics.cc:156] kernel driver does not appear to be running on this host (jupyterlab-sukhmansing1): /proc/driver/nvidia/version does not exist\n",
      "2023-12-24 22:14:46.943982: I tensorflow/core/platform/cpu_feature_guard.cc:193] This TensorFlow binary is optimized with oneAPI Deep Neural Network Library (oneDNN) to use the following CPU instructions in performance-critical operations:  AVX2 AVX512F AVX512_VNNI FMA\n",
      "To enable them in other operations, rebuild TensorFlow with the appropriate compiler flags.\n"
     ]
    }
   ],
   "source": [
    "v_bias = tf.Variable(tf.zeros([7]), tf.float32)\n",
    "h_bias = tf.Variable(tf.zeros([2]), tf.float32)"
   ]
  },
  {
   "cell_type": "markdown",
   "metadata": {},
   "source": [
    "We have to define weights among the input layer and hidden layer nodes. In the weight matrix, the number of rows are equal to the input nodes, and the number of columns are equal to the output nodes. We define a tensor $\\mathbf{W}$ of shape = (7,2), where the number of visible neurons = 7, and the number of hidden neurons = 2. \n"
   ]
  },
  {
   "cell_type": "code",
   "execution_count": 9,
   "metadata": {
    "tags": []
   },
   "outputs": [],
   "source": [
    "W = tf.constant(np.random.normal(loc=0.0, scale=1.0, size=(7, 2)).astype(np.float32))"
   ]
  },
  {
   "cell_type": "markdown",
   "metadata": {},
   "source": [
    "<hr>\n"
   ]
  },
  {
   "cell_type": "markdown",
   "metadata": {},
   "source": [
    "<a id=\"ref3\"></a>\n",
    "<h3>What RBM can do after training?</h3>\n",
    "Think of RBM as a model that has been trained based on images of a dataset of many SUV and sedan cars. Also, imagine that the RBM network has only two hidden nodes, where one node encodes the weight and, and the other encodes the size.  \n",
    "In a sense, the different configurations represent different cars, where one is an SUV and the other is Sedan.  In a training process, through many forward and backward passes, the RBM adjust its weights to send a stronger signal to either the SUV node (0, 1) or the sedan node (1, 0) in the hidden layer, given the pixels of images. Now, given an SUV in hidden layer, which distribution of pixels should we expect? RBM can give you 2 things. First, it encodes your images in hidden layer. Second, it gives you the probability of observing a case, given some hidden values.\n",
    "\n",
    "\n",
    "<h3>The Inference Process</h3>\n",
    "\n",
    "RBM has two phases:\n",
    "<ul>\n",
    "    <li>Forward Pass</li>  \n",
    "    <li>Backward Pass or Reconstruction</li>\n",
    "</ul>\n",
    "\n",
    "<b>Phase 1) Forward pass:</b>  \n",
    "\n",
    "Input one training sample (one image) $\\mathbf{x}$ through all visible nodes, and pass it to all hidden nodes. Processing happens in each node in the hidden layer. This computation begins by making stochastic decisions about whether to transmit that input or not (i.e. to determine the state of each hidden layer).  First, the probability vector is computed using the input feature vector $\\mathbf{x}$, the weight matrix $\\mathbf{W}$, and the bias term $h_{bias}$, as \n",
    "\n",
    "\n",
    "$$p({h_j}|\\mathbf x)= \\sigma( \\sum_{i=1}^V W_{ij} x_i + h_{bias} )$$, \n",
    "\n",
    "where $\\sigma(z) = (1+e^{-z})^{-1}$ is the logistic function.\n",
    "\n",
    "\n",
    "So, what does $p({h_j})$ represent? It is the <b>probability distribution</b> of the hidden units. That is, RBM uses inputs $x_i$ to make predictions about hidden node activations. For example, imagine that the hidden node activation values are [0.51 0.84] for the first training item. It tells you that the conditional probability for each hidden neuron for Phase 1 is: \n",
    "\n",
    "$$p(h_{1} = 1|\\mathbf{v}) = 0.51$$\n",
    "$$p(h_{2} = 1|\\mathbf{v}) = 0.84$$\n",
    "\n",
    "As a result, for each row in the training set, vector of probabilities is generated.  In TensorFlow, this is referred to as a `tensor` with a shape of (1,2). \n",
    "\n",
    "We then turn unit $j$ with probability $p(h_{j}|\\mathbf{v})$, and turn it off with probability $1 - p(h_{j}|\\mathbf{v})$ by generating a uniform random number vector $\\mathbf{\\xi}$, and comparing it to the activation probability as \n",
    "\n",
    "<center>If $\\xi_j>p(h_{j}|\\mathbf{v})$, then $h_j=1$, else $h_j=0$.</center>\n",
    "\n",
    "\n",
    "Therefore, the conditional probability of a configuration of $\\mathbf{h}$ given $\\mathbf{v}$ (for a training sample) is:\n",
    "\n",
    "$$p(\\mathbf{h} \\mid \\mathbf{v}) = \\prod_{j=1}^H p(h_j \\mid \\mathbf{v})$$\n",
    "\n",
    "\n",
    "where $H$ is the number of hidden units.\n",
    "\n"
   ]
  },
  {
   "cell_type": "markdown",
   "metadata": {},
   "source": [
    "Before we go further, let's look at a toy example for one case out of all input. Assume that we have a trained RBM, and a very simple input vector, such as [1.0, 0.0, 0.0, 1.0, 0.0, 0.0, 0.0].   \n",
    "Let's see what the output of forward pass would look like:\n"
   ]
  },
  {
   "cell_type": "code",
   "execution_count": 10,
   "metadata": {
    "tags": []
   },
   "outputs": [
    {
     "name": "stdout",
     "output_type": "stream",
     "text": [
      "Input:  tf.Tensor([[1. 0. 0. 1. 0. 0. 0.]], shape=(1, 7), dtype=float32)\n",
      "hb:  tf.Tensor([0.1 0.1], shape=(2,), dtype=float32)\n",
      "w:  tf.Tensor(\n",
      "[[-0.66637754  1.1168963 ]\n",
      " [-0.1685721   1.640934  ]\n",
      " [ 1.8550667   0.7936446 ]\n",
      " [ 0.01043528 -0.40625647]\n",
      " [ 0.7372642  -0.256061  ]\n",
      " [-1.3861932  -0.7154951 ]\n",
      " [ 0.8866411   0.05805546]], shape=(7, 2), dtype=float32)\n",
      "p(h|v):  tf.Tensor([[0.36448687 0.69224584]], shape=(1, 2), dtype=float32)\n",
      "h0 states: tf.Tensor([[0. 1.]], shape=(1, 2), dtype=float32)\n"
     ]
    }
   ],
   "source": [
    "X = tf.constant([[1.0, 0.0, 0.0, 1.0, 0.0, 0.0, 0.0]], tf.float32)\n",
    "\n",
    "v_state = X\n",
    "print (\"Input: \", v_state)\n",
    "\n",
    "h_bias = tf.constant([0.1, 0.1])\n",
    "print (\"hb: \", h_bias)\n",
    "print (\"w: \", W)\n",
    "\n",
    "# Calculate the probabilities of turning the hidden units on:\n",
    "h_prob = tf.nn.sigmoid(tf.matmul(v_state, W) + h_bias)  #probabilities of the hidden units\n",
    "print (\"p(h|v): \", h_prob)\n",
    "\n",
    "# Draw samples from the distribution:\n",
    "h_state = tf.nn.relu(tf.sign(h_prob - tf.random.uniform(tf.shape(h_prob)))) #states\n",
    "print (\"h0 states:\", h_state)"
   ]
  },
  {
   "cell_type": "markdown",
   "metadata": {},
   "source": [
    "<b>Phase 2) Backward Pass (Reconstruction):</b>\n",
    "The RBM reconstructs data by making several forward and backward passes between the visible and hidden layers.\n",
    "\n",
    "So, in the second phase (i.e. reconstruction phase), the samples from the hidden layer (i.e. $\\mathbf h$) becomes the input in the backward pass. The same weight matrix and visible layer biases are used to passed to the sigmoid function. The reproduced output is a reconstruction which is an approximation of the original input.\n"
   ]
  },
  {
   "cell_type": "code",
   "execution_count": 11,
   "metadata": {
    "tags": []
   },
   "outputs": [
    {
     "name": "stdout",
     "output_type": "stream",
     "text": [
      "b:  tf.Tensor([0.1 0.2 0.1 0.1 0.1 0.2 0.1], shape=(7,), dtype=float32)\n",
      "p(vi∣h):  tf.Tensor(\n",
      "[[0.7715169  0.86305916 0.7096417  0.42402875 0.46106374 0.37390622\n",
      "  0.5394318 ]], shape=(1, 7), dtype=float32)\n",
      "v probability states:  tf.Tensor([[0. 1. 0. 0. 1. 0. 1.]], shape=(1, 7), dtype=float32)\n"
     ]
    }
   ],
   "source": [
    "vb = tf.constant([0.1, 0.2, 0.1, 0.1, 0.1, 0.2, 0.1])\n",
    "print (\"b: \", vb)\n",
    "v_prob = tf.nn.sigmoid(tf.matmul(h_state, tf.transpose(W)) + vb)\n",
    "print (\"p(vi∣h): \", v_prob)\n",
    "v_state = tf.nn.relu(tf.sign(v_prob - tf.random.uniform(tf.shape(v_prob))))\n",
    "print (\"v probability states: \", v_state)"
   ]
  },
  {
   "cell_type": "markdown",
   "metadata": {},
   "source": [
    "RBM learns a probability distribution over the input, and then, after being trained, the RBM can generate new samples from the learned probability distribution. As you know, <b>probability distribution</b>, is a mathematical function that provides the probabilities of occurrence of different possible outcomes in an experiment.\n",
    "\n",
    "The (conditional) probability distribution over the visible units v is given by\n",
    "\n",
    "$$p(\\mathbf{v} \\mid \\mathbf{h}) = \\prod_{i=1}^V p(v_i \\mid \\mathbf{h}),$$\n",
    "\n",
    "\n",
    "where,\n",
    "\n",
    "$$p(v_i \\mid \\mathbf{h}) = \\sigma\\left(\\sum_{j=1}^H W_{ji} h_j + v_{bias} \\right)$$\n",
    "\n",
    "so, given current state of hidden units and weights, what is the probability of generating [1. 0. 0. 1. 0. 0. 0.] in reconstruction phase, based on the above <b>probability distribution</b> function?\n"
   ]
  },
  {
   "cell_type": "code",
   "execution_count": 12,
   "metadata": {
    "tags": []
   },
   "outputs": [
    {
     "name": "stdout",
     "output_type": "stream",
     "text": [
      "input X: [[1. 0. 0. 1. 0. 0. 0.]]\n",
      "probablity vector: [0.7715169  0.86305916 0.7096417  0.42402875 0.46106374 0.37390622\n",
      " 0.5394318 ]\n",
      "probability of generating X:  0.002021523\n"
     ]
    }
   ],
   "source": [
    "inp = X\n",
    "print(\"input X:\" , inp.numpy())\n",
    "\n",
    "print(\"probablity vector:\" , v_prob[0].numpy())\n",
    "v_probability = 1\n",
    "\n",
    "for elm, p in zip(inp[0],v_prob[0]) :\n",
    "    if elm ==1:\n",
    "        v_probability *= p\n",
    "    else:\n",
    "        v_probability *= (1-p)\n",
    "\n",
    "print(\"probability of generating X: \" , v_probability.numpy())"
   ]
  },
  {
   "cell_type": "markdown",
   "metadata": {},
   "source": [
    "How similar are vectors $\\mathbf{x}$ and $\\mathbf{v}$? Of course, the reconstructed values most likely will not look anything like the input vector, because our network has not been trained yet. Our objective is to train the model in such a way that the input vector and reconstructed vector to be same. Therefore, based on how different the input values look to the ones that we just reconstructed, the weights are adjusted. \n"
   ]
  },
  {
   "cell_type": "markdown",
   "metadata": {},
   "source": [
    "<hr>\n"
   ]
  },
  {
   "cell_type": "markdown",
   "metadata": {},
   "source": [
    "\n",
    "<h2>MNIST</h2>\n"
   ]
  },
  {
   "cell_type": "markdown",
   "metadata": {},
   "source": [
    "We will be using the MNIST dataset to practice the usage of RBMs. The following cell loads the MNIST dataset.\n"
   ]
  },
  {
   "cell_type": "code",
   "execution_count": 13,
   "metadata": {
    "tags": []
   },
   "outputs": [
    {
     "name": "stdout",
     "output_type": "stream",
     "text": [
      "Downloading data from https://storage.googleapis.com/tensorflow/tf-keras-datasets/mnist.npz\n",
      "11490434/11490434 [==============================] - 0s 0us/step\n"
     ]
    }
   ],
   "source": [
    "#loading training and test data\n",
    "mnist = tf.keras.datasets.mnist\n",
    "(trX, trY), (teX, teY) = mnist.load_data()\n",
    "\n",
    "# showing an example of the Flatten class and operation\n",
    "from tensorflow.keras.layers import Flatten\n",
    "flatten = Flatten(dtype='float32')\n",
    "trX = flatten(trX/255.0)\n",
    "trY = flatten(trY/255.0)"
   ]
  },
  {
   "cell_type": "markdown",
   "metadata": {},
   "source": [
    "Lets look at the dimension of the images.\n"
   ]
  },
  {
   "cell_type": "markdown",
   "metadata": {},
   "source": [
    "MNIST images have 784 pixels, so the visible layer must have 784 input nodes.  For our case, we'll use 50 nodes in the hidden layer, so i = 50.\n"
   ]
  },
  {
   "cell_type": "code",
   "execution_count": 14,
   "metadata": {
    "tags": []
   },
   "outputs": [],
   "source": [
    "vb = tf.Variable(tf.zeros([784]), tf.float32)\n",
    "hb = tf.Variable(tf.zeros([50]), tf.float32)"
   ]
  },
  {
   "cell_type": "markdown",
   "metadata": {},
   "source": [
    "Let $\\mathbf W$ be the Tensor of 784x50 (784 - number of visible neurons, 50 - number of hidden neurons) that represents weights between the neurons. \n"
   ]
  },
  {
   "cell_type": "code",
   "execution_count": 15,
   "metadata": {
    "tags": []
   },
   "outputs": [],
   "source": [
    "W = tf.Variable(tf.zeros([784,50]), tf.float32)"
   ]
  },
  {
   "cell_type": "markdown",
   "metadata": {},
   "source": [
    "Lets define the visible layer:\n"
   ]
  },
  {
   "cell_type": "code",
   "execution_count": 16,
   "metadata": {
    "tags": []
   },
   "outputs": [
    {
     "data": {
      "text/plain": [
       "<tf.Tensor: shape=(1, 50), dtype=float32, numpy=\n",
       "array([[0., 0., 0., 0., 0., 0., 0., 0., 0., 0., 0., 0., 0., 0., 0., 0.,\n",
       "        0., 0., 0., 0., 0., 0., 0., 0., 0., 0., 0., 0., 0., 0., 0., 0.,\n",
       "        0., 0., 0., 0., 0., 0., 0., 0., 0., 0., 0., 0., 0., 0., 0., 0.,\n",
       "        0., 0.]], dtype=float32)>"
      ]
     },
     "execution_count": 16,
     "metadata": {},
     "output_type": "execute_result"
    }
   ],
   "source": [
    "v0_state = tf.Variable(tf.zeros([784]), tf.float32)\n",
    "\n",
    "#testing to see if the matrix product works\n",
    "tf.matmul( [v0_state], W)"
   ]
  },
  {
   "cell_type": "markdown",
   "metadata": {},
   "source": [
    "Now, we can define hidden layer:\n"
   ]
  },
  {
   "cell_type": "code",
   "execution_count": 17,
   "metadata": {
    "tags": []
   },
   "outputs": [
    {
     "name": "stdout",
     "output_type": "stream",
     "text": [
      "h0_state shape:  tf.Tensor([ 1 50], shape=(2,), dtype=int32)\n",
      "first 15 hidden states:  tf.Tensor([0. 1. 1. 0. 0. 0. 1. 1. 1. 1. 0. 0. 1. 0. 0.], shape=(15,), dtype=float32)\n"
     ]
    }
   ],
   "source": [
    "#computing the hidden nodes probability vector and checking shape\n",
    "h0_prob = tf.nn.sigmoid(tf.matmul([v0_state], W) + hb)  #probabilities of the hidden units\n",
    "print(\"h0_state shape: \" , tf.shape(h0_prob))\n",
    "\n",
    "#defining a function to return only the generated hidden states \n",
    "def hidden_layer(v0_state, W, hb):\n",
    "    h0_prob = tf.nn.sigmoid(tf.matmul([v0_state], W) + hb)  #probabilities of the hidden units\n",
    "    h0_state = tf.nn.relu(tf.sign(h0_prob - tf.random.uniform(tf.shape(h0_prob)))) #sample_h_given_X\n",
    "    return h0_state\n",
    "\n",
    "\n",
    "h0_state = hidden_layer(v0_state, W, hb)\n",
    "print(\"first 15 hidden states: \", h0_state[0][0:15])"
   ]
  },
  {
   "cell_type": "markdown",
   "metadata": {},
   "source": [
    "Now, we define reconstruction part:\n"
   ]
  },
  {
   "cell_type": "code",
   "execution_count": 18,
   "metadata": {
    "tags": []
   },
   "outputs": [
    {
     "name": "stdout",
     "output_type": "stream",
     "text": [
      "hidden state shape:  (1, 50)\n",
      "v0 state shape:   (784,)\n",
      "v1 state shape:   (784,)\n"
     ]
    }
   ],
   "source": [
    "def reconstructed_output(h0_state, W, vb):\n",
    "    v1_prob = tf.nn.sigmoid(tf.matmul(h0_state, tf.transpose(W)) + vb) \n",
    "    v1_state = tf.nn.relu(tf.sign(v1_prob - tf.random.uniform(tf.shape(v1_prob)))) #sample_v_given_h\n",
    "    return v1_state[0]\n",
    "\n",
    "v1_state = reconstructed_output(h0_state, W, vb)\n",
    "print(\"hidden state shape: \", h0_state.shape)\n",
    "print(\"v0 state shape:  \", v0_state.shape)\n",
    "print(\"v1 state shape:  \", v1_state.shape)"
   ]
  },
  {
   "cell_type": "markdown",
   "metadata": {},
   "source": [
    "<h3>What is the objective function?</h3>\n",
    "\n",
    "<b>Goal</b>: Maximize the likelihood of our data being drawn from that distribution\n",
    "\n",
    "<b>Calculate error:</b>  \n",
    "In each epoch, we compute the \"error\" as a sum of the squared difference between step 1 and step n,\n",
    "e.g the error shows the difference between the data and its reconstruction.\n",
    "\n",
    "<b>Note:</b> tf.reduce_mean computes the mean of elements across dimensions of a tensor.\n"
   ]
  },
  {
   "cell_type": "code",
   "execution_count": 19,
   "metadata": {
    "tags": []
   },
   "outputs": [
    {
     "name": "stdout",
     "output_type": "stream",
     "text": [
      "error 0.48341838\n"
     ]
    }
   ],
   "source": [
    "def error(v0_state, v1_state):\n",
    "    return tf.reduce_mean(tf.square(v0_state - v1_state))\n",
    "\n",
    "err = tf.reduce_mean(tf.square(v0_state - v1_state))\n",
    "print(\"error\" , err.numpy())"
   ]
  },
  {
   "cell_type": "markdown",
   "metadata": {},
   "source": [
    "<a id=\"ref4\"></a>\n",
    "<h3>Training the Model</h3>\n",
    "<b>Warning...</b> The following part is math-heavy, but you can skip it if you just want to run the cells in the next section.\n",
    "\n",
    "As mentioned, we want to give a high probability to the input data we train on. So, in order to train an RBM, we have to maximize the product of probabilities assigned to all rows $\\mathbf{v}$ (images) in the training set $\\mathbf{V}$ (a matrix, where each row of it is treated as a visible vector $\\mathbf{v}$)\n",
    "\n",
    "$$\\arg \\max_W \\prod_{\\mathbf{v}\\in\\mathbf{V}_T} p(\\mathbf{v})$$\n",
    "\n",
    "\n",
    "which is equivalent to maximizing the expectation of the log probability, given as\n",
    "\n",
    "$$\\arg\\max_W\\left[ \\mathbb{E} \\left(\\prod_{\\mathbf v\\in \\mathbf V}\\text{log} \\left(p(\\mathbf v)\\right) \\right) \\right].$$\n",
    "\n",
    "\n",
    "So, we have to update the weights $W_{ij}$  to increase $p(\\mathbf{v})$ for all $\\mathbf{v}$ in our training data during training. So we have to calculate the derivative:\n",
    "\n",
    "\n",
    "$$\\frac{\\partial \\log p(\\mathbf v)}{\\partial W_{ij}}$$\n",
    "\n",
    "This cannot be easily done by typical <b>gradient descent (SGD)</b>, so we can use another approach, which has 2 steps:\n",
    "<ol>\n",
    "    <li>Gibbs Sampling</li>\n",
    "    <li>Contrastive Divergence</li>\n",
    "</ol>    \n",
    "    \n",
    "<h3>Gibbs Sampling</h3>   \n",
    "\n",
    "<h4>Gibbs Sampling Step 1</h4> \n",
    "Given an input vector $\\mathbf{v}$, we are using $p(\\mathbf{h}|\\mathbf{v})$ to predict the hidden values $\\mathbf{h}$. \n",
    "  $$p({h_j}|\\mathbf v)= \\sigma\\left(\\sum_{i=1}^V W_{ij} v_i + h_{bias} \\right)$$\n",
    "The samples are generated from this distribution by generating the uniform random variate vector $\\mathbf{\\xi} \\sim U[0,1]$ of length $H$ and comparing to the computed probabilities as\n",
    "\n",
    "\n",
    "<center>If $\\xi_j>p(h_{j}|\\mathbf{v})$, then $h_j=1$, else $h_j=0$.</center>\n",
    "\n",
    "\n",
    "<h4>Gibbs Sampling Step 2</h4> \n",
    "Then, knowing the hidden values, we use $p(\\mathbf v| \\mathbf h)$ for reconstructing of new input values v. \n",
    "\n",
    "   $$p({v_i}|\\mathbf h)= \\sigma\\left(\\sum_{j=1}^H W^{T}_{ij} h_j + v_{bias} \\right)$$\n",
    "\n",
    "\n",
    "The samples are generated from this distribution by generating a uniform random variate vector $\\mathbf{\\xi} \\sim U[0,1]$ of length $V$ and comparing to the computed probabilities as\n",
    "\n",
    "<center>If $\\xi_i>p(v_{i}|\\mathbf{h})$, then $v_i=1$, else $v_i=0$.</center>\n",
    "\n",
    "Let vectors $\\mathbf v_k$ and $\\mathbf h_k$ be for the $k$th iteration.  In general, the $kth$ state is generrated as: \n",
    "\n",
    "\n",
    "    \n",
    "<b>Iteration</b> $k$: \n",
    "\n",
    "$$\\mathbf v_{k-1} \\Rightarrow p(\\mathbf h_{k-1}|\\mathbf v_{k-1})\\Rightarrow \\mathbf h_{k-1}\\Rightarrow p(\\mathbf v_{k}|\\mathbf h_{k-1})\\Rightarrow \\mathbf v_k$$       \n",
    "    \n",
    "<h3>Contrastive Divergence (CD-k)</h3>\n",
    "The update of the weight matrix is done during the Contrastive Divergence step. \n",
    "\n",
    "Vectors v0 and vk are used to calculate the activation probabilities for hidden values h0 and hk. The difference between the outer products of those probabilities with input vectors v0 and vk results in the update matrix:\n",
    "\n",
    "\n",
    "$$\\Delta \\mathbf W_k =\\mathbf v_k \\otimes \\mathbf h_k - \\mathbf v_{k-1} \\otimes \\mathbf h_{k-1}$$\n",
    "\n",
    "Contrastive Divergence is actually matrix of values that is computed and used to adjust values of the $\\mathbf W$ matrix. Changing $\\mathbf W$ incrementally leads to training of the  $\\mathbf W$ values. Then, on each step (epoch), $\\mathbf W$ is updated using the following:\n",
    "\n",
    "$$\\mathbf W_k = \\mathbf W_{k-1} + \\alpha * \\Delta \\mathbf W_k$$\n",
    "\n",
    "\n",
    "\n",
    "Reconstruction steps:\n",
    "<ul>\n",
    "    <li> Get one data point from data set, like <i>x</i>, and pass it through the following steps:</li>\n",
    "    \n",
    "<b>Iteration</b> $k=1$: \n",
    "    \n",
    "Sampling (starting with input image)\n",
    "    $$\\mathbf x = \\mathbf v_0 \\Rightarrow p(\\mathbf h_0|\\mathbf v_0)\\Rightarrow \\mathbf h_0 \\Rightarrow p(\\mathbf v_1|\\mathbf h_0)\\Rightarrow \\mathbf v_1$$   \n",
    "    followed by the CD-k step\n",
    "$$\\Delta \\mathbf W_1 =\\mathbf v_1 \\otimes \\mathbf h_1 - \\mathbf v_{0} \\otimes \\mathbf h_{0}$$     \n",
    "$$\\mathbf W_1 = \\mathbf W_{0} + \\alpha * \\Delta \\mathbf W_1$$ \n",
    " \n",
    "<li> $\\mathbf v_1$ is the reconstruction of $\\mathbf x$ sent to the next iteration).</li>\n",
    "\n",
    "<b>Iteration</b> $k=2$: \n",
    "\n",
    "Sampling (starting with $\\mathbf v_1$)\n",
    "\n",
    "$$\\mathbf v_1 \\Rightarrow p(\\mathbf h_1|\\mathbf v_1)\\Rightarrow \\mathbf h_1\\Rightarrow p(\\mathbf v_2|\\mathbf h_1)\\Rightarrow \\mathbf v_2$$   \n",
    "\n",
    "followed by the CD-k step\n",
    "$$\\Delta \\mathbf W_2 =\\mathbf v_2 \\otimes \\mathbf h_2 - \\mathbf v_{1} \\otimes \\mathbf h_{1}$$     \n",
    "$$\\mathbf W_2 = \\mathbf W_{1} + \\alpha * \\Delta \\mathbf W_2$$ \n",
    "\n",
    "<li> $\\mathbf v_2$ is the reconstruction of $\\mathbf v_1$ sent to the next iteration).</li>    \n",
    "      \n",
    "<b>Iteration</b> $k=K$:\n",
    "    \n",
    "Sampling (starting with $\\mathbf v_{K-1}$)\n",
    "\n",
    "$$\\mathbf v_{K-1} \\Rightarrow p(\\mathbf h_{K-1}|\\mathbf v_{K-1})\\Rightarrow \\mathbf h_{K-1}\\Rightarrow p(\\mathbf v_K|\\mathbf h_{K-1})\\Rightarrow \\mathbf v_K$$   \n",
    "\n",
    "followed by the CD-k step\n",
    "$$\\Delta \\mathbf W_K =\\mathbf v_K \\otimes \\mathbf h_K - \\mathbf v_{K-1} \\otimes \\mathbf h_{K-1}$$     \n",
    "$$\\mathbf W_K = \\mathbf W_{K-1} + \\alpha * \\Delta \\mathbf W_K$$ \n",
    "    \n",
    "<b>What is $\\alpha$?</b>  \n",
    "Here, alpha is some small step size, and is also known as the \"learning rate\".\n"
   ]
  },
  {
   "cell_type": "markdown",
   "metadata": {},
   "source": [
    "$K$ is adjustable, and good performance can be achieved with $K=1$, so that we just take one set of sampling steps per image.\n"
   ]
  },
  {
   "cell_type": "code",
   "execution_count": 20,
   "metadata": {
    "tags": []
   },
   "outputs": [],
   "source": [
    "h1_prob = tf.nn.sigmoid(tf.matmul([v1_state], W) + hb)\n",
    "h1_state = tf.nn.relu(tf.sign(h1_prob - tf.random.uniform(tf.shape(h1_prob)))) #sample_h_given_X"
   ]
  },
  {
   "cell_type": "markdown",
   "metadata": {},
   "source": [
    "Lets look at the error of the first run:\n"
   ]
  },
  {
   "cell_type": "code",
   "execution_count": 21,
   "metadata": {
    "tags": []
   },
   "outputs": [
    {
     "name": "stdout",
     "output_type": "stream",
     "text": [
      "error:  tf.Tensor(0.48341838, shape=(), dtype=float32)\n"
     ]
    }
   ],
   "source": [
    "print(\"error: \", error(v0_state, v1_state))"
   ]
  },
  {
   "cell_type": "code",
   "execution_count": 22,
   "metadata": {
    "tags": []
   },
   "outputs": [
    {
     "name": "stdout",
     "output_type": "stream",
     "text": [
      "Epoch: 0 batch #: 1  of 300 sample #: 199 reconstruction error: 0.159907\n",
      "Epoch: 0 batch #: 2  of 300 sample #: 199 reconstruction error: 0.216574\n",
      "Epoch: 0 batch #: 3  of 300 sample #: 199 reconstruction error: 0.127812\n",
      "Epoch: 0 batch #: 4  of 300 sample #: 199 reconstruction error: 0.109360\n",
      "Epoch: 0 batch #: 5  of 300 sample #: 199 reconstruction error: 0.100718\n",
      "Epoch: 0 batch #: 6  of 300 sample #: 199 reconstruction error: 0.199584\n",
      "Epoch: 0 batch #: 7  of 300 sample #: 199 reconstruction error: 0.100284\n",
      "Epoch: 0 batch #: 8  of 300 sample #: 199 reconstruction error: 0.106534\n",
      "Epoch: 0 batch #: 9  of 300 sample #: 199 reconstruction error: 0.097681\n",
      "Epoch: 0 batch #: 10  of 300 sample #: 199 reconstruction error: 0.189997\n",
      "Epoch: 0 batch #: 11  of 300 sample #: 199 reconstruction error: 0.082492\n",
      "Epoch: 0 batch #: 12  of 300 sample #: 199 reconstruction error: 0.140812\n",
      "Epoch: 0 batch #: 13  of 300 sample #: 199 reconstruction error: 0.059517\n",
      "Epoch: 0 batch #: 14  of 300 sample #: 199 reconstruction error: 0.107869\n",
      "Epoch: 0 batch #: 15  of 300 sample #: 199 reconstruction error: 0.110790\n",
      "Epoch: 0 batch #: 16  of 300 sample #: 199 reconstruction error: 0.100575\n",
      "Epoch: 0 batch #: 17  of 300 sample #: 199 reconstruction error: 0.085762\n",
      "Epoch: 0 batch #: 18  of 300 sample #: 199 reconstruction error: 0.113337\n",
      "Epoch: 0 batch #: 19  of 300 sample #: 199 reconstruction error: 0.142036\n",
      "Epoch: 0 batch #: 20  of 300 sample #: 199 reconstruction error: 0.116047\n",
      "Epoch: 0 batch #: 21  of 300 sample #: 199 reconstruction error: 0.090934\n",
      "Epoch: 0 batch #: 22  of 300 sample #: 199 reconstruction error: 0.089959\n",
      "Epoch: 0 batch #: 23  of 300 sample #: 199 reconstruction error: 0.117272\n",
      "Epoch: 0 batch #: 24  of 300 sample #: 199 reconstruction error: 0.134493\n",
      "Epoch: 0 batch #: 25  of 300 sample #: 199 reconstruction error: 0.078681\n",
      "Epoch: 0 batch #: 26  of 300 sample #: 199 reconstruction error: 0.096996\n",
      "Epoch: 0 batch #: 27  of 300 sample #: 199 reconstruction error: 0.113455\n",
      "Epoch: 0 batch #: 28  of 300 sample #: 199 reconstruction error: 0.081609\n",
      "Epoch: 0 batch #: 29  of 300 sample #: 199 reconstruction error: 0.091992\n",
      "Epoch: 0 batch #: 30  of 300 sample #: 199 reconstruction error: 0.084166\n",
      "Epoch: 0 batch #: 31  of 300 sample #: 199 reconstruction error: 0.084681\n",
      "Epoch: 0 batch #: 32  of 300 sample #: 199 reconstruction error: 0.119414\n",
      "Epoch: 0 batch #: 33  of 300 sample #: 199 reconstruction error: 0.065365\n",
      "Epoch: 0 batch #: 34  of 300 sample #: 199 reconstruction error: 0.077336\n",
      "Epoch: 0 batch #: 35  of 300 sample #: 199 reconstruction error: 0.071684\n",
      "Epoch: 0 batch #: 36  of 300 sample #: 199 reconstruction error: 0.065446\n",
      "Epoch: 0 batch #: 37  of 300 sample #: 199 reconstruction error: 0.050198\n",
      "Epoch: 0 batch #: 38  of 300 sample #: 199 reconstruction error: 0.067367\n",
      "Epoch: 0 batch #: 39  of 300 sample #: 199 reconstruction error: 0.096304\n",
      "Epoch: 0 batch #: 40  of 300 sample #: 199 reconstruction error: 0.117756\n",
      "Epoch: 0 batch #: 41  of 300 sample #: 199 reconstruction error: 0.074482\n",
      "Epoch: 0 batch #: 42  of 300 sample #: 199 reconstruction error: 0.062428\n",
      "Epoch: 0 batch #: 43  of 300 sample #: 199 reconstruction error: 0.130706\n",
      "Epoch: 0 batch #: 44  of 300 sample #: 199 reconstruction error: 0.082484\n",
      "Epoch: 0 batch #: 45  of 300 sample #: 199 reconstruction error: 0.066449\n",
      "Epoch: 0 batch #: 46  of 300 sample #: 199 reconstruction error: 0.038039\n",
      "Epoch: 0 batch #: 47  of 300 sample #: 199 reconstruction error: 0.040870\n",
      "Epoch: 0 batch #: 48  of 300 sample #: 199 reconstruction error: 0.042997\n",
      "Epoch: 0 batch #: 49  of 300 sample #: 199 reconstruction error: 0.130895\n",
      "Epoch: 0 batch #: 50  of 300 sample #: 199 reconstruction error: 0.039388\n",
      "Epoch: 0 batch #: 51  of 300 sample #: 199 reconstruction error: 0.059929\n",
      "Epoch: 0 batch #: 52  of 300 sample #: 199 reconstruction error: 0.034655\n",
      "Epoch: 0 batch #: 53  of 300 sample #: 199 reconstruction error: 0.118232\n",
      "Epoch: 0 batch #: 54  of 300 sample #: 199 reconstruction error: 0.054225\n",
      "Epoch: 0 batch #: 55  of 300 sample #: 199 reconstruction error: 0.095994\n",
      "Epoch: 0 batch #: 56  of 300 sample #: 199 reconstruction error: 0.055350\n",
      "Epoch: 0 batch #: 57  of 300 sample #: 199 reconstruction error: 0.043027\n",
      "Epoch: 0 batch #: 58  of 300 sample #: 199 reconstruction error: 0.076623\n",
      "Epoch: 0 batch #: 59  of 300 sample #: 199 reconstruction error: 0.062663\n",
      "Epoch: 0 batch #: 60  of 300 sample #: 199 reconstruction error: 0.095225\n",
      "Epoch: 0 batch #: 61  of 300 sample #: 199 reconstruction error: 0.077311\n",
      "Epoch: 0 batch #: 62  of 300 sample #: 199 reconstruction error: 0.084085\n",
      "Epoch: 0 batch #: 63  of 300 sample #: 199 reconstruction error: 0.052790\n",
      "Epoch: 0 batch #: 64  of 300 sample #: 199 reconstruction error: 0.096647\n",
      "Epoch: 0 batch #: 65  of 300 sample #: 199 reconstruction error: 0.087775\n",
      "Epoch: 0 batch #: 66  of 300 sample #: 199 reconstruction error: 0.066103\n",
      "Epoch: 0 batch #: 67  of 300 sample #: 199 reconstruction error: 0.039761\n",
      "Epoch: 0 batch #: 68  of 300 sample #: 199 reconstruction error: 0.057336\n",
      "Epoch: 0 batch #: 69  of 300 sample #: 199 reconstruction error: 0.073799\n",
      "Epoch: 0 batch #: 70  of 300 sample #: 199 reconstruction error: 0.100900\n",
      "Epoch: 0 batch #: 71  of 300 sample #: 199 reconstruction error: 0.080757\n",
      "Epoch: 0 batch #: 72  of 300 sample #: 199 reconstruction error: 0.062946\n",
      "Epoch: 0 batch #: 73  of 300 sample #: 199 reconstruction error: 0.088299\n",
      "Epoch: 0 batch #: 74  of 300 sample #: 199 reconstruction error: 0.094999\n",
      "Epoch: 0 batch #: 75  of 300 sample #: 199 reconstruction error: 0.046982\n",
      "Epoch: 0 batch #: 76  of 300 sample #: 199 reconstruction error: 0.072279\n",
      "Epoch: 0 batch #: 77  of 300 sample #: 199 reconstruction error: 0.114834\n",
      "Epoch: 0 batch #: 78  of 300 sample #: 199 reconstruction error: 0.098692\n",
      "Epoch: 0 batch #: 79  of 300 sample #: 199 reconstruction error: 0.115425\n",
      "Epoch: 0 batch #: 80  of 300 sample #: 199 reconstruction error: 0.031111\n",
      "Epoch: 0 batch #: 81  of 300 sample #: 199 reconstruction error: 0.065410\n",
      "Epoch: 0 batch #: 82  of 300 sample #: 199 reconstruction error: 0.050854\n",
      "Epoch: 0 batch #: 83  of 300 sample #: 199 reconstruction error: 0.082227\n",
      "Epoch: 0 batch #: 84  of 300 sample #: 199 reconstruction error: 0.076637\n",
      "Epoch: 0 batch #: 85  of 300 sample #: 199 reconstruction error: 0.044843\n",
      "Epoch: 0 batch #: 86  of 300 sample #: 199 reconstruction error: 0.085539\n",
      "Epoch: 0 batch #: 87  of 300 sample #: 199 reconstruction error: 0.082708\n",
      "Epoch: 0 batch #: 88  of 300 sample #: 199 reconstruction error: 0.019818\n",
      "Epoch: 0 batch #: 89  of 300 sample #: 199 reconstruction error: 0.064075\n",
      "Epoch: 0 batch #: 90  of 300 sample #: 199 reconstruction error: 0.070823\n",
      "Epoch: 0 batch #: 91  of 300 sample #: 199 reconstruction error: 0.060001\n",
      "Epoch: 0 batch #: 92  of 300 sample #: 199 reconstruction error: 0.063713\n",
      "Epoch: 0 batch #: 93  of 300 sample #: 199 reconstruction error: 0.115072\n",
      "Epoch: 0 batch #: 94  of 300 sample #: 199 reconstruction error: 0.120978\n",
      "Epoch: 0 batch #: 95  of 300 sample #: 199 reconstruction error: 0.056042\n",
      "Epoch: 0 batch #: 96  of 300 sample #: 199 reconstruction error: 0.043086\n",
      "Epoch: 0 batch #: 97  of 300 sample #: 199 reconstruction error: 0.115714\n",
      "Epoch: 0 batch #: 98  of 300 sample #: 199 reconstruction error: 0.105236\n",
      "Epoch: 0 batch #: 99  of 300 sample #: 199 reconstruction error: 0.043250\n",
      "Epoch: 0 batch #: 100  of 300 sample #: 199 reconstruction error: 0.107522\n",
      "Epoch: 0 batch #: 101  of 300 sample #: 199 reconstruction error: 0.086347\n",
      "Epoch: 0 batch #: 102  of 300 sample #: 199 reconstruction error: 0.072223\n",
      "Epoch: 0 batch #: 103  of 300 sample #: 199 reconstruction error: 0.072347\n",
      "Epoch: 0 batch #: 104  of 300 sample #: 199 reconstruction error: 0.072173\n",
      "Epoch: 0 batch #: 105  of 300 sample #: 199 reconstruction error: 0.065363\n",
      "Epoch: 0 batch #: 106  of 300 sample #: 199 reconstruction error: 0.104746\n",
      "Epoch: 0 batch #: 107  of 300 sample #: 199 reconstruction error: 0.146131\n",
      "Epoch: 0 batch #: 108  of 300 sample #: 199 reconstruction error: 0.064720\n",
      "Epoch: 0 batch #: 109  of 300 sample #: 199 reconstruction error: 0.122785\n",
      "Epoch: 0 batch #: 110  of 300 sample #: 199 reconstruction error: 0.053800\n",
      "Epoch: 0 batch #: 111  of 300 sample #: 199 reconstruction error: 0.103298\n",
      "Epoch: 0 batch #: 112  of 300 sample #: 199 reconstruction error: 0.047338\n",
      "Epoch: 0 batch #: 113  of 300 sample #: 199 reconstruction error: 0.090415\n",
      "Epoch: 0 batch #: 114  of 300 sample #: 199 reconstruction error: 0.069242\n",
      "Epoch: 0 batch #: 115  of 300 sample #: 199 reconstruction error: 0.062512\n",
      "Epoch: 0 batch #: 116  of 300 sample #: 199 reconstruction error: 0.052961\n",
      "Epoch: 0 batch #: 117  of 300 sample #: 199 reconstruction error: 0.039641\n",
      "Epoch: 0 batch #: 118  of 300 sample #: 199 reconstruction error: 0.081459\n",
      "Epoch: 0 batch #: 119  of 300 sample #: 199 reconstruction error: 0.123168\n",
      "Epoch: 0 batch #: 120  of 300 sample #: 199 reconstruction error: 0.073300\n",
      "Epoch: 0 batch #: 121  of 300 sample #: 199 reconstruction error: 0.043753\n",
      "Epoch: 0 batch #: 122  of 300 sample #: 199 reconstruction error: 0.105239\n",
      "Epoch: 0 batch #: 123  of 300 sample #: 199 reconstruction error: 0.065804\n",
      "Epoch: 0 batch #: 124  of 300 sample #: 199 reconstruction error: 0.067296\n",
      "Epoch: 0 batch #: 125  of 300 sample #: 199 reconstruction error: 0.046107\n",
      "Epoch: 0 batch #: 126  of 300 sample #: 199 reconstruction error: 0.097537\n",
      "Epoch: 0 batch #: 127  of 300 sample #: 199 reconstruction error: 0.097243\n",
      "Epoch: 0 batch #: 128  of 300 sample #: 199 reconstruction error: 0.062755\n",
      "Epoch: 0 batch #: 129  of 300 sample #: 199 reconstruction error: 0.046878\n",
      "Epoch: 0 batch #: 130  of 300 sample #: 199 reconstruction error: 0.079446\n",
      "Epoch: 0 batch #: 131  of 300 sample #: 199 reconstruction error: 0.053908\n",
      "Epoch: 0 batch #: 132  of 300 sample #: 199 reconstruction error: 0.050953\n",
      "Epoch: 0 batch #: 133  of 300 sample #: 199 reconstruction error: 0.063838\n",
      "Epoch: 0 batch #: 134  of 300 sample #: 199 reconstruction error: 0.121817\n",
      "Epoch: 0 batch #: 135  of 300 sample #: 199 reconstruction error: 0.093573\n",
      "Epoch: 0 batch #: 136  of 300 sample #: 199 reconstruction error: 0.088109\n",
      "Epoch: 0 batch #: 137  of 300 sample #: 199 reconstruction error: 0.066840\n",
      "Epoch: 0 batch #: 138  of 300 sample #: 199 reconstruction error: 0.083326\n",
      "Epoch: 0 batch #: 139  of 300 sample #: 199 reconstruction error: 0.101912\n",
      "Epoch: 0 batch #: 140  of 300 sample #: 199 reconstruction error: 0.071884\n",
      "Epoch: 0 batch #: 141  of 300 sample #: 199 reconstruction error: 0.087702\n",
      "Epoch: 0 batch #: 142  of 300 sample #: 199 reconstruction error: 0.071755\n",
      "Epoch: 0 batch #: 143  of 300 sample #: 199 reconstruction error: 0.054431\n",
      "Epoch: 0 batch #: 144  of 300 sample #: 199 reconstruction error: 0.065597\n",
      "Epoch: 0 batch #: 145  of 300 sample #: 199 reconstruction error: 0.088795\n",
      "Epoch: 0 batch #: 146  of 300 sample #: 199 reconstruction error: 0.119736\n",
      "Epoch: 0 batch #: 147  of 300 sample #: 199 reconstruction error: 0.062877\n",
      "Epoch: 0 batch #: 148  of 300 sample #: 199 reconstruction error: 0.087209\n",
      "Epoch: 0 batch #: 149  of 300 sample #: 199 reconstruction error: 0.043212\n",
      "Epoch: 0 batch #: 150  of 300 sample #: 199 reconstruction error: 0.043099\n",
      "Epoch: 0 batch #: 151  of 300 sample #: 199 reconstruction error: 0.118606\n",
      "Epoch: 0 batch #: 152  of 300 sample #: 199 reconstruction error: 0.082764\n",
      "Epoch: 0 batch #: 153  of 300 sample #: 199 reconstruction error: 0.056886\n",
      "Epoch: 0 batch #: 154  of 300 sample #: 199 reconstruction error: 0.064974\n",
      "Epoch: 0 batch #: 155  of 300 sample #: 199 reconstruction error: 0.068770\n",
      "Epoch: 0 batch #: 156  of 300 sample #: 199 reconstruction error: 0.070465\n",
      "Epoch: 0 batch #: 157  of 300 sample #: 199 reconstruction error: 0.088017\n",
      "Epoch: 0 batch #: 158  of 300 sample #: 199 reconstruction error: 0.070660\n",
      "Epoch: 0 batch #: 159  of 300 sample #: 199 reconstruction error: 0.064508\n",
      "Epoch: 0 batch #: 160  of 300 sample #: 199 reconstruction error: 0.075650\n",
      "Epoch: 0 batch #: 161  of 300 sample #: 199 reconstruction error: 0.090938\n",
      "Epoch: 0 batch #: 162  of 300 sample #: 199 reconstruction error: 0.112668\n",
      "Epoch: 0 batch #: 163  of 300 sample #: 199 reconstruction error: 0.046715\n",
      "Epoch: 0 batch #: 164  of 300 sample #: 199 reconstruction error: 0.084218\n",
      "Epoch: 0 batch #: 165  of 300 sample #: 199 reconstruction error: 0.086647\n",
      "Epoch: 0 batch #: 166  of 300 sample #: 199 reconstruction error: 0.056414\n",
      "Epoch: 0 batch #: 167  of 300 sample #: 199 reconstruction error: 0.088510\n",
      "Epoch: 0 batch #: 168  of 300 sample #: 199 reconstruction error: 0.054599\n",
      "Epoch: 0 batch #: 169  of 300 sample #: 199 reconstruction error: 0.031539\n",
      "Epoch: 0 batch #: 170  of 300 sample #: 199 reconstruction error: 0.068087\n",
      "Epoch: 0 batch #: 171  of 300 sample #: 199 reconstruction error: 0.027830\n",
      "Epoch: 0 batch #: 172  of 300 sample #: 199 reconstruction error: 0.049061\n",
      "Epoch: 0 batch #: 173  of 300 sample #: 199 reconstruction error: 0.072029\n",
      "Epoch: 0 batch #: 174  of 300 sample #: 199 reconstruction error: 0.110014\n",
      "Epoch: 0 batch #: 175  of 300 sample #: 199 reconstruction error: 0.065225\n",
      "Epoch: 0 batch #: 176  of 300 sample #: 199 reconstruction error: 0.037998\n",
      "Epoch: 0 batch #: 177  of 300 sample #: 199 reconstruction error: 0.046106\n",
      "Epoch: 0 batch #: 178  of 300 sample #: 199 reconstruction error: 0.118150\n",
      "Epoch: 0 batch #: 179  of 300 sample #: 199 reconstruction error: 0.087044\n",
      "Epoch: 0 batch #: 180  of 300 sample #: 199 reconstruction error: 0.075293\n",
      "Epoch: 0 batch #: 181  of 300 sample #: 199 reconstruction error: 0.089770\n",
      "Epoch: 0 batch #: 182  of 300 sample #: 199 reconstruction error: 0.069844\n",
      "Epoch: 0 batch #: 183  of 300 sample #: 199 reconstruction error: 0.111020\n",
      "Epoch: 0 batch #: 184  of 300 sample #: 199 reconstruction error: 0.060312\n",
      "Epoch: 0 batch #: 185  of 300 sample #: 199 reconstruction error: 0.060803\n",
      "Epoch: 0 batch #: 186  of 300 sample #: 199 reconstruction error: 0.110832\n",
      "Epoch: 0 batch #: 187  of 300 sample #: 199 reconstruction error: 0.061865\n",
      "Epoch: 0 batch #: 188  of 300 sample #: 199 reconstruction error: 0.106043\n",
      "Epoch: 0 batch #: 189  of 300 sample #: 199 reconstruction error: 0.076836\n",
      "Epoch: 0 batch #: 190  of 300 sample #: 199 reconstruction error: 0.061647\n",
      "Epoch: 0 batch #: 191  of 300 sample #: 199 reconstruction error: 0.108729\n",
      "Epoch: 0 batch #: 192  of 300 sample #: 199 reconstruction error: 0.121710\n",
      "Epoch: 0 batch #: 193  of 300 sample #: 199 reconstruction error: 0.123542\n",
      "Epoch: 0 batch #: 194  of 300 sample #: 199 reconstruction error: 0.073957\n",
      "Epoch: 0 batch #: 195  of 300 sample #: 199 reconstruction error: 0.041652\n",
      "Epoch: 0 batch #: 196  of 300 sample #: 199 reconstruction error: 0.038990\n",
      "Epoch: 0 batch #: 197  of 300 sample #: 199 reconstruction error: 0.059106\n",
      "Epoch: 0 batch #: 198  of 300 sample #: 199 reconstruction error: 0.107856\n",
      "Epoch: 0 batch #: 199  of 300 sample #: 199 reconstruction error: 0.066909\n",
      "Epoch: 0 batch #: 200  of 300 sample #: 199 reconstruction error: 0.096304\n",
      "Epoch: 0 batch #: 201  of 300 sample #: 199 reconstruction error: 0.095709\n",
      "Epoch: 0 batch #: 202  of 300 sample #: 199 reconstruction error: 0.025562\n",
      "Epoch: 0 batch #: 203  of 300 sample #: 199 reconstruction error: 0.087980\n",
      "Epoch: 0 batch #: 204  of 300 sample #: 199 reconstruction error: 0.049784\n",
      "Epoch: 0 batch #: 205  of 300 sample #: 199 reconstruction error: 0.023041\n",
      "Epoch: 0 batch #: 206  of 300 sample #: 199 reconstruction error: 0.067314\n",
      "Epoch: 0 batch #: 207  of 300 sample #: 199 reconstruction error: 0.064066\n",
      "Epoch: 0 batch #: 208  of 300 sample #: 199 reconstruction error: 0.060703\n",
      "Epoch: 0 batch #: 209  of 300 sample #: 199 reconstruction error: 0.038659\n",
      "Epoch: 0 batch #: 210  of 300 sample #: 199 reconstruction error: 0.106030\n",
      "Epoch: 0 batch #: 211  of 300 sample #: 199 reconstruction error: 0.099387\n",
      "Epoch: 0 batch #: 212  of 300 sample #: 199 reconstruction error: 0.093020\n",
      "Epoch: 0 batch #: 213  of 300 sample #: 199 reconstruction error: 0.117895\n",
      "Epoch: 0 batch #: 214  of 300 sample #: 199 reconstruction error: 0.105400\n",
      "Epoch: 0 batch #: 215  of 300 sample #: 199 reconstruction error: 0.030483\n",
      "Epoch: 0 batch #: 216  of 300 sample #: 199 reconstruction error: 0.085501\n",
      "Epoch: 0 batch #: 217  of 300 sample #: 199 reconstruction error: 0.080951\n",
      "Epoch: 0 batch #: 218  of 300 sample #: 199 reconstruction error: 0.076295\n",
      "Epoch: 0 batch #: 219  of 300 sample #: 199 reconstruction error: 0.080415\n",
      "Epoch: 0 batch #: 220  of 300 sample #: 199 reconstruction error: 0.065588\n",
      "Epoch: 0 batch #: 221  of 300 sample #: 199 reconstruction error: 0.085192\n",
      "Epoch: 0 batch #: 222  of 300 sample #: 199 reconstruction error: 0.084335\n",
      "Epoch: 0 batch #: 223  of 300 sample #: 199 reconstruction error: 0.074899\n",
      "Epoch: 0 batch #: 224  of 300 sample #: 199 reconstruction error: 0.077761\n",
      "Epoch: 0 batch #: 225  of 300 sample #: 199 reconstruction error: 0.072129\n",
      "Epoch: 0 batch #: 226  of 300 sample #: 199 reconstruction error: 0.107879\n",
      "Epoch: 0 batch #: 227  of 300 sample #: 199 reconstruction error: 0.081558\n",
      "Epoch: 0 batch #: 228  of 300 sample #: 199 reconstruction error: 0.076810\n",
      "Epoch: 0 batch #: 229  of 300 sample #: 199 reconstruction error: 0.058308\n",
      "Epoch: 0 batch #: 230  of 300 sample #: 199 reconstruction error: 0.035149\n",
      "Epoch: 0 batch #: 231  of 300 sample #: 199 reconstruction error: 0.031987\n",
      "Epoch: 0 batch #: 232  of 300 sample #: 199 reconstruction error: 0.070449\n",
      "Epoch: 0 batch #: 233  of 300 sample #: 199 reconstruction error: 0.080434\n",
      "Epoch: 0 batch #: 234  of 300 sample #: 199 reconstruction error: 0.076076\n",
      "Epoch: 0 batch #: 235  of 300 sample #: 199 reconstruction error: 0.067014\n",
      "Epoch: 0 batch #: 236  of 300 sample #: 199 reconstruction error: 0.081964\n",
      "Epoch: 0 batch #: 237  of 300 sample #: 199 reconstruction error: 0.078559\n",
      "Epoch: 0 batch #: 238  of 300 sample #: 199 reconstruction error: 0.095057\n",
      "Epoch: 0 batch #: 239  of 300 sample #: 199 reconstruction error: 0.028911\n",
      "Epoch: 0 batch #: 240  of 300 sample #: 199 reconstruction error: 0.111022\n",
      "Epoch: 0 batch #: 241  of 300 sample #: 199 reconstruction error: 0.087472\n",
      "Epoch: 0 batch #: 242  of 300 sample #: 199 reconstruction error: 0.065333\n",
      "Epoch: 0 batch #: 243  of 300 sample #: 199 reconstruction error: 0.069405\n",
      "Epoch: 0 batch #: 244  of 300 sample #: 199 reconstruction error: 0.076997\n",
      "Epoch: 0 batch #: 245  of 300 sample #: 199 reconstruction error: 0.055635\n",
      "Epoch: 0 batch #: 246  of 300 sample #: 199 reconstruction error: 0.076870\n",
      "Epoch: 0 batch #: 247  of 300 sample #: 199 reconstruction error: 0.045230\n",
      "Epoch: 0 batch #: 248  of 300 sample #: 199 reconstruction error: 0.062740\n",
      "Epoch: 0 batch #: 249  of 300 sample #: 199 reconstruction error: 0.045701\n",
      "Epoch: 0 batch #: 250  of 300 sample #: 199 reconstruction error: 0.096830\n",
      "Epoch: 0 batch #: 251  of 300 sample #: 199 reconstruction error: 0.048611\n",
      "Epoch: 0 batch #: 252  of 300 sample #: 199 reconstruction error: 0.067576\n",
      "Epoch: 0 batch #: 253  of 300 sample #: 199 reconstruction error: 0.059116\n",
      "Epoch: 0 batch #: 254  of 300 sample #: 199 reconstruction error: 0.031023\n",
      "Epoch: 0 batch #: 255  of 300 sample #: 199 reconstruction error: 0.051591\n",
      "Epoch: 0 batch #: 256  of 300 sample #: 199 reconstruction error: 0.079391\n",
      "Epoch: 0 batch #: 257  of 300 sample #: 199 reconstruction error: 0.071621\n",
      "Epoch: 0 batch #: 258  of 300 sample #: 199 reconstruction error: 0.089234\n",
      "Epoch: 0 batch #: 259  of 300 sample #: 199 reconstruction error: 0.064339\n",
      "Epoch: 0 batch #: 260  of 300 sample #: 199 reconstruction error: 0.104311\n",
      "Epoch: 0 batch #: 261  of 300 sample #: 199 reconstruction error: 0.033957\n",
      "Epoch: 0 batch #: 262  of 300 sample #: 199 reconstruction error: 0.052022\n",
      "Epoch: 0 batch #: 263  of 300 sample #: 199 reconstruction error: 0.090897\n",
      "Epoch: 0 batch #: 264  of 300 sample #: 199 reconstruction error: 0.077186\n",
      "Epoch: 0 batch #: 265  of 300 sample #: 199 reconstruction error: 0.071624\n",
      "Epoch: 0 batch #: 266  of 300 sample #: 199 reconstruction error: 0.034568\n",
      "Epoch: 0 batch #: 267  of 300 sample #: 199 reconstruction error: 0.064690\n",
      "Epoch: 0 batch #: 268  of 300 sample #: 199 reconstruction error: 0.031518\n",
      "Epoch: 0 batch #: 269  of 300 sample #: 199 reconstruction error: 0.090764\n",
      "Epoch: 0 batch #: 270  of 300 sample #: 199 reconstruction error: 0.071097\n",
      "Epoch: 0 batch #: 271  of 300 sample #: 199 reconstruction error: 0.052326\n",
      "Epoch: 0 batch #: 272  of 300 sample #: 199 reconstruction error: 0.045569\n",
      "Epoch: 0 batch #: 273  of 300 sample #: 199 reconstruction error: 0.068178\n",
      "Epoch: 0 batch #: 274  of 300 sample #: 199 reconstruction error: 0.054111\n",
      "Epoch: 0 batch #: 275  of 300 sample #: 199 reconstruction error: 0.102297\n",
      "Epoch: 0 batch #: 276  of 300 sample #: 199 reconstruction error: 0.071926\n",
      "Epoch: 0 batch #: 277  of 300 sample #: 199 reconstruction error: 0.092207\n",
      "Epoch: 0 batch #: 278  of 300 sample #: 199 reconstruction error: 0.052517\n",
      "Epoch: 0 batch #: 279  of 300 sample #: 199 reconstruction error: 0.043638\n",
      "Epoch: 0 batch #: 280  of 300 sample #: 199 reconstruction error: 0.080870\n",
      "Epoch: 0 batch #: 281  of 300 sample #: 199 reconstruction error: 0.081087\n",
      "Epoch: 0 batch #: 282  of 300 sample #: 199 reconstruction error: 0.113849\n",
      "Epoch: 0 batch #: 283  of 300 sample #: 199 reconstruction error: 0.042395\n",
      "Epoch: 0 batch #: 284  of 300 sample #: 199 reconstruction error: 0.060576\n",
      "Epoch: 0 batch #: 285  of 300 sample #: 199 reconstruction error: 0.063635\n",
      "Epoch: 0 batch #: 286  of 300 sample #: 199 reconstruction error: 0.096619\n",
      "Epoch: 0 batch #: 287  of 300 sample #: 199 reconstruction error: 0.071184\n",
      "Epoch: 0 batch #: 288  of 300 sample #: 199 reconstruction error: 0.022130\n",
      "Epoch: 0 batch #: 289  of 300 sample #: 199 reconstruction error: 0.096221\n",
      "Epoch: 0 batch #: 290  of 300 sample #: 199 reconstruction error: 0.096368\n",
      "Epoch: 0 batch #: 291  of 300 sample #: 199 reconstruction error: 0.103911\n",
      "Epoch: 0 batch #: 292  of 300 sample #: 199 reconstruction error: 0.054811\n",
      "Epoch: 0 batch #: 293  of 300 sample #: 199 reconstruction error: 0.058666\n",
      "Epoch: 0 batch #: 294  of 300 sample #: 199 reconstruction error: 0.087688\n",
      "Epoch: 0 batch #: 295  of 300 sample #: 199 reconstruction error: 0.075667\n",
      "Epoch: 0 batch #: 296  of 300 sample #: 199 reconstruction error: 0.020051\n",
      "Epoch: 0 batch #: 297  of 300 sample #: 199 reconstruction error: 0.099710\n",
      "Epoch: 0 batch #: 298  of 300 sample #: 199 reconstruction error: 0.055083\n",
      "Epoch: 0 batch #: 299  of 300 sample #: 199 reconstruction error: 0.048845\n",
      "Epoch: 0 batch #: 300  of 300 sample #: 199 reconstruction error: 0.083960\n"
     ]
    }
   ],
   "source": [
    "#Parameters\n",
    "alpha = 0.01\n",
    "epochs = 1\n",
    "batchsize = 200\n",
    "weights = []\n",
    "errors = []\n",
    "batch_number = 0\n",
    "K = 1\n",
    "\n",
    "#creating datasets\n",
    "train_ds = \\\n",
    "    tf.data.Dataset.from_tensor_slices((trX, trY)).batch(batchsize)\n",
    "\n",
    "for epoch in range(epochs):\n",
    "    for batch_x, batch_y in train_ds:\n",
    "        batch_number += 1\n",
    "        for i_sample in range(batchsize):           \n",
    "            for k in range(K):\n",
    "                v0_state = batch_x[i_sample]\n",
    "                h0_state = hidden_layer(v0_state, W, hb)\n",
    "                v1_state = reconstructed_output(h0_state, W, vb)\n",
    "                h1_state = hidden_layer(v1_state, W, hb)\n",
    "\n",
    "                delta_W = tf.matmul(tf.transpose([v0_state]), h0_state) - tf.matmul(tf.transpose([v1_state]), h1_state)\n",
    "                W = W + alpha * delta_W\n",
    "\n",
    "                vb = vb + alpha * tf.reduce_mean(v0_state - v1_state, 0)\n",
    "                hb = hb + alpha * tf.reduce_mean(h0_state - h1_state, 0) \n",
    "\n",
    "                v0_state = v1_state\n",
    "\n",
    "            if i_sample == batchsize-1:\n",
    "                err = error(batch_x[i_sample], v1_state)\n",
    "                errors.append(err)\n",
    "                weights.append(W)\n",
    "                print ( 'Epoch: %d' % epoch, \n",
    "                       \"batch #: %i \" % batch_number, \"of %i\" % int(60e3/batchsize), \n",
    "                       \"sample #: %i\" % i_sample,\n",
    "                       'reconstruction error: %f' % err)\n",
    "\n"
   ]
  },
  {
   "cell_type": "markdown",
   "metadata": {},
   "source": [
    "Let's take a look at the errors at the end of each batch:\n"
   ]
  },
  {
   "cell_type": "code",
   "execution_count": 24,
   "metadata": {
    "tags": []
   },
   "outputs": [
    {
     "data": {
      "image/png": "[encoded data removed]",
      "text/plain": [
       "<Figure size 640x480 with 1 Axes>"
      ]
     },
     "metadata": {},
     "output_type": "display_data"
    }
   ],
   "source": [
    "import matplotlib.pyplot as plt\n",
    "plt.plot(errors)\n",
    "plt.xlabel(\"Batch Number\")\n",
    "plt.ylabel(\"Error\")\n",
    "plt.show()"
   ]
  },
  {
   "cell_type": "markdown",
   "metadata": {},
   "source": [
    "What is the final weight matrix $W$ after training?\n"
   ]
  },
  {
   "cell_type": "code",
   "execution_count": 25,
   "metadata": {
    "tags": []
   },
   "outputs": [
    {
     "name": "stdout",
     "output_type": "stream",
     "text": [
      "[[-0.24000004 -0.57999974 -0.31999996 ... -0.58999974 -0.3899999\n",
      "  -0.4799998 ]\n",
      " [-0.22000003 -0.5199998  -0.40999988 ... -0.5399998  -0.43999985\n",
      "  -0.43999985]\n",
      " [-0.22000003 -0.55999976 -0.36999992 ... -0.56999975 -0.43999985\n",
      "  -0.43999985]\n",
      " ...\n",
      " [-0.25000003 -0.56999975 -0.3799999  ... -0.6399997  -0.3799999\n",
      "  -0.5099998 ]\n",
      " [-0.24000004 -0.5299998  -0.31999996 ... -0.5099998  -0.33999994\n",
      "  -0.44999984]\n",
      " [-0.23000003 -0.5499998  -0.36999992 ... -0.55999976 -0.3999999\n",
      "  -0.5299998 ]]\n"
     ]
    }
   ],
   "source": [
    "print(W.numpy()) # a weight matrix of shape (50,784)"
   ]
  },
  {
   "cell_type": "markdown",
   "metadata": {},
   "source": [
    "<a id=\"ref5\"></a>\n",
    "<h3>Learned features</h3> \n"
   ]
  },
  {
   "cell_type": "markdown",
   "metadata": {},
   "source": [
    "We can take each hidden unit and visualize the connections between that hidden unit and each element in the input vector. In our case, we have 50 hidden units. Lets visualize those.\n"
   ]
  },
  {
   "cell_type": "markdown",
   "metadata": {},
   "source": [
    "Let's plot the current weights:\n",
    "<b>tile_raster_images</b> helps in generating an easy to grasp image from a set of samples or weights. It transforms the <b>uw</b> (with one flattened image per row of size 784), into an array (of size $28\\times28$) in which images are reshaped and laid out like tiles on a floor.\n"
   ]
  },
  {
   "cell_type": "code",
   "execution_count": 27,
   "metadata": {
    "tags": []
   },
   "outputs": [
    {
     "ename": "NameError",
     "evalue": "name 'tile_raster_images' is not defined",
     "output_type": "error",
     "traceback": [
      "\u001b[0;31m---------------------------------------------------------------------------\u001b[0m",
      "\u001b[0;31mNameError\u001b[0m                                 Traceback (most recent call last)",
      "\u001b[0;32m/tmp/ipykernel_68/557658495.py\u001b[0m in \u001b[0;36m<module>\u001b[0;34m\u001b[0m\n\u001b[0;32m----> 1\u001b[0;31m \u001b[0mtile_raster_images\u001b[0m\u001b[0;34m(\u001b[0m\u001b[0mX\u001b[0m\u001b[0;34m=\u001b[0m\u001b[0mW\u001b[0m\u001b[0;34m.\u001b[0m\u001b[0mnumpy\u001b[0m\u001b[0;34m(\u001b[0m\u001b[0;34m)\u001b[0m\u001b[0;34m.\u001b[0m\u001b[0mT\u001b[0m\u001b[0;34m,\u001b[0m \u001b[0mimg_shape\u001b[0m\u001b[0;34m=\u001b[0m\u001b[0;34m(\u001b[0m\u001b[0;36m28\u001b[0m\u001b[0;34m,\u001b[0m \u001b[0;36m28\u001b[0m\u001b[0;34m)\u001b[0m\u001b[0;34m,\u001b[0m \u001b[0mtile_shape\u001b[0m\u001b[0;34m=\u001b[0m\u001b[0;34m(\u001b[0m\u001b[0;36m5\u001b[0m\u001b[0;34m,\u001b[0m \u001b[0;36m10\u001b[0m\u001b[0;34m)\u001b[0m\u001b[0;34m,\u001b[0m \u001b[0mtile_spacing\u001b[0m\u001b[0;34m=\u001b[0m\u001b[0;34m(\u001b[0m\u001b[0;36m1\u001b[0m\u001b[0;34m,\u001b[0m \u001b[0;36m1\u001b[0m\u001b[0;34m)\u001b[0m\u001b[0;34m)\u001b[0m\u001b[0;34m\u001b[0m\u001b[0;34m\u001b[0m\u001b[0m\n\u001b[0m\u001b[1;32m      2\u001b[0m \u001b[0;32mimport\u001b[0m \u001b[0mmatplotlib\u001b[0m\u001b[0;34m.\u001b[0m\u001b[0mpyplot\u001b[0m \u001b[0;32mas\u001b[0m \u001b[0mplt\u001b[0m\u001b[0;34m\u001b[0m\u001b[0;34m\u001b[0m\u001b[0m\n\u001b[1;32m      3\u001b[0m \u001b[0;32mfrom\u001b[0m \u001b[0mPIL\u001b[0m \u001b[0;32mimport\u001b[0m \u001b[0mImage\u001b[0m\u001b[0;34m\u001b[0m\u001b[0;34m\u001b[0m\u001b[0m\n\u001b[1;32m      4\u001b[0m \u001b[0mget_ipython\u001b[0m\u001b[0;34m(\u001b[0m\u001b[0;34m)\u001b[0m\u001b[0;34m.\u001b[0m\u001b[0mrun_line_magic\u001b[0m\u001b[0;34m(\u001b[0m\u001b[0;34m'matplotlib'\u001b[0m\u001b[0;34m,\u001b[0m \u001b[0;34m'inline'\u001b[0m\u001b[0;34m)\u001b[0m\u001b[0;34m\u001b[0m\u001b[0;34m\u001b[0m\u001b[0m\n\u001b[1;32m      5\u001b[0m \u001b[0mimage\u001b[0m \u001b[0;34m=\u001b[0m \u001b[0mImage\u001b[0m\u001b[0;34m.\u001b[0m\u001b[0mfromarray\u001b[0m\u001b[0;34m(\u001b[0m\u001b[0mtile_raster_images\u001b[0m\u001b[0;34m(\u001b[0m\u001b[0mX\u001b[0m\u001b[0;34m=\u001b[0m\u001b[0mW\u001b[0m\u001b[0;34m.\u001b[0m\u001b[0mnumpy\u001b[0m\u001b[0;34m(\u001b[0m\u001b[0;34m)\u001b[0m\u001b[0;34m.\u001b[0m\u001b[0mT\u001b[0m\u001b[0;34m,\u001b[0m \u001b[0mimg_shape\u001b[0m\u001b[0;34m=\u001b[0m\u001b[0;34m(\u001b[0m\u001b[0;36m28\u001b[0m\u001b[0;34m,\u001b[0m \u001b[0;36m28\u001b[0m\u001b[0;34m)\u001b[0m \u001b[0;34m,\u001b[0m\u001b[0mtile_shape\u001b[0m\u001b[0;34m=\u001b[0m\u001b[0;34m(\u001b[0m\u001b[0;36m5\u001b[0m\u001b[0;34m,\u001b[0m \u001b[0;36m10\u001b[0m\u001b[0;34m)\u001b[0m\u001b[0;34m,\u001b[0m \u001b[0mtile_spacing\u001b[0m\u001b[0;34m=\u001b[0m\u001b[0;34m(\u001b[0m\u001b[0;36m1\u001b[0m\u001b[0;34m,\u001b[0m \u001b[0;36m1\u001b[0m\u001b[0;34m)\u001b[0m\u001b[0;34m)\u001b[0m\u001b[0;34m)\u001b[0m\u001b[0;34m\u001b[0m\u001b[0;34m\u001b[0m\u001b[0m\n",
      "\u001b[0;31mNameError\u001b[0m: name 'tile_raster_images' is not defined"
     ]
    }
   ],
   "source": [
    "tile_raster_images(X=W.numpy().T, img_shape=(28, 28), tile_shape=(5, 10), tile_spacing=(1, 1))\n",
    "import matplotlib.pyplot as plt\n",
    "from PIL import Image\n",
    "%matplotlib inline\n",
    "image = Image.fromarray(tile_raster_images(X=W.numpy().T, img_shape=(28, 28) ,tile_shape=(5, 10), tile_spacing=(1, 1)))\n",
    "### Plot image\n",
    "plt.rcParams['figure.figsize'] = (18.0, 18.0)\n",
    "imgplot = plt.imshow(image)\n",
    "imgplot.set_cmap('gray')  "
   ]
  },
  {
   "cell_type": "markdown",
   "metadata": {},
   "source": [
    "Each tile in the above visualization corresponds to a vector of connections between a hidden unit and visible layer's units. \n"
   ]
  },
  {
   "cell_type": "markdown",
   "metadata": {},
   "source": [
    "Let's look at one of the learned weights corresponding to one of hidden units for example. In this particular square, the gray color represents weight = 0, and the whiter it is, the more positive the weights are (closer to 1). Conversely, the darker pixels are, the more negative the weights. The positive pixels will increase the probability of activation in hidden units (after multiplying by input/visible pixels), and negative pixels will decrease the probability of a unit hidden to be 1 (activated). So, why is this important?  So we can see that this specific square (hidden unit) can detect a feature (e.g. a \"/\" shape) and if it exists in the input.\n"
   ]
  },
  {
   "cell_type": "code",
   "execution_count": 28,
   "metadata": {
    "tags": []
   },
   "outputs": [
    {
     "ename": "NameError",
     "evalue": "name 'tile_raster_images' is not defined",
     "output_type": "error",
     "traceback": [
      "\u001b[0;31m---------------------------------------------------------------------------\u001b[0m",
      "\u001b[0;31mNameError\u001b[0m                                 Traceback (most recent call last)",
      "\u001b[0;32m/tmp/ipykernel_68/3400239828.py\u001b[0m in \u001b[0;36m<module>\u001b[0;34m\u001b[0m\n\u001b[1;32m      1\u001b[0m \u001b[0;32mfrom\u001b[0m \u001b[0mPIL\u001b[0m \u001b[0;32mimport\u001b[0m \u001b[0mImage\u001b[0m\u001b[0;34m\u001b[0m\u001b[0;34m\u001b[0m\u001b[0m\n\u001b[0;32m----> 2\u001b[0;31m \u001b[0mimage\u001b[0m \u001b[0;34m=\u001b[0m \u001b[0mImage\u001b[0m\u001b[0;34m.\u001b[0m\u001b[0mfromarray\u001b[0m\u001b[0;34m(\u001b[0m\u001b[0mtile_raster_images\u001b[0m\u001b[0;34m(\u001b[0m\u001b[0mX\u001b[0m \u001b[0;34m=\u001b[0m\u001b[0mW\u001b[0m\u001b[0;34m.\u001b[0m\u001b[0mnumpy\u001b[0m\u001b[0;34m(\u001b[0m\u001b[0;34m)\u001b[0m\u001b[0;34m.\u001b[0m\u001b[0mT\u001b[0m\u001b[0;34m[\u001b[0m\u001b[0;36m10\u001b[0m\u001b[0;34m:\u001b[0m\u001b[0;36m11\u001b[0m\u001b[0;34m]\u001b[0m\u001b[0;34m,\u001b[0m \u001b[0mimg_shape\u001b[0m\u001b[0;34m=\u001b[0m\u001b[0;34m(\u001b[0m\u001b[0;36m28\u001b[0m\u001b[0;34m,\u001b[0m \u001b[0;36m28\u001b[0m\u001b[0;34m)\u001b[0m\u001b[0;34m,\u001b[0m\u001b[0mtile_shape\u001b[0m\u001b[0;34m=\u001b[0m\u001b[0;34m(\u001b[0m\u001b[0;36m1\u001b[0m\u001b[0;34m,\u001b[0m \u001b[0;36m1\u001b[0m\u001b[0;34m)\u001b[0m\u001b[0;34m,\u001b[0m \u001b[0mtile_spacing\u001b[0m\u001b[0;34m=\u001b[0m\u001b[0;34m(\u001b[0m\u001b[0;36m1\u001b[0m\u001b[0;34m,\u001b[0m \u001b[0;36m1\u001b[0m\u001b[0;34m)\u001b[0m\u001b[0;34m)\u001b[0m\u001b[0;34m)\u001b[0m\u001b[0;34m\u001b[0m\u001b[0;34m\u001b[0m\u001b[0m\n\u001b[0m\u001b[1;32m      3\u001b[0m \u001b[0;31m### Plot image\u001b[0m\u001b[0;34m\u001b[0m\u001b[0;34m\u001b[0m\u001b[0;34m\u001b[0m\u001b[0m\n\u001b[1;32m      4\u001b[0m \u001b[0mplt\u001b[0m\u001b[0;34m.\u001b[0m\u001b[0mrcParams\u001b[0m\u001b[0;34m[\u001b[0m\u001b[0;34m'figure.figsize'\u001b[0m\u001b[0;34m]\u001b[0m \u001b[0;34m=\u001b[0m \u001b[0;34m(\u001b[0m\u001b[0;36m4.0\u001b[0m\u001b[0;34m,\u001b[0m \u001b[0;36m4.0\u001b[0m\u001b[0;34m)\u001b[0m\u001b[0;34m\u001b[0m\u001b[0;34m\u001b[0m\u001b[0m\n\u001b[1;32m      5\u001b[0m \u001b[0mimgplot\u001b[0m \u001b[0;34m=\u001b[0m \u001b[0mplt\u001b[0m\u001b[0;34m.\u001b[0m\u001b[0mimshow\u001b[0m\u001b[0;34m(\u001b[0m\u001b[0mimage\u001b[0m\u001b[0;34m)\u001b[0m\u001b[0;34m\u001b[0m\u001b[0;34m\u001b[0m\u001b[0m\n",
      "\u001b[0;31mNameError\u001b[0m: name 'tile_raster_images' is not defined"
     ]
    }
   ],
   "source": [
    "from PIL import Image\n",
    "image = Image.fromarray(tile_raster_images(X =W.numpy().T[10:11], img_shape=(28, 28),tile_shape=(1, 1), tile_spacing=(1, 1)))\n",
    "### Plot image\n",
    "plt.rcParams['figure.figsize'] = (4.0, 4.0)\n",
    "imgplot = plt.imshow(image)\n",
    "imgplot.set_cmap('gray')  "
   ]
  },
  {
   "cell_type": "markdown",
   "metadata": {},
   "source": [
    "Let's look at the reconstruction of an image now. Imagine that we have a destructed image of figure 3. Lets see if our trained network can fix it:\n",
    "\n",
    "First we plot the image:\n"
   ]
  },
  {
   "cell_type": "code",
   "execution_count": 29,
   "metadata": {
    "tags": []
   },
   "outputs": [
    {
     "name": "stdout",
     "output_type": "stream",
     "text": [
      "--2023-12-24 22:20:29--  https://ibm.box.com/shared/static/vvm1b63uvuxq88vbw9znpwu5ol380mco.jpg\n",
      "Resolving ibm.box.com (ibm.box.com)... 74.112.186.144, 74.112.186.144\n",
      "Connecting to ibm.box.com (ibm.box.com)|74.112.186.144|:443... connected.\n",
      "HTTP request sent, awaiting response... 301 Moved Permanently\n",
      "Location: /public/static/vvm1b63uvuxq88vbw9znpwu5ol380mco.jpg [following]\n",
      "--2023-12-24 22:20:30--  https://ibm.box.com/public/static/vvm1b63uvuxq88vbw9znpwu5ol380mco.jpg\n",
      "Reusing existing connection to ibm.box.com:443.\n",
      "HTTP request sent, awaiting response... 301 Moved Permanently\n",
      "Location: https://ibm.ent.box.com/public/static/vvm1b63uvuxq88vbw9znpwu5ol380mco.jpg [following]\n",
      "--2023-12-24 22:20:30--  https://ibm.ent.box.com/public/static/vvm1b63uvuxq88vbw9znpwu5ol380mco.jpg\n",
      "Resolving ibm.ent.box.com (ibm.ent.box.com)... 74.112.186.144, 74.112.186.144\n",
      "Connecting to ibm.ent.box.com (ibm.ent.box.com)|74.112.186.144|:443... connected.\n",
      "HTTP request sent, awaiting response... 302 Found\n",
      "Location: https://public.boxcloud.com/d/1/b1!7fTiWn45gWmk_uWDTSTfkAnKtWK9Y_-Mn1k3XWIEb38JztCFloYLM4uSEg57v0cAIxdrVYQTYfSLzq3ZBK8XPhkvzQzB0Vzh2oqMJvyNUait6AkvenBDMCmB_UE-b54MmolFk7BMJfXiTbFY8RgDAxtGID7k2sfNx9t0TJIzw_Kh8glslfmIFMtPU41edP6LRDecMyl_pSZSkTXXfHKm4SJwjAkoS3ua7u0iqvmt4baa6BMxqPfwyGAXyHa58efESEi-R1OEYAh5gZKH-Ft3chxd92eL9aWxqDB3NK8_1anaWeVlJB5aXTRXsyl7XWqFxjftrX-W6ctoby2Zz85H-qPhBMpNSJlyzEc9FLI8JQjv64U7mMwR85cZBEOof1e_44ZFOSk7mqm_mYaHa6ifVkAAzdm0kLlzYZJaw0b6mP3ukLyKtOmdWbINAY2ITZ3Gvz0OiZOup5CD-XpESYkpWQW3k8jrgSiDOS1_RlrzoMPB9dXxYEimVThTBjdJnA0Fh9vYtoLJsjtjh9TghGgKoKdjIg1mRWwr_QUieEICtg1eXK8QUQXlYgPthuidGPNU4PUGPtz-DQ4YLTjzxzX-ml_OcUdfWcUrOQVuV24MI471BUbFaN5Gv-e-lTc3lOD_an25-EbzDkvKI8_hvmhtwz4fhoDUVdJZ_03NfzNQGjUILbQ1odifyUv4s9OajSiAVKrXs9fS98Hr0B04k6LuiyX2UM_MKGfK1m7G1Po0WkY7fvdjhBcBfUrhkbPQKqXPhSg3mWGBaLuxlxnvuWaYsOycAZQQUCcJNiSDbJEJK3shP4UZAcvWVMt3dSXNYa-2Rpj8iUNc-9KO4-58TpzeShNn_7bfEfTOs9dBmCSdxeONtWgGHaPFhzgbI9yGMmHeFjMQbBEc4ZuNtqpeGpTN0c5D6vcSq_qra09nQjMEYhmSPECxs70yMEeU9j8ofECDFnYthOn_ra7DMtCNmcfdqxjNr2r4eFwel74j-WoAJYpnYdEwlQONDo0WPGNsOl2qqdQkA-kSJMz9YAVoJlvFiUjQEd3GWmOgxXUUtBBgPCwx8th17IesgmiMbYJbHttruW6umFIfhfdlp9AW5vr563pNcwIK4TAFAK0V5UUgytVbB8Ro8BwtYmrJHYD7b1VLX-A3ddYzcZcXuFrOjjHEL9JRlc27QyQaQ45A0fnSV2vk0VFiH58YF03900aQtsicKXO2p_ex1rT-58415oFJHWSwQ-gZe1oAmueWJrRAhF03sUn_5OzPxEikNBghz65OOrtDKPNlOGZhx4O9OQzkUDQ5MoRnctRBUsgxEoBBpa4PkJWWDBAgD6Rlr0sDyfm7EAsEdBfCusg7E6IDS0kz8yphluZNTLdvTu7uuvvuWZKzexanFeua3q_l_qwYrdFydHDqXVqgakBcoXmzEeBV9u490A../download [following]\n",
      "--2023-12-24 22:20:30--  https://public.boxcloud.com/d/1/b1!7fTiWn45gWmk_uWDTSTfkAnKtWK9Y_-Mn1k3XWIEb38JztCFloYLM4uSEg57v0cAIxdrVYQTYfSLzq3ZBK8XPhkvzQzB0Vzh2oqMJvyNUait6AkvenBDMCmB_UE-b54MmolFk7BMJfXiTbFY8RgDAxtGID7k2sfNx9t0TJIzw_Kh8glslfmIFMtPU41edP6LRDecMyl_pSZSkTXXfHKm4SJwjAkoS3ua7u0iqvmt4baa6BMxqPfwyGAXyHa58efESEi-R1OEYAh5gZKH-Ft3chxd92eL9aWxqDB3NK8_1anaWeVlJB5aXTRXsyl7XWqFxjftrX-W6ctoby2Zz85H-qPhBMpNSJlyzEc9FLI8JQjv64U7mMwR85cZBEOof1e_44ZFOSk7mqm_mYaHa6ifVkAAzdm0kLlzYZJaw0b6mP3ukLyKtOmdWbINAY2ITZ3Gvz0OiZOup5CD-XpESYkpWQW3k8jrgSiDOS1_RlrzoMPB9dXxYEimVThTBjdJnA0Fh9vYtoLJsjtjh9TghGgKoKdjIg1mRWwr_QUieEICtg1eXK8QUQXlYgPthuidGPNU4PUGPtz-DQ4YLTjzxzX-ml_OcUdfWcUrOQVuV24MI471BUbFaN5Gv-e-lTc3lOD_an25-EbzDkvKI8_hvmhtwz4fhoDUVdJZ_03NfzNQGjUILbQ1odifyUv4s9OajSiAVKrXs9fS98Hr0B04k6LuiyX2UM_MKGfK1m7G1Po0WkY7fvdjhBcBfUrhkbPQKqXPhSg3mWGBaLuxlxnvuWaYsOycAZQQUCcJNiSDbJEJK3shP4UZAcvWVMt3dSXNYa-2Rpj8iUNc-9KO4-58TpzeShNn_7bfEfTOs9dBmCSdxeONtWgGHaPFhzgbI9yGMmHeFjMQbBEc4ZuNtqpeGpTN0c5D6vcSq_qra09nQjMEYhmSPECxs70yMEeU9j8ofECDFnYthOn_ra7DMtCNmcfdqxjNr2r4eFwel74j-WoAJYpnYdEwlQONDo0WPGNsOl2qqdQkA-kSJMz9YAVoJlvFiUjQEd3GWmOgxXUUtBBgPCwx8th17IesgmiMbYJbHttruW6umFIfhfdlp9AW5vr563pNcwIK4TAFAK0V5UUgytVbB8Ro8BwtYmrJHYD7b1VLX-A3ddYzcZcXuFrOjjHEL9JRlc27QyQaQ45A0fnSV2vk0VFiH58YF03900aQtsicKXO2p_ex1rT-58415oFJHWSwQ-gZe1oAmueWJrRAhF03sUn_5OzPxEikNBghz65OOrtDKPNlOGZhx4O9OQzkUDQ5MoRnctRBUsgxEoBBpa4PkJWWDBAgD6Rlr0sDyfm7EAsEdBfCusg7E6IDS0kz8yphluZNTLdvTu7uuvvuWZKzexanFeua3q_l_qwYrdFydHDqXVqgakBcoXmzEeBV9u490A../download\n",
      "Resolving public.boxcloud.com (public.boxcloud.com)... 74.112.186.128, 74.112.186.128\n",
      "Connecting to public.boxcloud.com (public.boxcloud.com)|74.112.186.128|:443... connected.\n",
      "HTTP request sent, awaiting response... 200 OK\n",
      "Length: 24383 (24K) [image/jpeg]\n",
      "Saving to: ‘destructed3.jpg’\n",
      "\n",
      "destructed3.jpg     100%[===================>]  23.81K  --.-KB/s    in 0.004s  \n",
      "\n",
      "2023-12-24 22:20:31 (6.14 MB/s) - ‘destructed3.jpg’ saved [24383/24383]\n",
      "\n"
     ]
    },
    {
     "data": {
      "image/png": "[encoded data removed]",
      "text/plain": [
       "<PIL.JpegImagePlugin.JpegImageFile image mode=RGB size=181x181 at 0x7F5BDFD75710>"
      ]
     },
     "execution_count": 29,
     "metadata": {},
     "output_type": "execute_result"
    }
   ],
   "source": [
    "!wget -O destructed3.jpg  https://ibm.box.com/shared/static/vvm1b63uvuxq88vbw9znpwu5ol380mco.jpg\n",
    "img = Image.open('destructed3.jpg')\n",
    "img"
   ]
  },
  {
   "cell_type": "markdown",
   "metadata": {},
   "source": [
    "Now let's pass this image through the neural net:\n"
   ]
  },
  {
   "cell_type": "code",
   "execution_count": 30,
   "metadata": {
    "tags": []
   },
   "outputs": [],
   "source": [
    "# convert the image to a 1d numpy array\n",
    "sample_case = np.array(img.convert('I').resize((28,28))).ravel().reshape((1, -1))/255.0\n",
    "\n",
    "sample_case = tf.cast(sample_case, dtype=tf.float32)"
   ]
  },
  {
   "cell_type": "markdown",
   "metadata": {},
   "source": [
    "Feed the sample case into the network and reconstruct the output:\n"
   ]
  },
  {
   "cell_type": "code",
   "execution_count": 31,
   "metadata": {
    "tags": []
   },
   "outputs": [
    {
     "name": "stdout",
     "output_type": "stream",
     "text": [
      "Probability nodes in hidden layer: tf.Tensor(\n",
      "[[2.4196238e-06 9.9996758e-01 9.9999613e-01 5.8049778e-09 9.9999845e-01\n",
      "  6.3661538e-02 7.2598545e-17 1.6717552e-01 8.3112642e-02 8.8434007e-09\n",
      "  3.3041850e-16 2.5850305e-02 5.1932991e-02 6.3310564e-01 1.3706031e-14\n",
      "  3.7745107e-07 9.9705111e-10 1.9778719e-02 2.1998821e-09 9.9877709e-01\n",
      "  8.8128880e-05 2.0586387e-03 9.9992329e-01 2.0914897e-03 9.9867189e-01\n",
      "  9.9995357e-01 9.9522381e-09 9.9982995e-01 1.0000000e+00 3.7281328e-01\n",
      "  6.5138281e-09 1.0000000e+00 6.5890926e-12 6.6481415e-10 2.7622910e-14\n",
      "  9.9999982e-01 1.5142121e-09 9.9143916e-01 8.8441688e-01 6.1923093e-03\n",
      "  1.1578170e-04 9.9999970e-01 2.2477762e-13 9.7762340e-01 6.6342175e-11\n",
      "  4.8439147e-10 6.4478103e-05 9.9998999e-01 3.0017031e-12 7.1190960e-05]], shape=(1, 50), dtype=float32)\n",
      "activated nodes in hidden layer: tf.Tensor(\n",
      "[[0. 1. 1. 0. 1. 0. 0. 0. 0. 0. 0. 0. 0. 1. 0. 0. 0. 0. 0. 1. 0. 0. 1. 0.\n",
      "  1. 1. 0. 1. 1. 0. 0. 1. 0. 0. 0. 1. 0. 1. 1. 0. 0. 1. 0. 1. 0. 0. 0. 1.\n",
      "  0. 0.]], shape=(1, 50), dtype=float32)\n",
      "tf.Tensor(\n",
      "[[3.61851271e-04 3.30717565e-04 1.98620648e-04 3.40785889e-04\n",
      "  3.11463926e-04 3.30717274e-04 4.24609694e-04 4.73959342e-04\n",
      "  3.40785889e-04 4.16205527e-04 3.30717274e-04 2.81832734e-04\n",
      "  4.10212378e-04 3.68826033e-04 2.08654761e-04 2.01112693e-04\n",
      "  4.03909507e-04 2.81832734e-04 4.78720292e-04 3.95914947e-04\n",
      "  3.51160794e-04 3.34040000e-04 3.24170891e-04 3.05298279e-04\n",
      "  2.70784920e-04 2.81832734e-04 3.47667839e-04 3.91976966e-04\n",
      "  3.91976966e-04 2.47484510e-04 2.81832734e-04 3.30717565e-04\n",
      "  3.63215746e-04 3.41360923e-04 2.20237940e-04 2.60506873e-04\n",
      "  2.71071884e-04 4.11630463e-04 3.84972634e-04 4.71495179e-04\n",
      "  4.24028607e-04 4.73365624e-04 5.15329535e-04 3.70115158e-04\n",
      "  7.61749630e-04 5.90775744e-04 2.73956364e-04 4.07599757e-04\n",
      "  3.49389971e-04 4.31167427e-04 3.78626399e-04 2.99548643e-04\n",
      "  3.84218118e-04 2.99254927e-04 3.24170891e-04 3.20946303e-04\n",
      "  3.58251855e-04 4.78720292e-04 2.58888089e-04 2.60272296e-04\n",
      "  3.17666534e-04 2.17807785e-04 3.21778411e-04 4.17136762e-04\n",
      "  2.44256109e-04 1.82356525e-04 1.83051437e-04 7.51410116e-05\n",
      "  5.53101527e-05 3.25834808e-05 1.32555288e-04 2.41279500e-04\n",
      "  3.00469663e-04 1.21105164e-04 2.02634066e-04 1.03955877e-04\n",
      "  9.39494930e-05 1.83022814e-04 5.04300115e-04 3.68377834e-04\n",
      "  3.01409600e-04 3.36300378e-04 2.08802245e-04 3.14593286e-04\n",
      "  2.42585098e-04 2.21710885e-04 3.51822120e-04 3.14161996e-04\n",
      "  3.80307436e-04 4.84649005e-04 4.26161365e-04 3.46933462e-04\n",
      "  4.07090090e-04 1.23372112e-04 7.66020239e-05 1.33640802e-04\n",
      "  1.26721206e-04 1.88169710e-04 3.70555586e-04 4.53041896e-04\n",
      "  1.05604029e-03 8.66710325e-04 3.32387775e-04 5.59964159e-04\n",
      "  2.47341115e-04 3.66650027e-04 6.43573061e-04 2.97570979e-04\n",
      "  3.87455308e-04 3.87349079e-04 4.75988374e-04 3.84218467e-04\n",
      "  3.76613141e-04 4.49231535e-04 2.87310366e-04 3.58294667e-04\n",
      "  4.54331312e-04 7.88167119e-04 9.01261286e-04 7.98210327e-04\n",
      "  5.37999498e-04 5.27640805e-04 6.25577755e-04 7.40720192e-04\n",
      "  1.49633200e-03 5.64871542e-03 8.21150374e-03 1.50401983e-02\n",
      "  2.08533909e-02 5.01461402e-02 3.16765308e-02 1.73733439e-02\n",
      "  9.58271418e-03 6.88687479e-03 3.15271271e-03 3.96458339e-03\n",
      "  2.28995178e-03 6.99077384e-04 3.72297887e-04 3.02617496e-04\n",
      "  2.65424344e-04 2.70784687e-04 5.09784441e-04 3.66074790e-04\n",
      "  1.15174288e-03 1.61359273e-03 2.55195610e-03 8.83695763e-03\n",
      "  6.08648080e-03 6.00700034e-03 1.43847428e-02 2.31535193e-02\n",
      "  7.38656148e-02 2.36363336e-01 4.13991004e-01 6.31099463e-01\n",
      "  8.07712018e-01 9.08467054e-01 6.77840650e-01 3.71941119e-01\n",
      "  9.67975929e-02 9.54823941e-02 4.90111709e-02 1.04683405e-02\n",
      "  4.73559136e-03 2.23655207e-03 7.00475124e-04 2.72991398e-04\n",
      "  2.76253500e-04 4.96045686e-04 3.23409360e-04 7.42563803e-04\n",
      "  2.45021074e-03 5.46969241e-03 6.67788601e-03 1.86841767e-02\n",
      "  1.45554747e-02 1.28536830e-02 4.88202311e-02 1.64871871e-01\n",
      "  5.00355363e-01 8.99353206e-01 9.08840775e-01 9.33501959e-01\n",
      "  9.61395204e-01 9.57432628e-01 9.27970111e-01 7.47079372e-01\n",
      "  3.00521791e-01 2.94716775e-01 1.36189103e-01 3.93712968e-02\n",
      "  7.26962555e-03 2.48488155e-03 2.19657156e-03 3.08825896e-04\n",
      "  1.80577466e-04 5.25507436e-04 6.49295282e-04 1.46731327e-03\n",
      "  6.11325074e-03 4.39004134e-03 1.22288400e-02 1.98040698e-02\n",
      "  2.62778029e-02 6.08651750e-02 2.24121064e-01 7.08096147e-01\n",
      "  9.19005871e-01 9.56795037e-01 9.66716886e-01 9.69656169e-01\n",
      "  9.36953545e-01 9.10064936e-01 8.11619639e-01 7.46617973e-01\n",
      "  6.71917915e-01 3.42994481e-01 1.40176341e-01 2.69028284e-02\n",
      "  4.64211497e-03 7.49116880e-04 1.17383292e-03 4.37433249e-04\n",
      "  2.53613922e-04 4.64105775e-04 7.98050140e-04 2.35703983e-03\n",
      "  5.27222827e-03 9.51298326e-03 1.86997000e-02 4.33369875e-02\n",
      "  3.90372910e-02 2.52436340e-01 7.04685390e-01 8.91352296e-01\n",
      "  9.29140151e-01 8.90773356e-01 7.56357908e-01 5.02469122e-01\n",
      "  4.04751927e-01 2.07870781e-01 2.90521026e-01 5.31877697e-01\n",
      "  4.82967347e-01 4.25618827e-01 1.19392358e-01 1.42163029e-02\n",
      "  3.24450620e-03 1.03372452e-03 1.07484835e-03 3.54855933e-04\n",
      "  4.57925140e-04 5.89896634e-04 1.39224820e-03 2.48097233e-03\n",
      "  3.81403742e-03 7.91154616e-03 1.87721048e-02 4.55380455e-02\n",
      "  1.50796980e-01 4.37848151e-01 5.98071933e-01 6.24929965e-01\n",
      "  4.98518109e-01 3.50509822e-01 1.12795018e-01 5.84571920e-02\n",
      "  5.38274422e-02 5.45283332e-02 1.52353391e-01 3.87227088e-01\n",
      "  3.22965056e-01 4.05292839e-01 1.47714555e-01 2.93786079e-02\n",
      "  2.25371122e-03 1.32579124e-03 1.05041137e-03 2.13571271e-04\n",
      "  3.69491696e-04 3.45156150e-04 8.60708766e-04 2.95387954e-03\n",
      "  3.01186228e-03 2.76846718e-03 1.40680717e-02 5.42885810e-02\n",
      "  1.17019147e-01 1.56800270e-01 1.29576638e-01 2.00018942e-01\n",
      "  1.09854333e-01 6.42212257e-02 2.80888304e-02 2.98823509e-02\n",
      "  9.15493444e-02 1.94564924e-01 5.06088138e-01 6.11050844e-01\n",
      "  6.05450988e-01 3.65920454e-01 5.95181622e-02 9.87074524e-03\n",
      "  3.78943374e-03 7.93032115e-04 5.74135745e-04 4.43579833e-04\n",
      "  2.92550278e-04 6.76067022e-04 1.04299048e-03 1.46725192e-03\n",
      "  1.13070023e-03 2.88656307e-03 1.03852758e-02 1.77549422e-02\n",
      "  2.45247521e-02 6.43836930e-02 3.30227911e-02 1.88267604e-02\n",
      "  3.74772958e-02 4.40414064e-02 6.43677637e-02 2.17936307e-01\n",
      "  4.44737196e-01 6.24666512e-01 6.06165469e-01 6.18133962e-01\n",
      "  3.30061108e-01 9.07593742e-02 2.03720462e-02 6.23116735e-03\n",
      "  2.02320935e-03 1.16071210e-03 4.65964637e-04 2.50088749e-04\n",
      "  2.90117459e-04 5.26744407e-04 5.76502935e-04 5.62333269e-04\n",
      "  1.14639534e-03 2.74304883e-03 5.03228512e-03 6.97454344e-03\n",
      "  1.04183294e-02 8.76553822e-03 6.35588402e-03 2.37324126e-02\n",
      "  1.19792856e-01 2.72735208e-01 6.13917470e-01 8.25465620e-01\n",
      "  8.69748235e-01 8.64441752e-01 7.10157990e-01 4.29217994e-01\n",
      "  4.58715148e-02 2.58537550e-02 1.14604468e-02 2.52279430e-03\n",
      "  1.10920402e-03 8.53053469e-04 4.12130845e-04 3.91608512e-04\n",
      "  3.22169188e-04 4.01337369e-04 8.46691546e-04 8.44572380e-04\n",
      "  2.02907040e-03 8.77968036e-03 4.88900719e-03 4.47595026e-03\n",
      "  4.59672324e-03 1.88313203e-03 7.26563856e-03 9.69519690e-02\n",
      "  5.38291037e-01 9.06781137e-01 9.63524699e-01 9.59681094e-01\n",
      "  9.27651227e-01 8.72756183e-01 5.07950425e-01 1.30906999e-01\n",
      "  5.12086377e-02 7.55893299e-03 7.58216577e-03 4.25828528e-03\n",
      "  1.48238917e-03 9.59379773e-04 4.20123397e-04 4.00959747e-04\n",
      "  3.07979353e-04 3.36986559e-04 5.49025077e-04 1.25337800e-03\n",
      "  2.75515416e-03 8.83931760e-03 1.02470210e-02 6.55460125e-03\n",
      "  3.80008342e-03 3.36273154e-03 2.79207956e-02 2.81675428e-01\n",
      "  8.60930324e-01 9.50335741e-01 9.86457884e-01 9.44685280e-01\n",
      "  9.41138864e-01 7.75400996e-01 4.36432838e-01 1.23380385e-01\n",
      "  2.51811258e-02 7.94011168e-03 1.12730814e-02 6.72875205e-03\n",
      "  1.88913045e-03 5.05686738e-04 5.51765610e-04 4.36679140e-04\n",
      "  2.14704851e-04 3.68421199e-04 3.85410560e-04 1.11006293e-03\n",
      "  6.98045082e-03 1.00034168e-02 6.09000120e-03 7.24673318e-03\n",
      "  3.47332866e-03 6.26801001e-03 5.93885854e-02 3.81690174e-01\n",
      "  6.70990288e-01 8.13648164e-01 7.76111305e-01 6.71857715e-01\n",
      "  6.49237871e-01 6.84864581e-01 4.60774392e-01 1.13203235e-01\n",
      "  1.49503369e-02 8.47576000e-03 6.95306063e-03 3.27708386e-03\n",
      "  2.17887736e-03 3.44698026e-04 4.86266770e-04 3.30549228e-04\n",
      "  2.60425441e-04 4.88750346e-04 6.91908412e-04 2.40800786e-03\n",
      "  1.89881064e-02 1.36976959e-02 1.39576523e-02 5.32273762e-03\n",
      "  5.62760420e-03 7.38461362e-03 3.44448574e-02 1.03055321e-01\n",
      "  8.41536745e-02 1.12004705e-01 6.27771169e-02 1.07801542e-01\n",
      "  2.88166732e-01 5.09254038e-01 3.67178530e-01 8.47586915e-02\n",
      "  2.33731586e-02 1.02315461e-02 1.69169288e-02 5.81077905e-03\n",
      "  2.26236880e-03 3.38113663e-04 5.82773064e-04 3.03687149e-04\n",
      "  4.37535404e-04 5.40717796e-04 1.06980489e-03 1.00235883e-02\n",
      "  2.36954838e-02 4.57606949e-02 3.74036729e-02 1.11228991e-02\n",
      "  4.39518178e-03 4.27675061e-03 4.29143431e-03 8.16630758e-03\n",
      "  1.14205359e-02 6.58760266e-03 7.62837287e-03 2.66490169e-02\n",
      "  1.15635343e-01 4.11269695e-01 2.16080457e-01 5.94773181e-02\n",
      "  4.23103310e-02 3.96220349e-02 1.99990906e-02 9.40355472e-03\n",
      "  6.42575836e-03 8.40449997e-04 7.38964998e-04 2.18714922e-04\n",
      "  3.81966092e-04 3.70259862e-04 1.79742684e-03 1.58369690e-02\n",
      "  1.05348565e-01 1.87677473e-01 1.68647245e-01 3.01522929e-02\n",
      "  5.44373458e-03 3.47312726e-03 3.80628207e-03 1.35433720e-03\n",
      "  1.27060618e-03 2.08935398e-03 5.59956813e-03 1.19061274e-02\n",
      "  1.17585197e-01 4.03823435e-01 5.05643129e-01 3.08426142e-01\n",
      "  1.41672149e-01 5.62433079e-02 1.57419257e-02 3.03180404e-02\n",
      "  5.53996256e-03 1.68757082e-03 4.59634000e-04 2.29071447e-04\n",
      "  3.42997577e-04 5.39743807e-04 5.33065572e-03 7.70102367e-02\n",
      "  3.88758063e-01 4.41336870e-01 4.80292290e-01 1.26689553e-01\n",
      "  2.52764728e-02 1.44530954e-02 7.60386838e-03 5.70234796e-03\n",
      "  7.99283665e-03 2.84884754e-03 2.49264739e-03 2.96135247e-02\n",
      "  1.91120043e-01 4.53701943e-01 6.02912188e-01 3.15211952e-01\n",
      "  1.00893266e-01 2.33799443e-02 1.23724528e-02 6.75274432e-03\n",
      "  5.16973436e-03 1.74849981e-03 1.13281654e-03 4.37501410e-04\n",
      "  3.14592995e-04 3.94412811e-04 5.30679850e-03 1.07191443e-01\n",
      "  3.75214845e-01 6.12503588e-01 7.71884084e-01 5.59371412e-01\n",
      "  2.82407939e-01 4.58081514e-02 3.97659726e-02 1.90851837e-02\n",
      "  1.08260391e-02 5.80376154e-03 9.80035961e-03 5.64049296e-02\n",
      "  3.66300017e-01 6.95421278e-01 5.40542245e-01 2.04916269e-01\n",
      "  5.72783165e-02 1.21877026e-02 8.12030956e-03 4.62314393e-03\n",
      "  2.87616462e-03 1.16093981e-03 9.59225872e-04 4.17692674e-04\n",
      "  3.09540686e-04 2.76535458e-04 3.86412186e-03 1.55210450e-01\n",
      "  5.47692180e-01 6.78737879e-01 7.29361057e-01 7.14825511e-01\n",
      "  4.64745939e-01 1.66561797e-01 1.44339859e-01 7.44128227e-02\n",
      "  3.16858366e-02 2.46564429e-02 1.04154713e-01 2.56368816e-01\n",
      "  5.52547932e-01 5.64882278e-01 3.26212138e-01 8.21296275e-02\n",
      "  1.90185439e-02 8.61309189e-03 2.76427623e-03 2.54759029e-03\n",
      "  2.25907355e-03 1.59705908e-03 4.48475039e-04 4.08879947e-04\n",
      "  3.28533526e-04 3.93856346e-04 1.81453291e-03 5.31040058e-02\n",
      "  2.25964844e-01 5.43416202e-01 8.78536820e-01 9.13069189e-01\n",
      "  7.03697383e-01 6.42931283e-01 5.15990734e-01 5.57253063e-01\n",
      "  2.22513571e-01 1.85857534e-01 3.64640653e-01 4.78902906e-01\n",
      "  4.18874592e-01 1.63871318e-01 5.25938570e-02 7.25279422e-03\n",
      "  4.44193091e-03 2.44634529e-03 2.31547863e-03 2.33017118e-03\n",
      "  1.29489473e-03 1.12305360e-03 4.61095711e-04 6.28637208e-04\n",
      "  2.55019550e-04 4.59957897e-04 5.64717804e-04 8.11041519e-03\n",
      "  1.43583938e-01 4.67629582e-01 7.60549188e-01 9.30213511e-01\n",
      "  9.05320644e-01 8.56070280e-01 8.72122228e-01 8.21029603e-01\n",
      "  4.93971616e-01 2.82230347e-01 2.01148197e-01 2.03361720e-01\n",
      "  1.06696345e-01 5.47665060e-02 1.41434623e-02 3.39726475e-03\n",
      "  4.49080346e-03 9.88075160e-04 1.30457489e-03 2.24322453e-03\n",
      "  1.59956631e-03 6.26694586e-04 4.75075009e-04 2.52482656e-04\n",
      "  1.69258332e-04 2.00616458e-04 4.42035118e-04 1.60439103e-03\n",
      "  1.74216647e-02 1.12211838e-01 2.97884822e-01 6.07295573e-01\n",
      "  5.77212870e-01 7.07901120e-01 6.64756835e-01 5.50558567e-01\n",
      "  3.21220607e-01 1.39491692e-01 5.26950248e-02 4.86058965e-02\n",
      "  4.93954830e-02 1.83122717e-02 5.51970536e-03 1.33911788e-03\n",
      "  2.17087613e-03 1.14423677e-03 8.74680991e-04 5.55258477e-04\n",
      "  6.89580280e-04 3.19991843e-04 3.53411800e-04 4.28875152e-04\n",
      "  3.20946303e-04 2.26188597e-04 3.50226182e-04 3.42796004e-04\n",
      "  8.82494554e-04 5.38942451e-03 1.50774140e-02 4.72336411e-02\n",
      "  4.95447703e-02 2.65903436e-02 2.17894353e-02 1.54130431e-02\n",
      "  7.70873064e-03 1.07605681e-02 9.00082570e-03 1.55902607e-02\n",
      "  2.12610923e-02 4.71619330e-03 2.70955544e-03 8.80186853e-04\n",
      "  6.63133396e-04 6.58727949e-04 3.78523167e-04 4.04956663e-04\n",
      "  2.52087222e-04 4.79734474e-04 3.12283111e-04 3.54688847e-04\n",
      "  3.58252175e-04 3.08365677e-04 2.52482656e-04 3.14396020e-04\n",
      "  3.03639652e-04 1.19236927e-03 2.64224363e-03 2.28091888e-03\n",
      "  1.80060021e-03 2.34342669e-03 1.35805819e-03 7.52997992e-04\n",
      "  9.49961366e-04 7.08020059e-04 1.23415119e-03 1.67371077e-03\n",
      "  2.12629908e-03 1.78928778e-03 1.52399961e-03 4.26864339e-04\n",
      "  6.05543610e-04 3.56893230e-04 2.77328101e-04 3.34105891e-04\n",
      "  3.49786744e-04 2.91325588e-04 4.50854190e-04 3.17754078e-04\n",
      "  2.93330901e-04 3.02261673e-04 3.11463926e-04 2.47484510e-04\n",
      "  3.85848572e-04 3.51023366e-04 4.78458009e-04 6.02466927e-04\n",
      "  9.11092444e-04 8.86097783e-04 1.37534074e-03 1.37728080e-03\n",
      "  5.49177115e-04 4.99598391e-04 4.53176879e-04 5.38140244e-04\n",
      "  1.00276421e-03 9.60619189e-04 6.68716093e-04 4.55669157e-04\n",
      "  2.75097293e-04 4.10341454e-04 3.56361183e-04 2.77230021e-04\n",
      "  5.29041106e-04 1.57817281e-04 3.24170891e-04 2.81832472e-04]], shape=(1, 784), dtype=float32)\n"
     ]
    }
   ],
   "source": [
    "hh0_p = tf.nn.sigmoid(tf.matmul(sample_case, W) + hb)\n",
    "hh0_s = tf.round(hh0_p)\n",
    "\n",
    "print(\"Probability nodes in hidden layer:\" ,hh0_p)\n",
    "print(\"activated nodes in hidden layer:\" ,hh0_s)\n",
    "\n",
    "# reconstruct\n",
    "vv1_p = tf.nn.sigmoid(tf.matmul(hh0_s, tf.transpose(W)) + vb)\n",
    "\n",
    "print(vv1_p)\n",
    "#rec_prob = sess.run(vv1_p, feed_dict={ hh0_s: hh0_s_val, W: prv_w, vb: prv_vb})"
   ]
  },
  {
   "cell_type": "markdown",
   "metadata": {},
   "source": [
    "Here we plot the reconstructed image:\n"
   ]
  },
  {
   "cell_type": "code",
   "execution_count": 32,
   "metadata": {
    "tags": []
   },
   "outputs": [
    {
     "ename": "NameError",
     "evalue": "name 'tile_raster_images' is not defined",
     "output_type": "error",
     "traceback": [
      "\u001b[0;31m---------------------------------------------------------------------------\u001b[0m",
      "\u001b[0;31mNameError\u001b[0m                                 Traceback (most recent call last)",
      "\u001b[0;32m/tmp/ipykernel_68/3803996827.py\u001b[0m in \u001b[0;36m<module>\u001b[0;34m\u001b[0m\n\u001b[0;32m----> 1\u001b[0;31m \u001b[0mimg\u001b[0m \u001b[0;34m=\u001b[0m \u001b[0mImage\u001b[0m\u001b[0;34m.\u001b[0m\u001b[0mfromarray\u001b[0m\u001b[0;34m(\u001b[0m\u001b[0mtile_raster_images\u001b[0m\u001b[0;34m(\u001b[0m\u001b[0mX\u001b[0m\u001b[0;34m=\u001b[0m\u001b[0mvv1_p\u001b[0m\u001b[0;34m.\u001b[0m\u001b[0mnumpy\u001b[0m\u001b[0;34m(\u001b[0m\u001b[0;34m)\u001b[0m\u001b[0;34m,\u001b[0m \u001b[0mimg_shape\u001b[0m\u001b[0;34m=\u001b[0m\u001b[0;34m(\u001b[0m\u001b[0;36m28\u001b[0m\u001b[0;34m,\u001b[0m \u001b[0;36m28\u001b[0m\u001b[0;34m)\u001b[0m\u001b[0;34m,\u001b[0m\u001b[0mtile_shape\u001b[0m\u001b[0;34m=\u001b[0m\u001b[0;34m(\u001b[0m\u001b[0;36m1\u001b[0m\u001b[0;34m,\u001b[0m \u001b[0;36m1\u001b[0m\u001b[0;34m)\u001b[0m\u001b[0;34m,\u001b[0m \u001b[0mtile_spacing\u001b[0m\u001b[0;34m=\u001b[0m\u001b[0;34m(\u001b[0m\u001b[0;36m1\u001b[0m\u001b[0;34m,\u001b[0m \u001b[0;36m1\u001b[0m\u001b[0;34m)\u001b[0m\u001b[0;34m)\u001b[0m\u001b[0;34m)\u001b[0m\u001b[0;34m\u001b[0m\u001b[0;34m\u001b[0m\u001b[0m\n\u001b[0m\u001b[1;32m      2\u001b[0m \u001b[0mplt\u001b[0m\u001b[0;34m.\u001b[0m\u001b[0mrcParams\u001b[0m\u001b[0;34m[\u001b[0m\u001b[0;34m'figure.figsize'\u001b[0m\u001b[0;34m]\u001b[0m \u001b[0;34m=\u001b[0m \u001b[0;34m(\u001b[0m\u001b[0;36m4.0\u001b[0m\u001b[0;34m,\u001b[0m \u001b[0;36m4.0\u001b[0m\u001b[0;34m)\u001b[0m\u001b[0;34m\u001b[0m\u001b[0;34m\u001b[0m\u001b[0m\n\u001b[1;32m      3\u001b[0m \u001b[0mimgplot\u001b[0m \u001b[0;34m=\u001b[0m \u001b[0mplt\u001b[0m\u001b[0;34m.\u001b[0m\u001b[0mimshow\u001b[0m\u001b[0;34m(\u001b[0m\u001b[0mimg\u001b[0m\u001b[0;34m)\u001b[0m\u001b[0;34m\u001b[0m\u001b[0;34m\u001b[0m\u001b[0m\n\u001b[1;32m      4\u001b[0m \u001b[0mimgplot\u001b[0m\u001b[0;34m.\u001b[0m\u001b[0mset_cmap\u001b[0m\u001b[0;34m(\u001b[0m\u001b[0;34m'gray'\u001b[0m\u001b[0;34m)\u001b[0m\u001b[0;34m\u001b[0m\u001b[0;34m\u001b[0m\u001b[0m\n",
      "\u001b[0;31mNameError\u001b[0m: name 'tile_raster_images' is not defined"
     ]
    }
   ],
   "source": [
    "img = Image.fromarray(tile_raster_images(X=vv1_p.numpy(), img_shape=(28, 28),tile_shape=(1, 1), tile_spacing=(1, 1)))\n",
    "plt.rcParams['figure.figsize'] = (4.0, 4.0)\n",
    "imgplot = plt.imshow(img)\n",
    "imgplot.set_cmap('gray') "
   ]
  },
  {
   "cell_type": "markdown",
   "metadata": {},
   "source": [
    "<hr>\n",
    "\n",
    "## Want to learn more?\n",
    "\n",
    "Also, you can use __Watson Studio__ to run these notebooks faster with bigger datasets.__Watson Studio__ is IBM’s leading cloud solution for data scientists, built by data scientists. With Jupyter notebooks, RStudio, Apache Spark and popular libraries pre-packaged in the cloud, __Watson Studio__ enables data scientists to collaborate on their projects without having to install anything. Join the fast-growing community of __Watson Studio__ users today with a free account at [Watson Studio](https://cocl.us/ML0120EN_DSX).This is the end of this lesson. Thank you for reading this notebook, and good luck on your studies.\n"
   ]
  },
  {
   "cell_type": "markdown",
   "metadata": {},
   "source": [
    "### Thanks for completing this lesson!\n",
    "\n",
    "Notebook created by: <a href = \"https://ca.linkedin.com/in/saeedaghabozorgi\">Saeed Aghabozorgi</a>\n",
    "\n",
    "Updated to TF 2.X by  <a href=\"https://ca.linkedin.com/in/nilmeier\"> Jerome Nilmeier</a><br />\n"
   ]
  },
  {
   "cell_type": "markdown",
   "metadata": {},
   "source": [
    "### References:\n",
    "https://en.wikipedia.org/wiki/Restricted_Boltzmann_machine  \n",
    "http://deeplearning.net/tutorial/rbm.html  \n",
    "http://www.cs.utoronto.ca/~hinton/absps/netflixICML.pdf<br>\n",
    "http://imonad.com/rbm/restricted-boltzmann-machine/  \n"
   ]
  },
  {
   "cell_type": "markdown",
   "metadata": {},
   "source": [
    "<hr>\n",
    "\n",
    "Copyright &copy; 2018 [Cognitive Class](https://cocl.us/DX0108EN_CC). This notebook and its source code are released under the terms of the [MIT License](https://bigdatauniversity.com/mit-license/).\n"
   ]
  }
 ],
 "metadata": {
  "kernelspec": {
   "display_name": "Python",
   "language": "python",
   "name": "conda-env-python-py"
  },
  "language_info": {
   "codemirror_mode": {
    "name": "ipython",
    "version": 3
   },
   "file_extension": ".py",
   "mimetype": "text/x-python",
   "name": "python",
   "nbconvert_exporter": "python",
   "pygments_lexer": "ipython3",
   "version": "3.7.12"
  }
 },
 "nbformat": 4,
 "nbformat_minor": 4
}
