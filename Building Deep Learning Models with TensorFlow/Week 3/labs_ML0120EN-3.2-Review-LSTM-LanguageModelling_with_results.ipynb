{
 "cells": [
  {
   "cell_type": "markdown",
   "metadata": {},
   "source": [
    "<img src=\"https://cf-courses-data.s3.us.cloud-object-storage.appdomain.cloud/IBMDeveloperSkillsNetwork-DL0120EN-SkillsNetwork/images/IDSN-logo.png\" width=\"300\" alt=\"cognitiveclass.ai logo\">\n",
    "\n",
    "<h1 align=\"center\"><font size=\"5\">RECURRENT NETWORKS and LSTM IN DEEP LEARNING</font></h1>\n"
   ]
  },
  {
   "cell_type": "markdown",
   "metadata": {},
   "source": [
    "Estimated time needed: **30** minutes\n"
   ]
  },
  {
   "cell_type": "markdown",
   "metadata": {},
   "source": [
    "<h2>Applying Recurrent Neural Networks/LSTM for Language Modeling</h2>\n",
    "Hello and welcome to this part. In this notebook, we will go over the topic of Language Modelling, and create a Recurrent Neural Network model based on the Long Short-Term Memory unit to train and benchmark on the Penn Treebank dataset. By the end of this notebook, you should be able to understand how TensorFlow builds and executes a RNN model for Language Modelling.\n"
   ]
  },
  {
   "cell_type": "markdown",
   "metadata": {},
   "source": [
    "<h2>The Objective</h2>\n",
    "By now, you should have an understanding of how Recurrent Networks work -- a specialized model to process sequential data by keeping track of the \"state\" or context. In this notebook, we go over a TensorFlow code snippet for creating a model focused on <b>Language Modelling</b> -- a very relevant task that is the cornerstone of many different linguistic problems such as <b>Speech Recognition, Machine Translation and Image Captioning</b>. For this, we will be using the Penn Treebank dataset, which is an often-used dataset for benchmarking Language Modelling models.\n"
   ]
  },
  {
   "cell_type": "markdown",
   "metadata": {},
   "source": [
    "\n",
    "<h2>Table of Contents</h2>\n",
    "<ol>\n",
    "    <li><a href=\"#language_modelling\">What exactly is Language Modelling?</a></li>\n",
    "    <li><a href=\"#treebank_dataset\">The Penn Treebank dataset</a></li>\n",
    "    <li><a href=\"#word_embedding\">Word Embedding</a></li>\n",
    "    <li><a href=\"#building_lstm_model\">Building the LSTM model for Language Modeling</a></li>\n",
    "    <li><a href=\"#ltsm\">LTSM</a></li>\n",
    "</ol>\n",
    "<p></p>\n",
    "</div>\n",
    "<br>\n"
   ]
  },
  {
   "cell_type": "markdown",
   "metadata": {},
   "source": [
    "--------\n"
   ]
  },
  {
   "cell_type": "markdown",
   "metadata": {},
   "source": [
    "<a id=\"language_modelling\"></a>\n",
    "<h2>What exactly is Language Modelling?</h2>\n",
    "Language Modelling, to put it simply, <b>is the task of assigning probabilities to sequences of words</b>. This means that, given a context of one or a sequence of words in the language the model was trained on, the model should provide the next most probable words or sequence of words that follows from the given sequence of words the sentence. Language Modelling is one of the most important tasks in Natural Language Processing.\n",
    "\n",
    "<img src=\"https://ibm.box.com/shared/static/1d1i5gub6wljby2vani2vzxp0xsph702.png\" width=\"1080\">\n",
    "<center><i>Example of a sentence being predicted</i></center>\n",
    "<br><br>\n",
    "In this example, one can see the predictions for the next word of a sentence, given the context \"This is an\". As you can see, this boils down to a sequential data analysis task -- you are given a word or a sequence of words (the input data), and, given the context (the state), you need to find out what is the next word (the prediction). This kind of analysis is very important for language-related tasks such as <b>Speech Recognition, Machine Translation, Image Captioning, Text Correction</b> and many other very relevant problems. \n",
    "\n",
    "<img src=\"https://ibm.box.com/shared/static/az39idf9ipfdpc5ugifpgxnydelhyf3i.png\" width=\"1080\">\n",
    "<center><i>The above example is a schema of an RNN in execution</i></center>\n",
    "<br><br>\n",
    "As the above image shows, Recurrent Network models fit this problem like a glove. Alongside LSTM and its capacity to maintain the model's state for over one thousand time steps, we have all the tools we need to undertake this problem. The goal for this notebook is to create a model that can reach <b>low levels of perplexity</b> on our desired dataset.\n",
    "\n",
    "For Language Modelling problems, <b>perplexity</b> is the way to gauge efficiency. Perplexity is simply a measure of how well a probabilistic model is able to predict its sample. A higher-level way to explain this would be saying that <b>low perplexity means a higher degree of trust in the predictions the model makes</b>. Therefore, the lower perplexity is, the better.\n"
   ]
  },
  {
   "cell_type": "markdown",
   "metadata": {},
   "source": [
    "<a id=\"treebank_dataset\"></a>\n",
    "<h2>The Penn Treebank dataset</h2>\n",
    "Historically, datasets big enough for Natural Language Processing are hard to come by. This is in part due to the necessity of the sentences to be broken down and tagged with a certain degree of correctness -- or else the models trained on it won't be able to be correct at all. This means that we need a <b>large amount of data, annotated by or at least corrected by humans</b>. This is, of course, not an easy task at all.\n",
    "\n",
    "The Penn Treebank, or PTB for short, is a dataset maintained by the University of Pennsylvania. It is <i>huge</i> -- there are over <b>four million and eight hundred thousand</b> annotated words in it, all corrected by humans. It is composed of many different sources, from abstracts of Department of Energy papers to texts from the Library of America. Since it is verifiably correct and of such a huge size, the Penn Treebank is commonly used as a benchmark dataset for Language Modelling.\n",
    "\n",
    "The dataset is divided in different kinds of annotations, such as Piece-of-Speech, Syntactic and Semantic skeletons. For this example, we will simply use a sample of clean, non-annotated words (with the exception of one tag --<code>&lt;unk&gt;</code>\n",
    ", which is used for rare words such as uncommon proper nouns) for our model. This means that we just want to predict what the next words would be, not what they mean in context or their classes on a given sentence.\n",
    "\n",
    "<center>Example of text from the dataset we are going to use, <b>ptb.train</b></center>\n",
    "<br><br>\n",
    "\n",
    "<div class=\"alert alert-block alert-info\" style=\"margin-top: 20px\">\n",
    "    <center>the percentage of lung cancer deaths among the workers at the west <code>&lt;unk&gt;</code> mass. paper factory appears to be the highest for any asbestos workers studied in western industrialized countries he said \n",
    " the plant which is owned by <code>&lt;unk&gt;</code> & <code>&lt;unk&gt;</code> co. was under contract with <code>&lt;unk&gt;</code> to make the cigarette filters \n",
    " the finding probably will support those who argue that the U.S. should regulate the class of asbestos including <code>&lt;unk&gt;</code> more <code>&lt;unk&gt;</code> than the common kind of asbestos <code>&lt;unk&gt;</code> found in most schools and other buildings dr. <code>&lt;unk&gt;</code> said</center>\n",
    "</div>\n"
   ]
  },
  {
   "cell_type": "markdown",
   "metadata": {},
   "source": [
    "<a id=\"word_embedding\"></a>\n",
    "<h2>Word Embeddings</h2><br/>\n",
    "\n",
    "For better processing, in this example, we will make use of <a href=\"https://www.tensorflow.org/tutorials/word2vec/?utm_medium=Exinfluencer&utm_source=Exinfluencer&utm_content=000026UJ&utm_term=10006555&utm_id=NA-SkillsNetwork-Channel-SkillsNetworkCoursesIBMDeveloperSkillsNetworkDL0120ENSkillsNetwork954-2023-01-01\"><b>word embeddings</b></a>, which is <b>a way of representing sentence structures or words as n-dimensional vectors (where n is a reasonably high number, such as 200 or 500) of real numbers</b>. Basically, we will assign each word a randomly-initialized vector, and input those into the network to be processed. After a number of iterations, these vectors are expected to assume values that help the network to correctly predict what it needs to -- in our case, the probable next word in the sentence. This is shown to be a very effective task in Natural Language Processing, and is a commonplace practice.\n",
    "<br><br>\n",
    "<font size=\"4\"><strong>\n",
    "$$Vec(\"Example\") = [0.02, 0.00, 0.00, 0.92, 0.30, \\ldots]$$\n",
    "</strong></font>\n",
    "<br>\n",
    "Word Embedding tends to group up similarly used words <i>reasonably</i> close together in the vectorial space. For example, if we use T-SNE (a dimensional reduction visualization algorithm) to flatten the dimensions of our vectors into a 2-dimensional space and plot these words in a 2-dimensional space, we might see something like this:\n",
    "\n",
    "<img src=\"https://ibm.box.com/shared/static/bqhc5dg879gcoabzhxra1w8rkg3od1cu.png\" width=\"800\">\n",
    "<center><i>T-SNE Mockup with clusters marked for easier visualization</i></center>\n",
    "<br><br>\n",
    "As you can see, words that are frequently used together, in place of each other, or in the same places as them tend to be grouped together -- being closer together the higher they are correlated. For example, \"None\" is pretty semantically close to \"Zero\", while a phrase that uses \"Italy\", you could probably also fit \"Germany\" in it, with little damage to the sentence structure. The vectorial \"closeness\" for similar words like this is a great indicator of a well-built model.\n",
    "\n",
    "<hr>\n",
    " \n"
   ]
  },
  {
   "cell_type": "markdown",
   "metadata": {},
   "source": [
    "We need to import the necessary modules for our code. We need <b><code>numpy</code></b> and <b><code>tensorflow</code></b>, obviously. Additionally, we can import directly the <b><code>tensorflow.models.rnn</code></b> model, which includes the function for building RNNs, and <b><code>tensorflow.models.rnn.ptb.reader</code></b> which is the helper module for getting the input data from the dataset we just downloaded.\n",
    "\n",
    "If you want to learn more take a look at https://github.com/tensorflow/models/blob/master/tutorials/rnn/ptb/reader.py\n"
   ]
  },
  {
   "cell_type": "code",
   "execution_count": 1,
   "metadata": {
    "tags": []
   },
   "outputs": [
    {
     "name": "stdout",
     "output_type": "stream",
     "text": [
      "Collecting tensorflow==2.9.0\n",
      "  Downloading tensorflow-2.9.0-cp37-cp37m-manylinux_2_17_x86_64.manylinux2014_x86_64.whl (511.7 MB)\n",
      "\u001b[2K     \u001b[90m━━━━━━━━━━━━━━━━━━━━━━━━━━━━━━━━━━━━━\u001b[0m \u001b[32m511.7/511.7 MB\u001b[0m \u001b[31m880.7 kB/s\u001b[0m eta \u001b[36m0:00:00\u001b[0m00:01\u001b[0m00:01\u001b[0m\n",
      "\u001b[?25hRequirement already satisfied: absl-py>=1.0.0 in /home/jupyterlab/conda/envs/python/lib/python3.7/site-packages (from tensorflow==2.9.0) (1.4.0)\n",
      "Collecting astunparse>=1.6.0 (from tensorflow==2.9.0)\n",
      "  Downloading astunparse-1.6.3-py2.py3-none-any.whl (12 kB)\n",
      "Collecting flatbuffers<2,>=1.12 (from tensorflow==2.9.0)\n",
      "  Downloading flatbuffers-1.12-py2.py3-none-any.whl (15 kB)\n",
      "Collecting gast<=0.4.0,>=0.2.1 (from tensorflow==2.9.0)\n",
      "  Downloading gast-0.4.0-py3-none-any.whl (9.8 kB)\n",
      "Requirement already satisfied: google-pasta>=0.1.1 in /home/jupyterlab/conda/envs/python/lib/python3.7/site-packages (from tensorflow==2.9.0) (0.2.0)\n",
      "Requirement already satisfied: grpcio<2.0,>=1.24.3 in /home/jupyterlab/conda/envs/python/lib/python3.7/site-packages (from tensorflow==2.9.0) (1.48.1)\n",
      "Collecting h5py>=2.9.0 (from tensorflow==2.9.0)\n",
      "  Downloading h5py-3.8.0-cp37-cp37m-manylinux_2_17_x86_64.manylinux2014_x86_64.whl (4.3 MB)\n",
      "\u001b[2K     \u001b[90m━━━━━━━━━━━━━━━━━━━━━━━━━━━━━━━━━━━━━━━━\u001b[0m \u001b[32m4.3/4.3 MB\u001b[0m \u001b[31m36.6 MB/s\u001b[0m eta \u001b[36m0:00:00\u001b[0m00:01\u001b[0m00:01\u001b[0m\n",
      "\u001b[?25hCollecting keras<2.10.0,>=2.9.0rc0 (from tensorflow==2.9.0)\n",
      "  Downloading keras-2.9.0-py2.py3-none-any.whl (1.6 MB)\n",
      "\u001b[2K     \u001b[90m━━━━━━━━━━━━━━━━━━━━━━━━━━━━━━━━━━━━━━━━\u001b[0m \u001b[32m1.6/1.6 MB\u001b[0m \u001b[31m36.0 MB/s\u001b[0m eta \u001b[36m0:00:00\u001b[0m:00:01\u001b[0m\n",
      "\u001b[?25hRequirement already satisfied: keras-preprocessing>=1.1.1 in /home/jupyterlab/conda/envs/python/lib/python3.7/site-packages (from tensorflow==2.9.0) (1.1.2)\n",
      "Collecting libclang>=13.0.0 (from tensorflow==2.9.0)\n",
      "  Downloading libclang-16.0.6-py2.py3-none-manylinux2010_x86_64.whl (22.9 MB)\n",
      "\u001b[2K     \u001b[90m━━━━━━━━━━━━━━━━━━━━━━━━━━━━━━━━━━━━━━━━\u001b[0m \u001b[32m22.9/22.9 MB\u001b[0m \u001b[31m34.5 MB/s\u001b[0m eta \u001b[36m0:00:00\u001b[0m00:01\u001b[0m00:01\u001b[0m\n",
      "\u001b[?25hRequirement already satisfied: numpy>=1.20 in /home/jupyterlab/conda/envs/python/lib/python3.7/site-packages (from tensorflow==2.9.0) (1.21.6)\n",
      "Collecting opt-einsum>=2.3.2 (from tensorflow==2.9.0)\n",
      "  Downloading opt_einsum-3.3.0-py3-none-any.whl (65 kB)\n",
      "\u001b[2K     \u001b[90m━━━━━━━━━━━━━━━━━━━━━━━━━━━━━━━━━━━━━━━━\u001b[0m \u001b[32m65.5/65.5 kB\u001b[0m \u001b[31m13.7 MB/s\u001b[0m eta \u001b[36m0:00:00\u001b[0m\n",
      "\u001b[?25hRequirement already satisfied: packaging in /home/jupyterlab/conda/envs/python/lib/python3.7/site-packages (from tensorflow==2.9.0) (23.1)\n",
      "Requirement already satisfied: protobuf>=3.9.2 in /home/jupyterlab/conda/envs/python/lib/python3.7/site-packages (from tensorflow==2.9.0) (4.21.8)\n",
      "Requirement already satisfied: setuptools in /home/jupyterlab/conda/envs/python/lib/python3.7/site-packages (from tensorflow==2.9.0) (67.7.2)\n",
      "Requirement already satisfied: six>=1.12.0 in /home/jupyterlab/conda/envs/python/lib/python3.7/site-packages (from tensorflow==2.9.0) (1.16.0)\n",
      "Collecting tensorboard<2.10,>=2.9 (from tensorflow==2.9.0)\n",
      "  Downloading tensorboard-2.9.1-py3-none-any.whl (5.8 MB)\n",
      "\u001b[2K     \u001b[90m━━━━━━━━━━━━━━━━━━━━━━━━━━━━━━━━━━━━━━━━\u001b[0m \u001b[32m5.8/5.8 MB\u001b[0m \u001b[31m38.8 MB/s\u001b[0m eta \u001b[36m0:00:00\u001b[0m00:01\u001b[0m00:01\u001b[0m\n",
      "\u001b[?25hCollecting tensorflow-io-gcs-filesystem>=0.23.1 (from tensorflow==2.9.0)\n",
      "  Downloading tensorflow_io_gcs_filesystem-0.34.0-cp37-cp37m-manylinux_2_12_x86_64.manylinux2010_x86_64.whl (2.4 MB)\n",
      "\u001b[2K     \u001b[90m━━━━━━━━━━━━━━━━━━━━━━━━━━━━━━━━━━━━━━━━\u001b[0m \u001b[32m2.4/2.4 MB\u001b[0m \u001b[31m93.1 MB/s\u001b[0m eta \u001b[36m0:00:00\u001b[0m\n",
      "\u001b[?25hCollecting tensorflow-estimator<2.10.0,>=2.9.0rc0 (from tensorflow==2.9.0)\n",
      "  Downloading tensorflow_estimator-2.9.0-py2.py3-none-any.whl (438 kB)\n",
      "\u001b[2K     \u001b[90m━━━━━━━━━━━━━━━━━━━━━━━━━━━━━━━━━━━━━━\u001b[0m \u001b[32m438.7/438.7 kB\u001b[0m \u001b[31m46.6 MB/s\u001b[0m eta \u001b[36m0:00:00\u001b[0m\n",
      "\u001b[?25hRequirement already satisfied: termcolor>=1.1.0 in /home/jupyterlab/conda/envs/python/lib/python3.7/site-packages (from tensorflow==2.9.0) (2.3.0)\n",
      "Requirement already satisfied: typing-extensions>=3.6.6 in /home/jupyterlab/conda/envs/python/lib/python3.7/site-packages (from tensorflow==2.9.0) (4.5.0)\n",
      "Requirement already satisfied: wrapt>=1.11.0 in /home/jupyterlab/conda/envs/python/lib/python3.7/site-packages (from tensorflow==2.9.0) (1.14.1)\n",
      "Requirement already satisfied: wheel<1.0,>=0.23.0 in /home/jupyterlab/conda/envs/python/lib/python3.7/site-packages (from astunparse>=1.6.0->tensorflow==2.9.0) (0.40.0)\n",
      "Collecting google-auth<3,>=1.6.3 (from tensorboard<2.10,>=2.9->tensorflow==2.9.0)\n",
      "  Downloading google_auth-2.25.2-py2.py3-none-any.whl (184 kB)\n",
      "\u001b[2K     \u001b[90m━━━━━━━━━━━━━━━━━━━━━━━━━━━━━━━━━━━━━━\u001b[0m \u001b[32m184.2/184.2 kB\u001b[0m \u001b[31m28.3 MB/s\u001b[0m eta \u001b[36m0:00:00\u001b[0m\n",
      "\u001b[?25hCollecting google-auth-oauthlib<0.5,>=0.4.1 (from tensorboard<2.10,>=2.9->tensorflow==2.9.0)\n",
      "  Downloading google_auth_oauthlib-0.4.6-py2.py3-none-any.whl (18 kB)\n",
      "Requirement already satisfied: markdown>=2.6.8 in /home/jupyterlab/conda/envs/python/lib/python3.7/site-packages (from tensorboard<2.10,>=2.9->tensorflow==2.9.0) (3.4.3)\n",
      "Collecting protobuf>=3.9.2 (from tensorflow==2.9.0)\n",
      "  Downloading protobuf-3.19.6-cp37-cp37m-manylinux_2_17_x86_64.manylinux2014_x86_64.whl (1.1 MB)\n",
      "\u001b[2K     \u001b[90m━━━━━━━━━━━━━━━━━━━━━━━━━━━━━━━━━━━━━━━━\u001b[0m \u001b[32m1.1/1.1 MB\u001b[0m \u001b[31m58.7 MB/s\u001b[0m eta \u001b[36m0:00:00\u001b[0m\n",
      "\u001b[?25hRequirement already satisfied: requests<3,>=2.21.0 in /home/jupyterlab/conda/envs/python/lib/python3.7/site-packages (from tensorboard<2.10,>=2.9->tensorflow==2.9.0) (2.29.0)\n",
      "Collecting tensorboard-data-server<0.7.0,>=0.6.0 (from tensorboard<2.10,>=2.9->tensorflow==2.9.0)\n",
      "  Downloading tensorboard_data_server-0.6.1-py3-none-manylinux2010_x86_64.whl (4.9 MB)\n",
      "\u001b[2K     \u001b[90m━━━━━━━━━━━━━━━━━━━━━━━━━━━━━━━━━━━━━━━━\u001b[0m \u001b[32m4.9/4.9 MB\u001b[0m \u001b[31m101.2 MB/s\u001b[0m eta \u001b[36m0:00:00\u001b[0m00:01\u001b[0m\n",
      "\u001b[?25hCollecting tensorboard-plugin-wit>=1.6.0 (from tensorboard<2.10,>=2.9->tensorflow==2.9.0)\n",
      "  Downloading tensorboard_plugin_wit-1.8.1-py3-none-any.whl (781 kB)\n",
      "\u001b[2K     \u001b[90m━━━━━━━━━━━━━━━━━━━━━━━━━━━━━━━━━━━━━━\u001b[0m \u001b[32m781.3/781.3 kB\u001b[0m \u001b[31m45.8 MB/s\u001b[0m eta \u001b[36m0:00:00\u001b[0m\n",
      "\u001b[?25hRequirement already satisfied: werkzeug>=1.0.1 in /home/jupyterlab/conda/envs/python/lib/python3.7/site-packages (from tensorboard<2.10,>=2.9->tensorflow==2.9.0) (2.2.3)\n",
      "Collecting cachetools<6.0,>=2.0.0 (from google-auth<3,>=1.6.3->tensorboard<2.10,>=2.9->tensorflow==2.9.0)\n",
      "  Downloading cachetools-5.3.2-py3-none-any.whl (9.3 kB)\n",
      "Requirement already satisfied: pyasn1-modules>=0.2.1 in /home/jupyterlab/conda/envs/python/lib/python3.7/site-packages (from google-auth<3,>=1.6.3->tensorboard<2.10,>=2.9->tensorflow==2.9.0) (0.3.0)\n",
      "Collecting rsa<5,>=3.1.4 (from google-auth<3,>=1.6.3->tensorboard<2.10,>=2.9->tensorflow==2.9.0)\n",
      "  Downloading rsa-4.9-py3-none-any.whl (34 kB)\n",
      "Collecting requests-oauthlib>=0.7.0 (from google-auth-oauthlib<0.5,>=0.4.1->tensorboard<2.10,>=2.9->tensorflow==2.9.0)\n",
      "  Downloading requests_oauthlib-1.3.1-py2.py3-none-any.whl (23 kB)\n",
      "Requirement already satisfied: importlib-metadata>=4.4 in /home/jupyterlab/conda/envs/python/lib/python3.7/site-packages (from markdown>=2.6.8->tensorboard<2.10,>=2.9->tensorflow==2.9.0) (4.11.4)\n",
      "Requirement already satisfied: charset-normalizer<4,>=2 in /home/jupyterlab/conda/envs/python/lib/python3.7/site-packages (from requests<3,>=2.21.0->tensorboard<2.10,>=2.9->tensorflow==2.9.0) (3.1.0)\n",
      "Requirement already satisfied: idna<4,>=2.5 in /home/jupyterlab/conda/envs/python/lib/python3.7/site-packages (from requests<3,>=2.21.0->tensorboard<2.10,>=2.9->tensorflow==2.9.0) (3.4)\n",
      "Requirement already satisfied: urllib3<1.27,>=1.21.1 in /home/jupyterlab/conda/envs/python/lib/python3.7/site-packages (from requests<3,>=2.21.0->tensorboard<2.10,>=2.9->tensorflow==2.9.0) (1.26.15)\n",
      "Requirement already satisfied: certifi>=2017.4.17 in /home/jupyterlab/conda/envs/python/lib/python3.7/site-packages (from requests<3,>=2.21.0->tensorboard<2.10,>=2.9->tensorflow==2.9.0) (2023.5.7)\n",
      "Requirement already satisfied: MarkupSafe>=2.1.1 in /home/jupyterlab/conda/envs/python/lib/python3.7/site-packages (from werkzeug>=1.0.1->tensorboard<2.10,>=2.9->tensorflow==2.9.0) (2.1.1)\n",
      "Requirement already satisfied: zipp>=0.5 in /home/jupyterlab/conda/envs/python/lib/python3.7/site-packages (from importlib-metadata>=4.4->markdown>=2.6.8->tensorboard<2.10,>=2.9->tensorflow==2.9.0) (3.15.0)\n",
      "Requirement already satisfied: pyasn1<0.6.0,>=0.4.6 in /home/jupyterlab/conda/envs/python/lib/python3.7/site-packages (from pyasn1-modules>=0.2.1->google-auth<3,>=1.6.3->tensorboard<2.10,>=2.9->tensorflow==2.9.0) (0.5.0)\n",
      "Collecting oauthlib>=3.0.0 (from requests-oauthlib>=0.7.0->google-auth-oauthlib<0.5,>=0.4.1->tensorboard<2.10,>=2.9->tensorflow==2.9.0)\n",
      "  Downloading oauthlib-3.2.2-py3-none-any.whl (151 kB)\n",
      "\u001b[2K     \u001b[90m━━━━━━━━━━━━━━━━━━━━━━━━━━━━━━━━━━━━━━\u001b[0m \u001b[32m151.7/151.7 kB\u001b[0m \u001b[31m28.7 MB/s\u001b[0m eta \u001b[36m0:00:00\u001b[0m\n",
      "\u001b[?25hInstalling collected packages: tensorboard-plugin-wit, libclang, keras, flatbuffers, tensorflow-io-gcs-filesystem, tensorflow-estimator, tensorboard-data-server, rsa, protobuf, opt-einsum, oauthlib, h5py, gast, cachetools, astunparse, requests-oauthlib, google-auth, google-auth-oauthlib, tensorboard, tensorflow\n",
      "  Attempting uninstall: keras\n",
      "    Found existing installation: Keras 2.1.6\n",
      "    Uninstalling Keras-2.1.6:\n",
      "      Successfully uninstalled Keras-2.1.6\n",
      "  Attempting uninstall: tensorflow-estimator\n",
      "    Found existing installation: tensorflow-estimator 1.14.0\n",
      "    Uninstalling tensorflow-estimator-1.14.0:\n",
      "      Successfully uninstalled tensorflow-estimator-1.14.0\n",
      "  Attempting uninstall: protobuf\n",
      "    Found existing installation: protobuf 4.21.8\n",
      "    Uninstalling protobuf-4.21.8:\n",
      "      Successfully uninstalled protobuf-4.21.8\n",
      "  Attempting uninstall: h5py\n",
      "    Found existing installation: h5py 2.8.0\n",
      "    Uninstalling h5py-2.8.0:\n",
      "      Successfully uninstalled h5py-2.8.0\n",
      "  Attempting uninstall: gast\n",
      "    Found existing installation: gast 0.5.3\n",
      "    Uninstalling gast-0.5.3:\n",
      "      Successfully uninstalled gast-0.5.3\n",
      "  Attempting uninstall: tensorboard\n",
      "    Found existing installation: tensorboard 1.14.0\n",
      "    Uninstalling tensorboard-1.14.0:\n",
      "      Successfully uninstalled tensorboard-1.14.0\n",
      "  Attempting uninstall: tensorflow\n",
      "    Found existing installation: tensorflow 1.14.0\n",
      "    Uninstalling tensorflow-1.14.0:\n",
      "      Successfully uninstalled tensorflow-1.14.0\n",
      "Successfully installed astunparse-1.6.3 cachetools-5.3.2 flatbuffers-1.12 gast-0.4.0 google-auth-2.25.2 google-auth-oauthlib-0.4.6 h5py-3.8.0 keras-2.9.0 libclang-16.0.6 oauthlib-3.2.2 opt-einsum-3.3.0 protobuf-3.19.6 requests-oauthlib-1.3.1 rsa-4.9 tensorboard-2.9.1 tensorboard-data-server-0.6.1 tensorboard-plugin-wit-1.8.1 tensorflow-2.9.0 tensorflow-estimator-2.9.0 tensorflow-io-gcs-filesystem-0.34.0\n",
      "Collecting numpy==1.21.4\n",
      "  Downloading numpy-1.21.4-cp37-cp37m-manylinux_2_12_x86_64.manylinux2010_x86_64.whl (15.7 MB)\n",
      "\u001b[2K     \u001b[90m━━━━━━━━━━━━━━━━━━━━━━━━━━━━━━━━━━━━━━━━\u001b[0m \u001b[32m15.7/15.7 MB\u001b[0m \u001b[31m66.4 MB/s\u001b[0m eta \u001b[36m0:00:00\u001b[0m00:01\u001b[0m00:01\u001b[0m\n",
      "\u001b[?25hInstalling collected packages: numpy\n",
      "  Attempting uninstall: numpy\n",
      "    Found existing installation: numpy 1.21.6\n",
      "    Uninstalling numpy-1.21.6:\n",
      "      Successfully uninstalled numpy-1.21.6\n",
      "Successfully installed numpy-1.21.4\n"
     ]
    }
   ],
   "source": [
    "!pip install tensorflow==2.9.0\n",
    "!pip install numpy==1.21.4\n"
   ]
  },
  {
   "cell_type": "code",
   "execution_count": 2,
   "metadata": {
    "tags": []
   },
   "outputs": [
    {
     "name": "stderr",
     "output_type": "stream",
     "text": [
      "2023-12-15 13:13:50.459588: I tensorflow/core/util/util.cc:169] oneDNN custom operations are on. You may see slightly different numerical results due to floating-point round-off errors from different computation orders. To turn them off, set the environment variable `TF_ENABLE_ONEDNN_OPTS=0`.\n",
      "2023-12-15 13:13:50.465238: W tensorflow/stream_executor/platform/default/dso_loader.cc:64] Could not load dynamic library 'libcudart.so.11.0'; dlerror: libcudart.so.11.0: cannot open shared object file: No such file or directory\n",
      "2023-12-15 13:13:50.465275: I tensorflow/stream_executor/cuda/cudart_stub.cc:29] Ignore above cudart dlerror if you do not have a GPU set up on your machine.\n"
     ]
    }
   ],
   "source": [
    "import time\n",
    "import numpy as np\n",
    "import tensorflow as tf\n",
    "if not tf.__version__ == '2.9.0':\n",
    "    print(tf.__version__)\n",
    "    raise ValueError('please upgrade to TensorFlow 2.9.0, or restart your Kernel (Kernel->Restart & Clear Output)')"
   ]
  },
  {
   "cell_type": "markdown",
   "metadata": {},
   "source": [
    "IMPORTANT! => Please restart the kernel by clicking on \"Kernel\"->\"Restart and Clear Outout\" and wait until all output disapears. Then your changes are beeing picked up\n"
   ]
  },
  {
   "cell_type": "code",
   "execution_count": 10,
   "metadata": {
    "tags": []
   },
   "outputs": [],
   "source": [
    "!mkdir data\n",
    "!mkdir data/ptb\n",
    "!wget -q -O data/ptb/reader.py https://cf-courses-data.s3.us.cloud-object-storage.appdomain.cloud/IBMDeveloperSkillsNetwork-DL0120EN-SkillsNetwork/labs/Week3/data/ptb/reader.py\n",
    "!cp data/ptb/reader.py .\n",
    "\n"
   ]
  },
  {
   "cell_type": "code",
   "execution_count": 11,
   "metadata": {
    "tags": []
   },
   "outputs": [],
   "source": [
    "# Copyright 2015 The TensorFlow Authors. All Rights Reserved.\n",
    "#\n",
    "# Licensed under the Apache License, Version 2.0 (the \"License\");\n",
    "# you may not use this file except in compliance with the License.\n",
    "# You may obtain a copy of the License at\n",
    "#\n",
    "#     http://www.apache.org/licenses/LICENSE-2.0\n",
    "#\n",
    "# Unless required by applicable law or agreed to in writing, software\n",
    "# distributed under the License is distributed on an \"AS IS\" BASIS,\n",
    "# WITHOUT WARRANTIES OR CONDITIONS OF ANY KIND, either express or implied.\n",
    "# See the License for the specific language governing permissions and\n",
    "# limitations under the License.\n",
    "# ==============================================================================\n",
    "\n",
    "\n",
    "\"\"\"Utilities for parsing PTB text files.\"\"\"\n",
    "from __future__ import absolute_import\n",
    "from __future__ import division\n",
    "from __future__ import print_function\n",
    "\n",
    "import collections\n",
    "import os\n",
    "\n",
    "import numpy as np\n",
    "import tensorflow as tf\n",
    "\n",
    "\n",
    "def _read_words(filename):\n",
    "  with tf.io.gfile.GFile(filename, \"r\") as f:\n",
    "    return f.read().replace(\"\\n\", \"<eos>\").split()\n",
    "\n",
    "\n",
    "def _build_vocab(filename):\n",
    "  data = _read_words(filename)\n",
    "\n",
    "  counter = collections.Counter(data)\n",
    "  count_pairs = sorted(counter.items(), key=lambda x: (-x[1], x[0]))\n",
    "\n",
    "  words, _ = list(zip(*count_pairs))\n",
    "  word_to_id = dict(zip(words, range(len(words))))\n",
    "\n",
    "  return word_to_id\n",
    "\n",
    "\n",
    "def _file_to_word_ids(filename, word_to_id):\n",
    "  data = _read_words(filename)\n",
    "  return [word_to_id[word] for word in data if word in word_to_id]\n",
    "\n",
    "\n",
    "def ptb_raw_data(data_path=None):\n",
    "  \"\"\"Load PTB raw data from data directory \"data_path\".\n",
    "\n",
    "  Reads PTB text files, converts strings to integer ids,\n",
    "  and performs mini-batching of the inputs.\n",
    "\n",
    "  The PTB dataset comes from Tomas Mikolov's webpage:\n",
    "\n",
    "  http://www.fit.vutbr.cz/~imikolov/rnnlm/simple-examples.tgz\n",
    "\n",
    "  Args:\n",
    "    data_path: string path to the directory where simple-examples.tgz has\n",
    "      been extracted.\n",
    "\n",
    "  Returns:\n",
    "    tuple (train_data, valid_data, test_data, vocabulary)\n",
    "    where each of the data objects can be passed to PTBIterator.\n",
    "  \"\"\"\n",
    "\n",
    "  train_path = os.path.join(data_path, \"ptb.train.txt\")\n",
    "  valid_path = os.path.join(data_path, \"ptb.valid.txt\")\n",
    "  test_path = os.path.join(data_path, \"ptb.test.txt\")\n",
    "\n",
    "  word_to_id = _build_vocab(train_path)\n",
    "  train_data = _file_to_word_ids(train_path, word_to_id)\n",
    "  valid_data = _file_to_word_ids(valid_path, word_to_id)\n",
    "  test_data = _file_to_word_ids(test_path, word_to_id)\n",
    "  vocabulary = len(word_to_id)\n",
    "  return train_data, valid_data, test_data, vocabulary, word_to_id\n",
    "\n",
    "\n",
    "def ptb_iterator(raw_data, batch_size, num_steps):\n",
    "  \"\"\"Iterate on the raw PTB data.\n",
    "\n",
    "  This generates batch_size pointers into the raw PTB data, and allows\n",
    "  minibatch iteration along these pointers.\n",
    "\n",
    "  Args:\n",
    "    raw_data: one of the raw data outputs from ptb_raw_data.\n",
    "    batch_size: int, the batch size.\n",
    "    num_steps: int, the number of unrolls.\n",
    "\n",
    "  Yields:\n",
    "    Pairs of the batched data, each a matrix of shape [batch_size, num_steps].\n",
    "    The second element of the tuple is the same data time-shifted to the\n",
    "    right by one.\n",
    "\n",
    "  Raises:\n",
    "    ValueError: if batch_size or num_steps are too high.\n",
    "  \"\"\"\n",
    "  raw_data = np.array(raw_data, dtype=np.int32)\n",
    "\n",
    "  data_len = len(raw_data)\n",
    "  batch_len = data_len // batch_size\n",
    "  data = np.zeros([batch_size, batch_len], dtype=np.int32)\n",
    "  for i in range(batch_size):\n",
    "    data[i] = raw_data[batch_len * i:batch_len * (i + 1)]\n",
    "\n",
    "  epoch_size = (batch_len - 1) // num_steps\n",
    "\n",
    "  if epoch_size == 0:\n",
    "    raise ValueError(\"epoch_size == 0, decrease batch_size or num_steps\")\n",
    "\n",
    "  for i in range(epoch_size):\n",
    "    x = data[:, i*num_steps:(i+1)*num_steps]\n",
    "    y = data[:, i*num_steps+1:(i+1)*num_steps+1]\n",
    "    yield (x, y)"
   ]
  },
  {
   "cell_type": "markdown",
   "metadata": {},
   "source": [
    "<a id=\"building_lstm_model\"></a>\n",
    "<h2>Building the LSTM model for Language Modeling</h2>\n",
    "Now that we know exactly what we are doing, we can start building our model using TensorFlow. The very first thing we need to do is download and extract the <code>simple-examples</code> dataset, which can be done by executing the code cell below.\n"
   ]
  },
  {
   "cell_type": "code",
   "execution_count": 12,
   "metadata": {
    "tags": []
   },
   "outputs": [
    {
     "name": "stdout",
     "output_type": "stream",
     "text": [
      "--2023-12-15 13:19:57--  http://www.fit.vutbr.cz/~imikolov/rnnlm/simple-examples.tgz\n",
      "Resolving www.fit.vutbr.cz (www.fit.vutbr.cz)... 147.229.9.23, 147.229.9.23\n",
      "Connecting to www.fit.vutbr.cz (www.fit.vutbr.cz)|147.229.9.23|:80... connected.\n",
      "HTTP request sent, awaiting response... 200 OK\n",
      "Length: 34869662 (33M) [application/x-gtar]\n",
      "Saving to: ‘simple-examples.tgz.1’\n",
      "\n",
      "simple-examples.tgz 100%[===================>]  33.25M  9.01MB/s    in 4.1s    \n",
      "\n",
      "2023-12-15 13:20:02 (8.18 MB/s) - ‘simple-examples.tgz.1’ saved [34869662/34869662]\n",
      "\n"
     ]
    }
   ],
   "source": [
    "!wget http://www.fit.vutbr.cz/~imikolov/rnnlm/simple-examples.tgz \n",
    "!tar xzf simple-examples.tgz -C data/"
   ]
  },
  {
   "cell_type": "markdown",
   "metadata": {},
   "source": [
    "Additionally, for the sake of making it easy to play around with the model's hyperparameters, we can declare them beforehand. Feel free to change these -- you will see a difference in performance each time you change those!  \n"
   ]
  },
  {
   "cell_type": "code",
   "execution_count": 13,
   "metadata": {
    "tags": []
   },
   "outputs": [],
   "source": [
    "#Initial weight scale\n",
    "init_scale = 0.1\n",
    "#Initial learning rate\n",
    "learning_rate = 1.0\n",
    "#Maximum permissible norm for the gradient (For gradient clipping -- another measure against Exploding Gradients)\n",
    "max_grad_norm = 5\n",
    "#The number of layers in our model\n",
    "num_layers = 2\n",
    "#The total number of recurrence steps, also known as the number of layers when our RNN is \"unfolded\"\n",
    "num_steps = 20\n",
    "#The number of processing units (neurons) in the hidden layers\n",
    "hidden_size_l1 = 256\n",
    "hidden_size_l2 = 128\n",
    "#The maximum number of epochs trained with the initial learning rate\n",
    "max_epoch_decay_lr = 4\n",
    "#The total number of epochs in training\n",
    "max_epoch = 15\n",
    "#The probability for keeping data in the Dropout Layer (This is an optimization, but is outside our scope for this notebook!)\n",
    "#At 1, we ignore the Dropout Layer wrapping.\n",
    "keep_prob = 1\n",
    "#The decay for the learning rate\n",
    "decay = 0.5\n",
    "#The size for each batch of data\n",
    "batch_size = 30\n",
    "#The size of our vocabulary\n",
    "vocab_size = 10000\n",
    "embeding_vector_size= 200\n",
    "#Training flag to separate training from testing\n",
    "is_training = 1\n",
    "#Data directory for our dataset\n",
    "data_dir = \"data/simple-examples/data/\""
   ]
  },
  {
   "cell_type": "markdown",
   "metadata": {},
   "source": [
    "Some clarifications for LSTM architecture based on the arguments:\n",
    "\n",
    "Network structure:\n",
    "<ul>\n",
    "    <li>In this network, the number of LSTM cells are 2. To give the model more expressive power, we can add multiple layers of LSTMs to process the data. The output of the first layer will become the input of the second and so on.\n",
    "    </li>\n",
    "    <li>The recurrence steps is 20, that is, when our RNN is \"Unfolded\", the recurrence step is 20.</li>   \n",
    "    <li>the structure is like:\n",
    "        <ul>\n",
    "            <li>200 input units -> [200x200] Weight -> 200 Hidden units (first layer) -> [200x200] Weight matrix  -> 200 Hidden units (second layer) ->  [200] weight Matrix -> 200 unit output</li>\n",
    "        </ul>\n",
    "    </li>\n",
    "</ul>\n",
    "<br>\n",
    "\n",
    "Input layer: \n",
    "<ul>\n",
    "    <li>The network has 200 input units.</li>\n",
    "    <li>Suppose each word is represented by an embedding vector of dimensionality e=200. The input layer of each cell will have 200 linear units. These e=200 linear units are connected to each of the h=200 LSTM units in the hidden layer (assuming there is only one hidden layer, though our case has 2 layers).\n",
    "    </li>\n",
    "    <li>The input shape is [batch_size, num_steps], that is [30x20]. It will turn into [30x20x200] after embedding, and then 20x[30x200]\n",
    "    </li>\n",
    "</ul>\n",
    "<br>\n",
    "\n",
    "Hidden layer:\n",
    "<ul>\n",
    "    <li>Each LSTM has 200 hidden units which is equivalent to the dimensionality of the embedding words and output.</li>\n",
    "</ul>\n",
    "<br>\n"
   ]
  },
  {
   "cell_type": "markdown",
   "metadata": {},
   "source": [
    "There is a lot to be done and a ton of information to process at the same time, so go over this code slowly. It may seem complex at first, but if you try to apply what you just learned about language modelling to the code you see, you should be able to understand it.\n",
    "\n",
    "This code is adapted from the <a href=\"https://github.com/tensorflow/models\">PTBModel</a> example bundled with the TensorFlow source code.\n",
    "\n",
    "\n",
    "<h3>Training data</h3>\n",
    "The story starts from data:\n",
    "<ul>\n",
    "    <li>Train data is a list of words, of size 929589, represented by numbers, e.g. [9971, 9972, 9974, 9975,...]</li>\n",
    "    <li>We read data as mini-batch of size b=30. Assume the size of each sentence is 20 words (num_steps = 20). Then it will take $$floor(\\frac{N}{b \\times h})+1=1548$$ iterations for the learner to go through all sentences once. Where N is the size of the list of words, b is batch size, and h is size of each sentence. So, the number of iterators is 1548\n",
    "    </li>\n",
    "    <li>Each batch data is read from train dataset of size 600, and shape of [30x20]</li>\n",
    "</ul>\n"
   ]
  },
  {
   "cell_type": "code",
   "execution_count": 14,
   "metadata": {
    "tags": []
   },
   "outputs": [],
   "source": [
    "# Reads the data and separates it into training data, validation data and testing data\n",
    "raw_data = ptb_raw_data(data_dir)\n",
    "train_data, valid_data, test_data, vocab, word_to_id = raw_data"
   ]
  },
  {
   "cell_type": "code",
   "execution_count": 15,
   "metadata": {
    "tags": []
   },
   "outputs": [
    {
     "data": {
      "text/plain": [
       "929589"
      ]
     },
     "execution_count": 15,
     "metadata": {},
     "output_type": "execute_result"
    }
   ],
   "source": [
    "len(train_data)"
   ]
  },
  {
   "cell_type": "code",
   "execution_count": 16,
   "metadata": {
    "tags": []
   },
   "outputs": [
    {
     "name": "stdout",
     "output_type": "stream",
     "text": [
      "['aer', 'banknote', 'berlitz', 'calloway', 'centrust', 'cluett', 'fromstein', 'gitano', 'guterman', 'hydro-quebec', 'ipo', 'kia', 'memotec', 'mlx', 'nahb', 'punts', 'rake', 'regatta', 'rubens', 'sim', 'snack-food', 'ssangyong', 'swapo', 'wachter', '<eos>', 'pierre', '<unk>', 'N', 'years', 'old', 'will', 'join', 'the', 'board', 'as', 'a', 'nonexecutive', 'director', 'nov.', 'N', '<eos>', 'mr.', '<unk>', 'is', 'chairman', 'of', '<unk>', 'n.v.', 'the', 'dutch', 'publishing', 'group', '<eos>', 'rudolph', '<unk>', 'N', 'years', 'old', 'and', 'former', 'chairman', 'of', 'consolidated', 'gold', 'fields', 'plc', 'was', 'named', 'a', 'nonexecutive', 'director', 'of', 'this', 'british', 'industrial', 'conglomerate', '<eos>', 'a', 'form', 'of', 'asbestos', 'once', 'used', 'to', 'make', 'kent', 'cigarette', 'filters', 'has', 'caused', 'a', 'high', 'percentage', 'of', 'cancer', 'deaths', 'among', 'a', 'group', 'of']\n"
     ]
    }
   ],
   "source": [
    "def id_to_word(id_list):\n",
    "    line = []\n",
    "    for w in id_list:\n",
    "        for word, wid in word_to_id.items():\n",
    "            if wid == w:\n",
    "                line.append(word)\n",
    "    return line            \n",
    "                \n",
    "\n",
    "print(id_to_word(train_data[0:100]))"
   ]
  },
  {
   "cell_type": "markdown",
   "metadata": {},
   "source": [
    "Lets just read one mini-batch now and feed our network:\n"
   ]
  },
  {
   "cell_type": "code",
   "execution_count": 17,
   "metadata": {
    "tags": []
   },
   "outputs": [],
   "source": [
    "itera = ptb_iterator(train_data, batch_size, num_steps)\n",
    "first_touple = itera.__next__()\n",
    "_input_data = first_touple[0]\n",
    "_targets = first_touple[1]"
   ]
  },
  {
   "cell_type": "code",
   "execution_count": 18,
   "metadata": {
    "tags": []
   },
   "outputs": [
    {
     "data": {
      "text/plain": [
       "(30, 20)"
      ]
     },
     "execution_count": 18,
     "metadata": {},
     "output_type": "execute_result"
    }
   ],
   "source": [
    "_input_data.shape"
   ]
  },
  {
   "cell_type": "code",
   "execution_count": 19,
   "metadata": {
    "tags": []
   },
   "outputs": [
    {
     "data": {
      "text/plain": [
       "(30, 20)"
      ]
     },
     "execution_count": 19,
     "metadata": {},
     "output_type": "execute_result"
    }
   ],
   "source": [
    "_targets.shape"
   ]
  },
  {
   "cell_type": "markdown",
   "metadata": {},
   "source": [
    "Lets look at 3 sentences of our input x:\n"
   ]
  },
  {
   "cell_type": "code",
   "execution_count": 20,
   "metadata": {
    "tags": []
   },
   "outputs": [
    {
     "data": {
      "text/plain": [
       "array([[9970, 9971, 9972, 9974, 9975, 9976, 9980, 9981, 9982, 9983, 9984,\n",
       "        9986, 9987, 9988, 9989, 9991, 9992, 9993, 9994, 9995],\n",
       "       [2654,    6,  334, 2886,    4,    1,  233,  711,  834,   11,  130,\n",
       "         123,    7,  514,    2,   63,   10,  514,    8,  605],\n",
       "       [   0, 1071,    4,    0,  185,   24,  368,   20,   31, 3109,  954,\n",
       "          12,    3,   21,    2, 2915,    2,   12,    3,   21]],\n",
       "      dtype=int32)"
      ]
     },
     "execution_count": 20,
     "metadata": {},
     "output_type": "execute_result"
    }
   ],
   "source": [
    "_input_data[0:3]"
   ]
  },
  {
   "cell_type": "code",
   "execution_count": 21,
   "metadata": {
    "tags": []
   },
   "outputs": [
    {
     "name": "stdout",
     "output_type": "stream",
     "text": [
      "['aer', 'banknote', 'berlitz', 'calloway', 'centrust', 'cluett', 'fromstein', 'gitano', 'guterman', 'hydro-quebec', 'ipo', 'kia', 'memotec', 'mlx', 'nahb', 'punts', 'rake', 'regatta', 'rubens', 'sim']\n"
     ]
    }
   ],
   "source": [
    "print(id_to_word(_input_data[0,:]))"
   ]
  },
  {
   "cell_type": "markdown",
   "metadata": {},
   "source": [
    "<h3>Embeddings</h3>\n",
    "We have to convert the words in our dataset to vectors of numbers. The traditional approach is to use one-hot encoding method that is usually used for converting categorical values to numerical values. However, One-hot encoded vectors are high-dimensional, sparse and in a big dataset, computationally inefficient. So, we use word2vec approach. It is, in fact, a layer in our LSTM network, where the word IDs will be represented as a dense representation before feeding to the LSTM. \n",
    "\n",
    "The embedded vectors also get updated during the training process of the deep neural network.\n",
    "We create the embeddings for our input data. <b>embedding_vocab</b> is matrix of [10000x200] for all 10000 unique words.\n"
   ]
  },
  {
   "cell_type": "markdown",
   "metadata": {},
   "source": [
    "<b>embedding_lookup()</b> finds the embedded values for our batch of 30x20 words. It  goes to each row of <code>input_data</code>, and for each word in the row/sentence, finds the correspond vector in <code>embedding_dic<code>. <br>\n",
    "It creates a [30x20x200] tensor, so, the first element of <b>inputs</b> (the first sentence), is a matrix of 20x200, which each row of it, is vector representing a word in the sentence.\n"
   ]
  },
  {
   "cell_type": "code",
   "execution_count": 22,
   "metadata": {
    "tags": []
   },
   "outputs": [],
   "source": [
    "embedding_layer = tf.keras.layers.Embedding(vocab_size, embeding_vector_size,batch_input_shape=(batch_size, num_steps),trainable=True,name=\"embedding_vocab\")  "
   ]
  },
  {
   "cell_type": "code",
   "execution_count": 23,
   "metadata": {
    "tags": []
   },
   "outputs": [
    {
     "name": "stderr",
     "output_type": "stream",
     "text": [
      "2023-12-15 13:20:55.977000: W tensorflow/stream_executor/platform/default/dso_loader.cc:64] Could not load dynamic library 'libcuda.so.1'; dlerror: libcuda.so.1: cannot open shared object file: No such file or directory\n",
      "2023-12-15 13:20:55.977070: W tensorflow/stream_executor/cuda/cuda_driver.cc:269] failed call to cuInit: UNKNOWN ERROR (303)\n",
      "2023-12-15 13:20:55.977110: I tensorflow/stream_executor/cuda/cuda_diagnostics.cc:156] kernel driver does not appear to be running on this host (jupyterlab-sukhmansing1): /proc/driver/nvidia/version does not exist\n",
      "2023-12-15 13:20:55.977818: I tensorflow/core/platform/cpu_feature_guard.cc:193] This TensorFlow binary is optimized with oneAPI Deep Neural Network Library (oneDNN) to use the following CPU instructions in performance-critical operations:  AVX2 AVX512F AVX512_VNNI FMA\n",
      "To enable them in other operations, rebuild TensorFlow with the appropriate compiler flags.\n"
     ]
    },
    {
     "data": {
      "text/plain": [
       "<tf.Tensor: shape=(30, 20, 200), dtype=float32, numpy=\n",
       "array([[[-3.25858966e-02, -5.40071726e-03, -2.48284582e-02, ...,\n",
       "          2.48899311e-03, -3.10465451e-02, -3.29212919e-02],\n",
       "        [-3.06256060e-02, -4.75130677e-02,  2.30506994e-02, ...,\n",
       "          2.35729702e-02, -2.47897860e-02,  5.87139279e-03],\n",
       "        [-2.12795977e-02,  1.88120268e-02, -2.45035533e-02, ...,\n",
       "         -2.40725875e-02, -2.28106622e-02,  3.80035080e-02],\n",
       "        ...,\n",
       "        [ 1.16632208e-02, -3.31899300e-02, -3.87663469e-02, ...,\n",
       "          4.73167039e-02, -9.98120382e-03, -1.72853470e-05],\n",
       "        [ 3.56718041e-02,  1.76866166e-02,  1.21440887e-02, ...,\n",
       "          1.14332885e-04,  3.48573439e-02,  2.38893144e-02],\n",
       "        [ 1.89852826e-02, -1.31117925e-02,  3.24737094e-02, ...,\n",
       "         -1.56708248e-02,  9.31848213e-03,  4.86614741e-02]],\n",
       "\n",
       "       [[-4.07016762e-02, -1.07670054e-02, -2.68843770e-02, ...,\n",
       "         -3.34289819e-02,  4.99057434e-02, -1.99196693e-02],\n",
       "        [-3.19420844e-02, -3.14123183e-02, -2.83073671e-02, ...,\n",
       "         -3.97530422e-02,  4.51767445e-03,  3.93306091e-03],\n",
       "        [ 2.12172605e-02, -1.56707540e-02, -4.71359007e-02, ...,\n",
       "          3.11919786e-02, -4.56485860e-02, -1.23479143e-02],\n",
       "        ...,\n",
       "        [-1.34894028e-02,  1.92818157e-02,  2.11566351e-02, ...,\n",
       "          3.94839086e-02, -2.85161380e-02, -1.22482292e-02],\n",
       "        [-2.38081105e-02, -1.01045147e-02, -4.69465256e-02, ...,\n",
       "          2.63572447e-02, -4.98401634e-02, -3.56280915e-02],\n",
       "        [-3.25974077e-03, -6.14482164e-03,  2.98558734e-02, ...,\n",
       "          4.98086549e-02,  2.86971964e-02, -3.31954136e-02]],\n",
       "\n",
       "       [[ 1.96625702e-02, -4.03647423e-02,  3.97841223e-02, ...,\n",
       "         -4.21399586e-02, -4.36487198e-02, -3.37445028e-02],\n",
       "        [ 1.89670436e-02, -5.13289124e-03,  2.52546333e-02, ...,\n",
       "         -2.27894187e-02,  2.57866718e-02,  3.80436666e-02],\n",
       "        [ 7.51613453e-03,  8.93112272e-03, -2.27091461e-03, ...,\n",
       "         -2.61234771e-02,  3.28512900e-02,  2.15015672e-02],\n",
       "        ...,\n",
       "        [-2.05222368e-02, -9.69409943e-03,  4.01487239e-02, ...,\n",
       "          2.96317041e-04,  1.89785697e-02,  3.52947451e-02],\n",
       "        [-2.43144389e-02,  9.65399668e-03,  2.11938955e-02, ...,\n",
       "          3.99722941e-02,  6.80525228e-03,  6.63893297e-03],\n",
       "        [ 1.18086711e-02, -4.25300598e-02, -1.21806860e-02, ...,\n",
       "         -1.85890794e-02,  1.87220313e-02,  2.96169259e-02]],\n",
       "\n",
       "       ...,\n",
       "\n",
       "       [[-1.28478520e-02,  1.51807182e-02,  3.40527035e-02, ...,\n",
       "         -3.43674906e-02, -1.04616992e-02, -4.31354530e-02],\n",
       "        [ 9.16405767e-03,  4.05946262e-02,  4.64065410e-02, ...,\n",
       "          4.21625488e-02, -4.55259457e-02, -4.53771725e-02],\n",
       "        [ 4.43334244e-02, -4.85121384e-02,  1.98288895e-02, ...,\n",
       "         -4.18809168e-02,  1.79526322e-02,  2.89931558e-02],\n",
       "        ...,\n",
       "        [-1.90246850e-04,  4.96932752e-02, -3.60516794e-02, ...,\n",
       "          1.72100961e-04, -1.56735778e-02,  3.75712775e-02],\n",
       "        [ 7.33184814e-03,  4.39681672e-02, -2.20616590e-02, ...,\n",
       "         -1.83753744e-02,  5.31866401e-03,  4.97069210e-03],\n",
       "        [ 1.41150840e-02,  1.67747401e-02,  3.11542414e-02, ...,\n",
       "         -3.47115844e-03, -3.52288857e-02, -4.05825265e-02]],\n",
       "\n",
       "       [[-4.43708897e-03, -2.35708952e-02,  1.25719644e-02, ...,\n",
       "         -4.70835678e-02, -1.36580467e-02,  9.85989720e-03],\n",
       "        [-4.85103019e-02, -1.34110563e-02,  1.95778273e-02, ...,\n",
       "         -1.29205100e-02, -4.36072126e-02, -4.50618751e-02],\n",
       "        [ 7.51613453e-03,  8.93112272e-03, -2.27091461e-03, ...,\n",
       "         -2.61234771e-02,  3.28512900e-02,  2.15015672e-02],\n",
       "        ...,\n",
       "        [-3.54253650e-02, -4.60967794e-02,  4.22699340e-02, ...,\n",
       "         -2.39278078e-02, -4.17139158e-02, -2.78265718e-02],\n",
       "        [-3.19420844e-02, -3.14123183e-02, -2.83073671e-02, ...,\n",
       "         -3.97530422e-02,  4.51767445e-03,  3.93306091e-03],\n",
       "        [-4.40520048e-03, -3.98584232e-02,  3.58008780e-02, ...,\n",
       "         -4.72651981e-02, -3.11578996e-02, -1.68501735e-02]],\n",
       "\n",
       "       [[-4.19961698e-02, -5.21191210e-03,  2.13788189e-02, ...,\n",
       "         -3.26663479e-02, -3.32067832e-02, -3.44523676e-02],\n",
       "        [ 8.87181610e-03,  4.15726639e-02,  1.84936039e-02, ...,\n",
       "         -2.46911999e-02,  2.31887437e-02,  4.01876681e-02],\n",
       "        [-1.82376504e-02,  4.95344512e-02, -2.87923701e-02, ...,\n",
       "          3.09091695e-02, -4.84373234e-02, -1.65011398e-02],\n",
       "        ...,\n",
       "        [ 2.85437740e-02, -1.05918422e-02, -1.61926374e-02, ...,\n",
       "          3.39746475e-05,  4.96588461e-02,  1.39433034e-02],\n",
       "        [ 3.77299823e-02, -2.53177639e-02, -1.29121915e-02, ...,\n",
       "          4.90288995e-02,  3.79573591e-02,  3.30156088e-03],\n",
       "        [ 2.13274993e-02, -1.82257183e-02,  8.39158148e-03, ...,\n",
       "          1.32038854e-02, -2.54755151e-02,  1.86903402e-03]]],\n",
       "      dtype=float32)>"
      ]
     },
     "execution_count": 23,
     "metadata": {},
     "output_type": "execute_result"
    }
   ],
   "source": [
    "# Define where to get the data for our embeddings from\n",
    "inputs = embedding_layer(_input_data)\n",
    "inputs"
   ]
  },
  {
   "cell_type": "markdown",
   "metadata": {},
   "source": [
    "<h3>Constructing Recurrent Neural Networks</h3>\n"
   ]
  },
  {
   "cell_type": "markdown",
   "metadata": {},
   "source": [
    "In this step, we create the stacked LSTM using <b>tf.keras.layers.StackedRNNCells</b>, which is a 2 layer LSTM network:\n"
   ]
  },
  {
   "cell_type": "code",
   "execution_count": 24,
   "metadata": {
    "tags": []
   },
   "outputs": [],
   "source": [
    "lstm_cell_l1 = tf.keras.layers.LSTMCell(hidden_size_l1)\n",
    "lstm_cell_l2 = tf.keras.layers.LSTMCell(hidden_size_l2)"
   ]
  },
  {
   "cell_type": "code",
   "execution_count": 25,
   "metadata": {
    "tags": []
   },
   "outputs": [],
   "source": [
    "stacked_lstm = tf.keras.layers.StackedRNNCells([lstm_cell_l1, lstm_cell_l2])"
   ]
  },
  {
   "cell_type": "markdown",
   "metadata": {},
   "source": [
    "<b>tf.keras.layers.RNN</b> creates a recurrent neural network using <b>stacked_lstm</b>. \n",
    "\n",
    "The input should be a Tensor of shape: [batch_size, max_time, embedding_vector_size], in our case it would be (30, 20, 200)\n"
   ]
  },
  {
   "cell_type": "code",
   "execution_count": 26,
   "metadata": {
    "tags": []
   },
   "outputs": [],
   "source": [
    "layer  =  tf.keras.layers.RNN(stacked_lstm,[batch_size, num_steps],return_state=False,stateful=True,trainable=True)"
   ]
  },
  {
   "cell_type": "markdown",
   "metadata": {},
   "source": [
    "Also, we initialize the states of the nework:\n",
    "\n",
    "<h4>_initial_state</h4>\n",
    "\n",
    "For each LSTM, there are 2 state matrices, c\\_state and m\\_state.  c_state and m_state represent \"Memory State\" and \"Cell State\". Each hidden layer, has a vector of size 30, which keeps the states. so, for 200 hidden units in each LSTM, we have a matrix of size [30x200]\n"
   ]
  },
  {
   "cell_type": "code",
   "execution_count": 27,
   "metadata": {
    "tags": []
   },
   "outputs": [],
   "source": [
    "init_state = tf.Variable(tf.zeros([batch_size,embeding_vector_size]),trainable=False)"
   ]
  },
  {
   "cell_type": "code",
   "execution_count": 28,
   "metadata": {
    "tags": []
   },
   "outputs": [],
   "source": [
    "layer.inital_state = init_state"
   ]
  },
  {
   "cell_type": "code",
   "execution_count": 29,
   "metadata": {
    "tags": []
   },
   "outputs": [
    {
     "data": {
      "text/plain": [
       "<tf.Variable 'Variable:0' shape=(30, 200) dtype=float32, numpy=\n",
       "array([[0., 0., 0., ..., 0., 0., 0.],\n",
       "       [0., 0., 0., ..., 0., 0., 0.],\n",
       "       [0., 0., 0., ..., 0., 0., 0.],\n",
       "       ...,\n",
       "       [0., 0., 0., ..., 0., 0., 0.],\n",
       "       [0., 0., 0., ..., 0., 0., 0.],\n",
       "       [0., 0., 0., ..., 0., 0., 0.]], dtype=float32)>"
      ]
     },
     "execution_count": 29,
     "metadata": {},
     "output_type": "execute_result"
    }
   ],
   "source": [
    "layer.inital_state"
   ]
  },
  {
   "cell_type": "markdown",
   "metadata": {},
   "source": [
    "so, lets look at the outputs. The output of the stackedLSTM comes from 128 hidden_layer, and in each time step(=20), one of them get activated. we use the linear activation to map the 128 hidden layer to a [30X20 matrix]\n"
   ]
  },
  {
   "cell_type": "code",
   "execution_count": 30,
   "metadata": {
    "tags": []
   },
   "outputs": [],
   "source": [
    "outputs = layer(inputs)"
   ]
  },
  {
   "cell_type": "code",
   "execution_count": 31,
   "metadata": {
    "tags": []
   },
   "outputs": [
    {
     "data": {
      "text/plain": [
       "<tf.Tensor: shape=(30, 20, 128), dtype=float32, numpy=\n",
       "array([[[ 8.2793424e-04,  5.2048755e-04,  3.6901425e-04, ...,\n",
       "         -4.3774737e-05,  1.4150155e-03,  7.7227608e-04],\n",
       "        [ 1.5685764e-03, -3.8263624e-04,  8.9937652e-04, ...,\n",
       "         -1.0293274e-04,  3.1166426e-03,  3.4390722e-04],\n",
       "        [ 6.3758233e-04, -1.0790986e-03,  1.9315048e-03, ...,\n",
       "         -9.1478764e-04,  5.1659211e-03, -1.6266531e-04],\n",
       "        ...,\n",
       "        [-3.0716464e-03, -3.4660057e-03, -3.5438424e-03, ...,\n",
       "          2.5473007e-03,  2.7598458e-04,  1.6811046e-04],\n",
       "        [-3.3111461e-03, -3.1697738e-03, -4.6547013e-03, ...,\n",
       "          2.5459151e-03, -6.7826122e-04,  1.8014500e-03],\n",
       "        [-3.7857604e-03, -4.0253629e-03, -5.5920444e-03, ...,\n",
       "          1.9627758e-03, -1.1573276e-03,  2.1819868e-03]],\n",
       "\n",
       "       [[-1.2300587e-03, -3.1755335e-04, -1.4991370e-04, ...,\n",
       "         -2.1389686e-04,  1.6417663e-03, -2.6204370e-04],\n",
       "        [-3.1566175e-03,  1.0412586e-03, -3.7612081e-05, ...,\n",
       "          7.5525127e-04,  2.1559794e-03,  2.4655214e-04],\n",
       "        [-5.1942156e-03,  1.4948890e-03,  1.5666726e-03, ...,\n",
       "          9.6989307e-04,  9.0070430e-04,  1.3033784e-03],\n",
       "        ...,\n",
       "        [ 2.6489862e-03, -9.8119001e-04, -1.0418680e-02, ...,\n",
       "         -1.4373237e-03,  7.4364292e-04, -4.5277392e-03],\n",
       "        [ 4.2798570e-03,  1.3017426e-03, -9.8635852e-03, ...,\n",
       "         -1.4785350e-03,  2.1771106e-03, -4.6018208e-03],\n",
       "        [ 5.0454461e-03,  1.8167183e-03, -9.6555250e-03, ...,\n",
       "         -1.2598502e-03,  6.8785209e-04, -4.2214855e-03]],\n",
       "\n",
       "       [[ 2.0329317e-04,  3.8287960e-04,  5.0758378e-04, ...,\n",
       "         -2.8358557e-04, -1.0467777e-03, -7.0632181e-05],\n",
       "        [-4.4501611e-04, -8.5750822e-04,  1.2047458e-03, ...,\n",
       "         -8.2280763e-05, -2.3492060e-03, -1.0943543e-03],\n",
       "        [-2.2514090e-03, -1.7085714e-03,  1.5239458e-03, ...,\n",
       "          1.1433357e-03, -3.7387114e-03, -4.3676753e-04],\n",
       "        ...,\n",
       "        [-7.2986749e-04, -9.1460003e-03, -1.3744981e-03, ...,\n",
       "          4.6881778e-05, -1.5541733e-03, -4.3413439e-03],\n",
       "        [ 7.7606272e-04, -9.9057108e-03, -1.5202396e-03, ...,\n",
       "          2.4912145e-04, -1.4492805e-03, -4.6153613e-03],\n",
       "        [ 2.3579982e-03, -9.0068979e-03, -1.3543615e-03, ...,\n",
       "         -8.1800309e-04, -1.0843914e-03, -2.6042000e-03]],\n",
       "\n",
       "       ...,\n",
       "\n",
       "       [[ 2.0450226e-03,  3.6965450e-04, -8.9540979e-04, ...,\n",
       "          2.1552318e-04, -6.6886941e-04, -1.1020077e-05],\n",
       "        [ 2.6203191e-03,  6.9348724e-04, -1.2186279e-03, ...,\n",
       "          9.5576193e-04, -1.1279526e-03,  8.5729233e-04],\n",
       "        [ 1.6923947e-03,  2.3420386e-03, -4.9138191e-04, ...,\n",
       "          2.2978785e-03, -1.8518661e-03,  1.7769546e-03],\n",
       "        ...,\n",
       "        [ 6.7440313e-03,  1.2460694e-04, -4.4656816e-04, ...,\n",
       "         -2.8064451e-03, -2.8156014e-03,  3.9416081e-03],\n",
       "        [ 5.7280157e-03, -1.7019255e-03, -1.1137365e-03, ...,\n",
       "         -2.9976564e-03, -1.2796492e-03,  1.8294674e-03],\n",
       "        [ 5.5893003e-03, -2.9370459e-03, -3.0146312e-04, ...,\n",
       "         -2.3131857e-03, -5.7155022e-04,  2.2625433e-04]],\n",
       "\n",
       "       [[-1.0673372e-03,  1.9023850e-05,  2.9719659e-04, ...,\n",
       "          1.5307012e-03,  7.9590664e-06,  7.3571829e-04],\n",
       "        [-1.9259234e-03,  6.4467749e-04,  1.1361237e-03, ...,\n",
       "          2.0447192e-03, -7.6092256e-04, -2.8728662e-04],\n",
       "        [-3.7811189e-03,  1.3734864e-03,  1.4056416e-03, ...,\n",
       "          3.3599625e-03, -2.1732403e-03,  4.5457395e-04],\n",
       "        ...,\n",
       "        [-4.3458012e-03, -6.7878738e-03,  2.1263619e-03, ...,\n",
       "         -3.5067589e-03,  1.6131414e-03,  8.9057153e-03],\n",
       "        [-5.6942338e-03, -6.2321615e-03,  2.1724221e-03, ...,\n",
       "         -1.4594183e-03,  1.0260759e-03,  8.9671072e-03],\n",
       "        [-7.4777729e-03, -5.4999152e-03,  2.2416862e-03, ...,\n",
       "         -3.6349686e-04,  8.1584830e-04,  7.7283815e-03]],\n",
       "\n",
       "       [[ 1.5433850e-03,  3.5796687e-04, -4.4666670e-04, ...,\n",
       "         -1.9551660e-03,  1.7243943e-03, -1.4980591e-03],\n",
       "        [ 3.4362343e-03,  8.3178049e-04, -1.1434476e-03, ...,\n",
       "         -2.4504596e-03,  2.0026939e-03, -2.0833090e-03],\n",
       "        [ 4.7145961e-03,  1.4557978e-03, -3.5316772e-03, ...,\n",
       "         -1.9081379e-03,  2.1851673e-03, -3.3097551e-03],\n",
       "        ...,\n",
       "        [ 4.5861891e-03, -4.0484839e-03, -3.8299318e-03, ...,\n",
       "          4.6305317e-03, -8.6075917e-04, -6.3142572e-03],\n",
       "        [ 4.4613122e-03, -4.5305430e-03, -4.3210844e-03, ...,\n",
       "          5.1181968e-03, -3.3703141e-03, -5.4768417e-03],\n",
       "        [ 5.0680768e-03, -4.7186282e-03, -4.5502605e-03, ...,\n",
       "          4.1936152e-03, -4.1484218e-03, -4.3697595e-03]]], dtype=float32)>"
      ]
     },
     "execution_count": 31,
     "metadata": {},
     "output_type": "execute_result"
    }
   ],
   "source": [
    "outputs"
   ]
  },
  {
   "cell_type": "markdown",
   "metadata": {},
   "source": [
    "<h2>Dense layer</h2>\n",
    "We now create densely-connected neural network layer that would reshape the outputs tensor from  [30 x 20 x 128] to [30 x 20 x 10000].\n"
   ]
  },
  {
   "cell_type": "code",
   "execution_count": 32,
   "metadata": {
    "tags": []
   },
   "outputs": [],
   "source": [
    "dense = tf.keras.layers.Dense(vocab_size)"
   ]
  },
  {
   "cell_type": "code",
   "execution_count": 33,
   "metadata": {
    "tags": []
   },
   "outputs": [],
   "source": [
    "logits_outputs  = dense(outputs)"
   ]
  },
  {
   "cell_type": "code",
   "execution_count": 34,
   "metadata": {
    "tags": []
   },
   "outputs": [
    {
     "name": "stdout",
     "output_type": "stream",
     "text": [
      "shape of the output from dense layer:  (30, 20, 10000)\n"
     ]
    }
   ],
   "source": [
    "print(\"shape of the output from dense layer: \", logits_outputs.shape) #(batch_size, sequence_length, vocab_size)"
   ]
  },
  {
   "cell_type": "markdown",
   "metadata": {},
   "source": [
    "<h2>Activation layer</h2>\n",
    "\n",
    "\n",
    "A softmax activation layers is also then applied to derive the probability of the output being in any of the multiclass(10000 in this case) possibilities. \n"
   ]
  },
  {
   "cell_type": "code",
   "execution_count": 35,
   "metadata": {
    "tags": []
   },
   "outputs": [],
   "source": [
    "activation = tf.keras.layers.Activation('softmax')"
   ]
  },
  {
   "cell_type": "code",
   "execution_count": 36,
   "metadata": {
    "tags": []
   },
   "outputs": [],
   "source": [
    "output_words_prob = activation(logits_outputs)"
   ]
  },
  {
   "cell_type": "code",
   "execution_count": 37,
   "metadata": {
    "tags": []
   },
   "outputs": [
    {
     "name": "stdout",
     "output_type": "stream",
     "text": [
      "shape of the output from the activation layer:  (30, 20, 10000)\n"
     ]
    }
   ],
   "source": [
    "print(\"shape of the output from the activation layer: \", output_words_prob.shape) #(batch_size, sequence_length, vocab_size)"
   ]
  },
  {
   "cell_type": "markdown",
   "metadata": {},
   "source": [
    "Lets look at the probability of observing words for t=0 to t=20:\n"
   ]
  },
  {
   "cell_type": "code",
   "execution_count": 38,
   "metadata": {
    "tags": []
   },
   "outputs": [
    {
     "name": "stdout",
     "output_type": "stream",
     "text": [
      "The probability of observing words in t=0 to t=20 tf.Tensor(\n",
      "[[9.99986587e-05 9.99967524e-05 1.00010242e-04 ... 9.99981858e-05\n",
      "  1.00013516e-04 1.00009900e-04]\n",
      " [9.99933618e-05 9.99838885e-05 1.00013262e-04 ... 9.99950134e-05\n",
      "  1.00025311e-04 1.00010366e-04]\n",
      " [9.99802505e-05 9.99712938e-05 9.99972035e-05 ... 9.99953554e-05\n",
      "  1.00054975e-04 1.00020858e-04]\n",
      " ...\n",
      " [1.00070807e-04 9.98894902e-05 1.00057099e-04 ... 1.00014593e-04\n",
      "  9.99330077e-05 1.00090765e-04]\n",
      " [1.00054589e-04 9.99141776e-05 1.00052355e-04 ... 1.00040910e-04\n",
      "  9.99124604e-05 1.00077777e-04]\n",
      " [1.00033518e-04 9.99314943e-05 1.00040430e-04 ... 1.00065474e-04\n",
      "  9.99199619e-05 1.00058831e-04]], shape=(20, 10000), dtype=float32)\n"
     ]
    }
   ],
   "source": [
    "print(\"The probability of observing words in t=0 to t=20\", output_words_prob[0,0:num_steps])"
   ]
  },
  {
   "cell_type": "markdown",
   "metadata": {},
   "source": [
    "<h3>Prediction</h3>\n",
    "What is the word correspond to the probability output? Lets use the maximum probability:\n"
   ]
  },
  {
   "cell_type": "code",
   "execution_count": 39,
   "metadata": {
    "tags": []
   },
   "outputs": [
    {
     "data": {
      "text/plain": [
       "array([1767, 9471, 8999, 8999, 8999, 8999, 8999, 1641, 1641, 1641, 4720,\n",
       "       4720, 5483, 5483, 5483, 5483, 1559, 3232, 9336, 7680])"
      ]
     },
     "execution_count": 39,
     "metadata": {},
     "output_type": "execute_result"
    }
   ],
   "source": [
    "np.argmax(output_words_prob[0,0:num_steps], axis=1)"
   ]
  },
  {
   "cell_type": "markdown",
   "metadata": {},
   "source": [
    "So, what is the ground truth for the first word of first sentence? You can get it from target tensor, if you want to find the embedding vector: \n"
   ]
  },
  {
   "cell_type": "code",
   "execution_count": 40,
   "metadata": {
    "tags": []
   },
   "outputs": [
    {
     "data": {
      "text/plain": [
       "array([9971, 9972, 9974, 9975, 9976, 9980, 9981, 9982, 9983, 9984, 9986,\n",
       "       9987, 9988, 9989, 9991, 9992, 9993, 9994, 9995, 9996], dtype=int32)"
      ]
     },
     "execution_count": 40,
     "metadata": {},
     "output_type": "execute_result"
    }
   ],
   "source": [
    "_targets[0]"
   ]
  },
  {
   "cell_type": "markdown",
   "metadata": {},
   "source": [
    "<h4>Objective function</h4>\n",
    "\n",
    "\n",
    "How similar the predicted words are to the target words?\n",
    "\n",
    "\n",
    "Now we have to define our objective function, to calculate the similarity of predicted values to ground truth, and then, penalize the model with the error. Our objective is to minimize loss function, that is, to minimize the average negative log probability of the target words:\n",
    "\n",
    "$$\\text{loss} = -\\frac{1}{N}\\sum_{i=1}^{N} \\ln p_{\\text{target}_i}$$\n",
    "\n",
    "This function is already implemented and available in TensorFlow through *tf.keras.losses.sparse_categorical_crossentropy*. It calculates the categorical cross-entropy loss for <b>logits</b> and the <b>target</b> sequence.  \n",
    "\n",
    "The arguments of this function are:  \n",
    "<ul>\n",
    "    <li>logits: List of 2D Tensors of shape [batch_size x num_decoder_symbols].</li>  \n",
    "    <li>targets: List of 1D batch-sized int32 Tensors of the same length as logits.</li>   \n",
    "</ul>\n"
   ]
  },
  {
   "cell_type": "code",
   "execution_count": 41,
   "metadata": {
    "tags": []
   },
   "outputs": [],
   "source": [
    "def crossentropy(y_true, y_pred):\n",
    "    return tf.keras.losses.sparse_categorical_crossentropy(y_true, y_pred)"
   ]
  },
  {
   "cell_type": "code",
   "execution_count": 42,
   "metadata": {
    "tags": []
   },
   "outputs": [],
   "source": [
    "loss  = crossentropy(_targets, output_words_prob)"
   ]
  },
  {
   "cell_type": "markdown",
   "metadata": {},
   "source": [
    "Lets look at the first 10 values of loss:\n"
   ]
  },
  {
   "cell_type": "code",
   "execution_count": 43,
   "metadata": {
    "tags": []
   },
   "outputs": [
    {
     "data": {
      "text/plain": [
       "<tf.Tensor: shape=(10,), dtype=float32, numpy=\n",
       "array([9.210595, 9.20987 , 9.210518, 9.21041 , 9.210084, 9.210346,\n",
       "       9.210727, 9.210045, 9.208984, 9.210655], dtype=float32)>"
      ]
     },
     "execution_count": 43,
     "metadata": {},
     "output_type": "execute_result"
    }
   ],
   "source": [
    "loss[0,:10]"
   ]
  },
  {
   "cell_type": "markdown",
   "metadata": {},
   "source": [
    "Now, we define cost as average of the losses:\n"
   ]
  },
  {
   "cell_type": "code",
   "execution_count": 44,
   "metadata": {
    "tags": []
   },
   "outputs": [
    {
     "data": {
      "text/plain": [
       "<tf.Tensor: shape=(), dtype=float32, numpy=184.20718>"
      ]
     },
     "execution_count": 44,
     "metadata": {},
     "output_type": "execute_result"
    }
   ],
   "source": [
    "cost = tf.reduce_sum(loss / batch_size)\n",
    "cost"
   ]
  },
  {
   "cell_type": "markdown",
   "metadata": {},
   "source": [
    "<h3>Training</h3>\n",
    "\n",
    "To do training for our network, we have to take the following steps:\n",
    "<ol>\n",
    "    <li>Define the optimizer.</li>\n",
    "    <li>Assemble layers to build model.</li>\n",
    "    <li>Calculate the gradients based on the loss function.</li>\n",
    "    <li>Apply the optimizer to the variables/gradients tuple.</li>\n",
    "</ol>\n"
   ]
  },
  {
   "cell_type": "markdown",
   "metadata": {},
   "source": [
    "<h4>1. Define Optimizer</h4>\n",
    "\n"
   ]
  },
  {
   "cell_type": "code",
   "execution_count": 45,
   "metadata": {
    "tags": []
   },
   "outputs": [
    {
     "name": "stderr",
     "output_type": "stream",
     "text": [
      "/home/jupyterlab/conda/envs/python/lib/python3.7/site-packages/keras/optimizers/optimizer_v2/gradient_descent.py:108: UserWarning: The `lr` argument is deprecated, use `learning_rate` instead.\n",
      "  super(SGD, self).__init__(name, **kwargs)\n"
     ]
    }
   ],
   "source": [
    "# Create a variable for the learning rate\n",
    "lr = tf.Variable(0.0, trainable=False)\n",
    "optimizer = tf.keras.optimizers.SGD(lr=lr, clipnorm=max_grad_norm)"
   ]
  },
  {
   "cell_type": "markdown",
   "metadata": {},
   "source": [
    "<h4>2. Assemble layers to build model.</h4>\n"
   ]
  },
  {
   "cell_type": "code",
   "execution_count": 46,
   "metadata": {
    "tags": []
   },
   "outputs": [
    {
     "name": "stdout",
     "output_type": "stream",
     "text": [
      "Model: \"sequential\"\n",
      "_________________________________________________________________\n",
      " Layer (type)                Output Shape              Param #   \n",
      "=================================================================\n",
      " embedding_vocab (Embedding)  (30, 20, 200)            2000000   \n",
      "                                                                 \n",
      " rnn (RNN)                   (30, 20, 128)             671088    \n",
      "                                                                 \n",
      " dense (Dense)               (30, 20, 10000)           1290000   \n",
      "                                                                 \n",
      " activation (Activation)     (30, 20, 10000)           0         \n",
      "                                                                 \n",
      "=================================================================\n",
      "Total params: 3,961,088\n",
      "Trainable params: 3,955,088\n",
      "Non-trainable params: 6,000\n",
      "_________________________________________________________________\n"
     ]
    }
   ],
   "source": [
    "model = tf.keras.Sequential()\n",
    "model.add(embedding_layer)\n",
    "model.add(layer)\n",
    "model.add(dense)\n",
    "model.add(activation)\n",
    "model.compile(loss=crossentropy, optimizer=optimizer)\n",
    "model.summary()"
   ]
  },
  {
   "cell_type": "markdown",
   "metadata": {},
   "source": [
    "\n",
    "<h4>2. Trainable Variables</h4>\n"
   ]
  },
  {
   "cell_type": "markdown",
   "metadata": {},
   "source": [
    "Defining a variable, if you passed <i>trainable=True</i>, the variable constructor automatically adds new variables to the graph collection <b>GraphKeys.TRAINABLE_VARIABLES</b>. Now, using <i>tf.trainable_variables()</i> you can get all variables created with <b>trainable=True</b>.\n"
   ]
  },
  {
   "cell_type": "code",
   "execution_count": 47,
   "metadata": {
    "tags": []
   },
   "outputs": [],
   "source": [
    "# Get all TensorFlow variables marked as \"trainable\" (i.e. all of them except _lr, which we just created)\n",
    "tvars = model.trainable_variables"
   ]
  },
  {
   "cell_type": "markdown",
   "metadata": {},
   "source": [
    "Note: we can find the name and scope of all variables:\n"
   ]
  },
  {
   "cell_type": "code",
   "execution_count": 48,
   "metadata": {
    "tags": []
   },
   "outputs": [
    {
     "data": {
      "text/plain": [
       "['embedding_vocab/embeddings:0',\n",
       " 'rnn/stacked_rnn_cells/lstm_cell/kernel:0',\n",
       " 'rnn/stacked_rnn_cells/lstm_cell/recurrent_kernel:0',\n",
       " 'rnn/stacked_rnn_cells/lstm_cell/bias:0',\n",
       " 'rnn/stacked_rnn_cells/lstm_cell_1/kernel:0',\n",
       " 'rnn/stacked_rnn_cells/lstm_cell_1/recurrent_kernel:0',\n",
       " 'rnn/stacked_rnn_cells/lstm_cell_1/bias:0',\n",
       " 'dense/kernel:0',\n",
       " 'dense/bias:0']"
      ]
     },
     "execution_count": 48,
     "metadata": {},
     "output_type": "execute_result"
    }
   ],
   "source": [
    "[v.name for v in tvars] "
   ]
  },
  {
   "cell_type": "markdown",
   "metadata": {},
   "source": [
    "<h4>3. Calculate the gradients based on the loss function</h4>\n"
   ]
  },
  {
   "cell_type": "markdown",
   "metadata": {},
   "source": [
    "**Gradient**: The gradient of a function is the slope of its derivative (line), or in other words, the rate of change of a function. It's a vector (a direction to move) that points in the direction of greatest increase of the function, and calculated by the <b>derivative</b> operation.\n"
   ]
  },
  {
   "cell_type": "markdown",
   "metadata": {},
   "source": [
    "First lets recall the gradient function using an toy example:\n",
    "$$ z = \\left(2x^2 + 3xy\\right)$$\n"
   ]
  },
  {
   "cell_type": "code",
   "execution_count": 49,
   "metadata": {
    "tags": []
   },
   "outputs": [],
   "source": [
    "x = tf.constant(1.0)\n",
    "y =  tf.constant(2.0)\n",
    "with tf.GradientTape(persistent=True) as g:\n",
    "    g.watch(x)\n",
    "    g.watch(y)\n",
    "    func_test = 2 * x * x + 3 * x * y"
   ]
  },
  {
   "cell_type": "markdown",
   "metadata": {},
   "source": [
    "The <b>tf.gradients()</b> function allows you to compute the symbolic gradient of one tensor with respect to one or more other tensors—including variables. <b>tf.gradients(func, xs)</b> constructs symbolic partial derivatives of sum of <b>func</b> w.r.t. <i>x</i> in <b>xs</b>. \n",
    "\n",
    "Now, lets look at the derivitive w.r.t. <b>var_x</b>:\n",
    "$$ \\frac{\\partial \\:}{\\partial \\:x}\\left(2x^2 + 3xy\\right) = 4x + 3y $$\n"
   ]
  },
  {
   "cell_type": "code",
   "execution_count": 50,
   "metadata": {
    "tags": []
   },
   "outputs": [
    {
     "name": "stdout",
     "output_type": "stream",
     "text": [
      "tf.Tensor(10.0, shape=(), dtype=float32)\n"
     ]
    }
   ],
   "source": [
    "var_grad = g.gradient(func_test, x) # Will compute to 10.0\n",
    "print(var_grad)"
   ]
  },
  {
   "cell_type": "markdown",
   "metadata": {},
   "source": [
    "the derivative w.r.t. <b>var_y</b>:\n",
    "$$ \\frac{\\partial \\:}{\\partial \\:y}\\left(2x^2 + 3xy\\right) = 3x $$\n"
   ]
  },
  {
   "cell_type": "code",
   "execution_count": 51,
   "metadata": {
    "tags": []
   },
   "outputs": [
    {
     "name": "stdout",
     "output_type": "stream",
     "text": [
      "tf.Tensor(3.0, shape=(), dtype=float32)\n"
     ]
    }
   ],
   "source": [
    "var_grad = g.gradient(func_test, y) # Will compute to 3.0\n",
    "print(var_grad)"
   ]
  },
  {
   "cell_type": "markdown",
   "metadata": {},
   "source": [
    "Now, we can look at gradients w.r.t all variables:\n"
   ]
  },
  {
   "cell_type": "code",
   "execution_count": 52,
   "metadata": {
    "tags": []
   },
   "outputs": [],
   "source": [
    "with tf.GradientTape() as tape:\n",
    "    # Forward pass.\n",
    "    output_words_prob = model(_input_data)\n",
    "    # Loss value for this batch.\n",
    "    loss  = crossentropy(_targets, output_words_prob)\n",
    "    cost = tf.reduce_sum(loss,axis=0) / batch_size"
   ]
  },
  {
   "cell_type": "code",
   "execution_count": 53,
   "metadata": {
    "tags": []
   },
   "outputs": [],
   "source": [
    "# Get gradients of loss wrt the trainable variables.\n",
    "grad_t_list = tape.gradient(cost, tvars)"
   ]
  },
  {
   "cell_type": "code",
   "execution_count": 54,
   "metadata": {
    "tags": []
   },
   "outputs": [
    {
     "name": "stdout",
     "output_type": "stream",
     "text": [
      "[<tensorflow.python.framework.indexed_slices.IndexedSlices object at 0x7fb8996eb6d0>, <tf.Tensor: shape=(200, 1024), dtype=float32, numpy=\n",
      "array([[-3.6074358e-08,  5.4353177e-07, -8.2575440e-07, ...,\n",
      "        -3.1737696e-07,  1.4093476e-07, -5.9686295e-07],\n",
      "       [-1.9973626e-07, -2.8242749e-07,  1.0145313e-06, ...,\n",
      "        -7.6526220e-08,  9.0074280e-08,  3.6137499e-07],\n",
      "       [ 1.8483517e-07,  4.2915286e-08, -2.1169620e-07, ...,\n",
      "         1.4869839e-07,  1.9091217e-07,  4.0355135e-07],\n",
      "       ...,\n",
      "       [-3.0762942e-07, -5.8603086e-07, -4.1250166e-07, ...,\n",
      "        -9.6956363e-08, -4.7185986e-07,  2.6128586e-07],\n",
      "       [ 2.4102792e-07, -1.9009854e-06, -1.3117298e-07, ...,\n",
      "         7.5343593e-08, -3.4999616e-08,  7.1457102e-08],\n",
      "       [-3.2248643e-08, -1.4160638e-07, -1.0560276e-06, ...,\n",
      "         5.7121632e-08, -4.3415665e-07, -2.4220839e-08]], dtype=float32)>, <tf.Tensor: shape=(256, 1024), dtype=float32, numpy=\n",
      "array([[ 6.05847319e-08,  4.87429901e-08, -1.41694585e-07, ...,\n",
      "         4.18993977e-08,  8.30838189e-08,  8.57706297e-08],\n",
      "       [ 6.82823327e-08, -7.09548758e-08,  2.23024927e-07, ...,\n",
      "         8.93453063e-08,  1.43448045e-08, -4.24127435e-08],\n",
      "       [-1.33087994e-07,  4.05545819e-09,  3.51175302e-08, ...,\n",
      "         7.26444398e-08, -4.15630979e-08, -1.54141730e-07],\n",
      "       ...,\n",
      "       [-3.23768177e-08, -1.49942885e-08,  4.84694453e-08, ...,\n",
      "         3.94237283e-08, -4.93974106e-09, -1.85976887e-07],\n",
      "       [-4.69833985e-08, -8.29414493e-09, -2.81928266e-07, ...,\n",
      "         4.18060537e-08,  5.59700801e-08, -1.20099870e-07],\n",
      "       [-1.39217690e-07, -1.47941591e-07,  6.95461608e-08, ...,\n",
      "        -4.44801103e-08,  7.53345830e-08, -9.84496467e-08]], dtype=float32)>, <tf.Tensor: shape=(1024,), dtype=float32, numpy=\n",
      "array([-1.6657707e-05,  1.1265965e-06, -1.9606454e-05, ...,\n",
      "        3.1346026e-06,  9.5692403e-06, -3.0399860e-05], dtype=float32)>, <tf.Tensor: shape=(256, 512), dtype=float32, numpy=\n",
      "array([[ 1.12402745e-07, -2.22646889e-07,  9.70887726e-08, ...,\n",
      "         7.80589247e-08, -3.37692150e-08, -3.99727952e-07],\n",
      "       [-1.48092596e-07,  8.80087754e-08,  9.07166893e-08, ...,\n",
      "         1.33297121e-07,  1.19169130e-07, -1.51086226e-07],\n",
      "       [ 9.12803131e-08, -7.50152822e-07,  1.28122792e-07, ...,\n",
      "        -3.03428962e-08, -3.00922807e-07, -2.29508103e-07],\n",
      "       ...,\n",
      "       [ 3.78530132e-08, -4.30577956e-08,  1.32245987e-07, ...,\n",
      "         2.90614651e-07, -1.65484551e-08, -3.88687909e-08],\n",
      "       [ 8.76286137e-08, -5.33641469e-07, -1.98016139e-07, ...,\n",
      "         2.64136233e-08, -1.60708467e-07,  2.06624549e-07],\n",
      "       [-5.22234700e-10, -5.07159825e-09,  1.61672375e-07, ...,\n",
      "         3.64848745e-07, -1.89815452e-07,  4.71814019e-08]], dtype=float32)>, <tf.Tensor: shape=(128, 512), dtype=float32, numpy=\n",
      "array([[-1.27547075e-08, -1.64836777e-07, -5.35306555e-09, ...,\n",
      "        -3.14717354e-08,  1.00241039e-07,  7.51684297e-08],\n",
      "       [-8.21874977e-08,  6.88290299e-07,  9.00409987e-08, ...,\n",
      "        -6.94829083e-08,  2.64727589e-07,  1.62775521e-07],\n",
      "       [ 4.39237091e-08,  7.71143362e-08,  4.14413748e-08, ...,\n",
      "         1.98130365e-07, -6.14201952e-08, -4.87436580e-08],\n",
      "       ...,\n",
      "       [ 2.19465726e-08,  3.02435872e-08,  8.13354362e-08, ...,\n",
      "         3.86961972e-07, -1.56276911e-08, -1.35190575e-07],\n",
      "       [-7.35136467e-08,  9.00062105e-08, -3.74158731e-08, ...,\n",
      "        -3.78538125e-08,  7.63905064e-08, -1.99080972e-07],\n",
      "       [-6.65821442e-09,  1.90247576e-07, -9.41404750e-08, ...,\n",
      "        -1.86918726e-07,  6.56266295e-08,  3.86262911e-07]], dtype=float32)>, <tf.Tensor: shape=(512,), dtype=float32, numpy=\n",
      "array([ 4.07844027e-06, -1.04925901e-04,  2.22316794e-06, -3.83191873e-05,\n",
      "        5.13401483e-06, -4.35435104e-05,  7.29378098e-06,  6.13848351e-06,\n",
      "        5.26958593e-06,  2.03090458e-05, -3.41939040e-06,  5.41138797e-06,\n",
      "        1.79669933e-05, -1.72519522e-05, -5.78603285e-05,  6.07205257e-05,\n",
      "       -1.10540523e-05,  5.14768872e-05, -3.63531253e-05,  8.78992723e-05,\n",
      "        8.27578606e-06,  3.29485083e-05,  2.12482382e-06, -2.71425633e-05,\n",
      "       -3.30285620e-05,  4.61494892e-06, -2.86820577e-05, -1.63694131e-05,\n",
      "       -2.64903429e-05,  6.88446671e-05, -8.18235640e-05, -2.27840301e-05,\n",
      "        1.28966076e-06,  7.85241355e-07, -4.00579884e-05,  7.90222111e-06,\n",
      "       -2.51033271e-07, -4.21011237e-06,  1.34794700e-05, -6.25003231e-05,\n",
      "       -9.04819317e-05,  6.38959045e-06, -1.91779181e-05,  5.66990057e-05,\n",
      "        6.81749734e-05,  2.86783434e-05,  1.47392784e-05, -7.73652137e-05,\n",
      "       -7.60614130e-05,  2.12129744e-05, -2.57194006e-06, -2.83846639e-05,\n",
      "       -7.02832403e-06, -3.38482241e-05, -3.98452321e-05, -3.66177073e-06,\n",
      "        7.19661984e-05,  1.75002406e-05, -1.57590512e-06, -2.33954561e-05,\n",
      "       -1.53003475e-06,  1.38371706e-06,  2.58654745e-05,  1.74917332e-05,\n",
      "       -8.81147571e-06, -4.12127383e-06,  2.63143120e-05, -4.08689593e-05,\n",
      "        3.38779464e-05,  2.96805883e-05,  2.37216846e-05,  1.47835044e-05,\n",
      "        1.86414945e-05, -1.23455739e-05,  6.76318723e-06, -1.33003196e-05,\n",
      "       -1.51708282e-05,  8.40404609e-05,  3.34181605e-05, -1.26985060e-05,\n",
      "       -3.63437794e-05, -8.42876034e-06, -6.01292413e-06, -1.25760062e-05,\n",
      "        2.25300973e-05,  6.41894585e-05, -1.62972228e-05,  8.60923865e-06,\n",
      "        4.16851071e-05,  1.11266263e-05,  9.74283830e-06,  4.25850703e-06,\n",
      "       -3.43392603e-05, -1.30364160e-05, -1.21878002e-05,  5.16745386e-05,\n",
      "        7.41405602e-05, -2.73660844e-05, -4.14431634e-05, -1.77215752e-05,\n",
      "        6.17614296e-06,  4.57938440e-05,  3.14705358e-05,  1.26189989e-05,\n",
      "       -2.56784497e-05, -6.14694072e-05,  1.98898833e-05,  2.52208629e-05,\n",
      "       -7.89174919e-06,  4.59386592e-06,  6.94852588e-06,  3.92480069e-06,\n",
      "       -2.20917536e-05, -1.16176325e-05,  4.41125849e-05,  3.70873167e-05,\n",
      "        1.81509313e-05,  1.43242114e-05,  2.28605440e-05,  1.47691562e-05,\n",
      "        1.40645498e-05,  4.57524948e-05,  3.99546407e-05,  7.39381449e-06,\n",
      "       -1.34182046e-05,  3.32338750e-05, -1.60674899e-05, -6.47766228e-06,\n",
      "       -1.28327119e-05, -1.51548185e-04, -4.40666190e-06, -5.00378155e-05,\n",
      "       -1.55293083e-06, -6.04366323e-05,  1.54527970e-06, -1.02841586e-05,\n",
      "        3.70162379e-05,  1.16925230e-05,  1.39341864e-05,  4.38496063e-05,\n",
      "        2.92081022e-05, -1.39107087e-05, -5.77992760e-05,  1.17838797e-04,\n",
      "       -2.20427410e-05,  5.48400130e-05, -4.60990595e-05,  1.32029018e-04,\n",
      "        1.39714184e-05,  4.40329713e-05,  7.77222613e-06, -1.68976730e-05,\n",
      "       -3.89654451e-05,  2.26492084e-05, -3.07224327e-05, -2.38323992e-05,\n",
      "       -2.77536365e-05,  5.76519451e-05, -9.97158932e-05, -2.45406536e-05,\n",
      "       -1.75541682e-05, -8.17422188e-06, -8.61346925e-05,  2.43871236e-05,\n",
      "       -1.00792022e-05, -5.04143236e-06, -1.52856956e-06, -6.99628436e-05,\n",
      "       -1.11554771e-04,  7.85717657e-06, -2.60480847e-05,  4.78447182e-05,\n",
      "        4.63200304e-05,  4.15449576e-05,  2.58876462e-05, -9.60039324e-05,\n",
      "       -1.43893078e-04,  2.93125850e-05,  1.58285948e-05, -1.72937544e-05,\n",
      "       -2.09290047e-05, -2.51928868e-05, -2.59910830e-05,  5.01902059e-06,\n",
      "        1.28428583e-04,  6.24460063e-06, -7.86508645e-06, -4.57290298e-05,\n",
      "        1.40769839e-06,  1.97103200e-05,  8.12134476e-06, -3.61142156e-06,\n",
      "       -1.15556641e-05, -1.78370046e-05,  3.51556191e-05, -1.23849441e-05,\n",
      "        4.31345361e-05,  2.07622597e-05,  3.45184199e-05,  3.33622775e-05,\n",
      "        1.79814288e-06, -2.22846775e-05,  1.17407953e-05, -2.34115523e-05,\n",
      "       -2.63986694e-05,  8.92622556e-05,  4.77659414e-05, -4.70973682e-05,\n",
      "       -4.56521157e-05, -2.11727056e-05, -1.89500970e-05, -1.46648272e-05,\n",
      "        2.76848205e-05,  8.56583501e-05,  2.12330633e-08, -7.75995886e-06,\n",
      "        3.82823055e-05,  5.60913577e-06,  3.60672857e-05, -2.62338381e-06,\n",
      "       -9.24584856e-06, -4.72057582e-05, -1.93782271e-05,  5.81483509e-05,\n",
      "        1.14635848e-04, -2.32957536e-05, -3.37510864e-05, -9.47721674e-06,\n",
      "       -4.11175870e-06,  8.83942848e-05,  4.42280689e-05,  3.07422015e-05,\n",
      "       -6.53512034e-05, -1.07571905e-04,  5.14508793e-05,  3.84983505e-05,\n",
      "       -2.52457039e-06, -4.37846120e-06, -1.01035876e-05, -1.05382969e-06,\n",
      "       -3.84976374e-05, -1.39886433e-05,  6.66192427e-05,  4.04258899e-05,\n",
      "       -1.84204237e-05,  5.72437239e-05,  1.00977586e-05,  2.18480964e-05,\n",
      "        3.91938520e-05,  9.40183236e-05,  2.29819816e-05,  1.34882503e-05,\n",
      "        2.54561619e-05,  5.92051365e-05, -4.80155359e-06,  3.60990452e-05,\n",
      "       -6.16353285e-03,  4.88628447e-02,  4.59383568e-03, -3.51609364e-02,\n",
      "       -4.75842580e-02,  8.94296262e-03, -1.01723550e-02, -1.07070459e-02,\n",
      "       -2.27657333e-03, -1.49269048e-02,  2.05109478e-04,  3.76774594e-02,\n",
      "       -6.66448800e-03,  1.11620277e-02,  5.23286173e-03,  6.30840287e-02,\n",
      "       -2.37444863e-02,  1.83491632e-02, -4.16749418e-02,  3.28878015e-02,\n",
      "       -6.12216303e-03,  1.75552443e-02, -4.89115342e-03,  2.85239536e-02,\n",
      "       -2.97035165e-02, -9.67235956e-03,  2.47731339e-02, -2.85881143e-02,\n",
      "        1.96371544e-02, -1.82931982e-02,  4.75184768e-02, -9.95616987e-03,\n",
      "        1.46933477e-02, -4.39555421e-02,  3.33311707e-02, -2.43887631e-03,\n",
      "       -1.23859756e-02,  3.14613292e-03,  1.12089533e-02,  2.32100319e-02,\n",
      "       -3.93808037e-02,  1.21730501e-02,  3.86750838e-03,  3.15752104e-02,\n",
      "       -1.51165891e-02, -7.16156838e-03, -3.46801616e-03, -4.11720425e-02,\n",
      "       -4.05246802e-02,  5.74998884e-03, -1.02369878e-02, -3.82652916e-02,\n",
      "        8.04325379e-03,  5.70027083e-02,  1.87124982e-02,  2.16976292e-02,\n",
      "        3.66899893e-02, -1.53553560e-02, -4.25135763e-03,  1.25668328e-02,\n",
      "        5.05024660e-03,  2.15759175e-03, -1.65756047e-02,  1.27307847e-02,\n",
      "        2.17066258e-02, -2.43643764e-02, -4.38469416e-03, -2.45238515e-03,\n",
      "        4.42243088e-03, -3.04522477e-02,  1.39284953e-02, -1.37369856e-02,\n",
      "        2.16607191e-02,  7.14402692e-03,  4.57147835e-04, -9.45890695e-03,\n",
      "       -1.06373625e-02, -2.53701471e-02, -1.91746708e-02, -3.36130001e-02,\n",
      "        6.38550892e-03, -2.13667713e-02,  3.67498794e-03,  1.46710454e-03,\n",
      "        2.65063178e-02, -9.12914611e-03,  4.63309586e-02,  2.54044253e-02,\n",
      "       -8.41408968e-03, -1.82075407e-02, -7.93098006e-03,  1.71115156e-03,\n",
      "       -1.52290966e-02, -1.73874907e-02,  1.78210214e-02,  6.19874373e-02,\n",
      "       -3.96385118e-02,  2.62411926e-02,  4.20691818e-02, -2.10389830e-02,\n",
      "       -3.80015150e-02, -5.10176346e-02,  3.41646560e-03,  2.04184428e-02,\n",
      "       -1.59928594e-02,  3.67123820e-02,  5.18755652e-02, -6.75066039e-02,\n",
      "        1.00680860e-03, -1.01915393e-02, -4.84851468e-03,  5.20633301e-04,\n",
      "       -4.24621701e-02,  4.95197996e-02, -4.44239192e-02,  4.00694832e-02,\n",
      "        2.57898122e-02, -3.11835669e-02,  2.50120647e-02,  9.65999160e-03,\n",
      "       -1.53739266e-02,  1.68165918e-02, -1.86615586e-02, -4.62318175e-02,\n",
      "        3.92087968e-03,  3.30265239e-02,  5.67405522e-02,  4.58119623e-02,\n",
      "       -1.09040730e-06, -1.15223935e-04, -5.66357267e-06, -4.65830090e-05,\n",
      "        1.40750926e-05, -4.33961759e-05,  8.65610764e-06,  2.31425179e-06,\n",
      "        7.74604359e-06,  2.73821734e-05,  2.71311183e-06,  8.48673972e-06,\n",
      "        1.52046578e-05, -1.07554079e-05, -5.75726554e-05,  7.44964054e-05,\n",
      "       -3.10126597e-06,  4.95665590e-05, -4.36322080e-05,  1.00561672e-04,\n",
      "        6.21763684e-06,  3.06146540e-05,  3.02965691e-06, -2.36409705e-05,\n",
      "       -3.60302074e-05,  2.15374057e-05, -2.61190089e-05, -2.64752598e-05,\n",
      "       -2.42794085e-05,  6.75065894e-05, -9.13127151e-05, -2.21201608e-05,\n",
      "       -1.07746037e-05,  6.45725049e-06, -6.13675002e-05,  5.25339101e-06,\n",
      "       -2.85711576e-06, -4.38976804e-06,  2.05004289e-05, -5.75182603e-05,\n",
      "       -9.46485452e-05,  4.24432119e-06, -2.84050911e-05,  6.43116728e-05,\n",
      "        5.60683620e-05,  1.97912468e-05,  1.09954262e-05, -8.92118987e-05,\n",
      "       -8.91496020e-05,  2.28777972e-05,  7.15681745e-06, -3.00899919e-05,\n",
      "       -1.27098247e-05, -3.41727500e-05, -3.41159284e-05,  2.07358426e-06,\n",
      "        7.53573113e-05,  1.58044477e-05,  1.76259982e-06, -2.43026043e-05,\n",
      "       -5.07062396e-06,  8.74639591e-06,  1.48820563e-05,  1.24006692e-05,\n",
      "       -5.15143483e-06,  1.32843843e-06,  2.63212569e-05, -3.84661980e-05,\n",
      "        3.95378702e-05,  3.50920891e-05,  2.56528383e-05,  1.53880774e-05,\n",
      "        8.08032837e-06, -1.90764513e-05,  1.25496199e-05, -1.50477554e-05,\n",
      "       -1.47385426e-05,  8.97398277e-05,  4.09000422e-05, -1.85433164e-05,\n",
      "       -3.67183820e-05, -1.53930359e-05, -1.05064082e-05, -1.51077911e-05,\n",
      "        2.13047497e-05,  7.30128741e-05, -1.37584411e-05,  5.93736695e-06,\n",
      "        4.03239901e-05,  4.13363887e-06,  6.29518763e-06,  6.42166015e-06,\n",
      "       -3.01327927e-05, -2.33106093e-05,  3.85520252e-06,  5.29426325e-05,\n",
      "        8.16932588e-05, -2.52007594e-05, -4.52711938e-05, -2.38007342e-05,\n",
      "        7.02572834e-06,  6.62415987e-05,  3.36789890e-05,  8.72134478e-06,\n",
      "       -2.27917808e-05, -6.60922233e-05,  1.25456445e-05,  2.63414749e-05,\n",
      "       -1.92596417e-05,  8.14124178e-06,  4.36247637e-06,  4.89770082e-06,\n",
      "       -2.88314368e-05, -1.56869155e-05,  5.26581207e-05,  3.91274079e-05,\n",
      "        3.30949661e-06,  2.01947059e-05,  2.80718123e-05,  1.01392689e-05,\n",
      "        1.54341287e-05,  5.20016547e-05,  4.03452977e-05,  1.20834911e-05,\n",
      "       -1.06482930e-05,  3.92237707e-05, -1.68566639e-05, -1.16878327e-05],\n",
      "      dtype=float32)>, <tf.Tensor: shape=(128, 10000), dtype=float32, numpy=\n",
      "array([[-1.4172764e-03, -1.2100316e-03, -1.2873997e-03, ...,\n",
      "         1.5789508e-06,  1.5800288e-06,  1.5795531e-06],\n",
      "       [ 2.7840992e-03,  2.0703957e-03,  2.1131602e-03, ...,\n",
      "        -4.8541197e-06, -4.8547818e-06, -4.8573102e-06],\n",
      "       [ 3.1387818e-04, -4.9968070e-04, -3.1829451e-04, ...,\n",
      "         3.9740149e-07,  3.9942023e-07,  3.9929529e-07],\n",
      "       ...,\n",
      "       [-1.7237390e-04,  9.2847244e-04,  1.2399798e-04, ...,\n",
      "         1.1302755e-06,  1.1301165e-06,  1.1308165e-06],\n",
      "       [ 7.7331084e-04,  3.1317887e-04,  1.2547639e-03, ...,\n",
      "        -2.0148659e-06, -2.0134080e-06, -2.0142304e-06],\n",
      "       [ 2.6685794e-04, -7.4708159e-04, -1.7707223e-03, ...,\n",
      "         7.2322871e-07,  7.2318119e-07,  7.2343380e-07]], dtype=float32)>, <tf.Tensor: shape=(10000,), dtype=float32, numpy=\n",
      "array([-0.797998  , -1.031332  , -1.0313313 , ...,  0.00199976,\n",
      "        0.0019999 ,  0.0020005 ], dtype=float32)>]\n"
     ]
    }
   ],
   "source": [
    "print(grad_t_list)"
   ]
  },
  {
   "cell_type": "markdown",
   "metadata": {},
   "source": [
    "\n",
    "\n",
    "\n",
    "now, we have a list of tensors, t-list. We can use it to find clipped tensors. <b>clip_by_global_norm</b> clips values of multiple tensors by the ratio of the sum of their norms.\n",
    "\n",
    "<b>clip_by_global_norm</b> get <i>t-list</i> as input and returns 2 things:\n",
    "<ul>\n",
    "    <li>a list of clipped tensors, so called <i>list_clipped</i></li> \n",
    "    <li>the global norm (global_norm) of all tensors in t_list</li> \n",
    "</ul>\n"
   ]
  },
  {
   "cell_type": "code",
   "execution_count": 55,
   "metadata": {
    "tags": []
   },
   "outputs": [
    {
     "data": {
      "text/plain": [
       "[<tensorflow.python.framework.indexed_slices.IndexedSlices at 0x7fb82dcc3fd0>,\n",
       " <tf.Tensor: shape=(200, 1024), dtype=float32, numpy=\n",
       " array([[-3.6074358e-08,  5.4353177e-07, -8.2575440e-07, ...,\n",
       "         -3.1737696e-07,  1.4093476e-07, -5.9686295e-07],\n",
       "        [-1.9973626e-07, -2.8242749e-07,  1.0145313e-06, ...,\n",
       "         -7.6526220e-08,  9.0074280e-08,  3.6137499e-07],\n",
       "        [ 1.8483517e-07,  4.2915286e-08, -2.1169620e-07, ...,\n",
       "          1.4869839e-07,  1.9091217e-07,  4.0355135e-07],\n",
       "        ...,\n",
       "        [-3.0762942e-07, -5.8603086e-07, -4.1250166e-07, ...,\n",
       "         -9.6956363e-08, -4.7185986e-07,  2.6128586e-07],\n",
       "        [ 2.4102792e-07, -1.9009854e-06, -1.3117298e-07, ...,\n",
       "          7.5343593e-08, -3.4999616e-08,  7.1457102e-08],\n",
       "        [-3.2248643e-08, -1.4160638e-07, -1.0560276e-06, ...,\n",
       "          5.7121632e-08, -4.3415665e-07, -2.4220839e-08]], dtype=float32)>,\n",
       " <tf.Tensor: shape=(256, 1024), dtype=float32, numpy=\n",
       " array([[ 6.05847319e-08,  4.87429901e-08, -1.41694585e-07, ...,\n",
       "          4.18993977e-08,  8.30838189e-08,  8.57706297e-08],\n",
       "        [ 6.82823327e-08, -7.09548758e-08,  2.23024927e-07, ...,\n",
       "          8.93453063e-08,  1.43448045e-08, -4.24127435e-08],\n",
       "        [-1.33087994e-07,  4.05545819e-09,  3.51175302e-08, ...,\n",
       "          7.26444398e-08, -4.15630979e-08, -1.54141730e-07],\n",
       "        ...,\n",
       "        [-3.23768177e-08, -1.49942885e-08,  4.84694453e-08, ...,\n",
       "          3.94237283e-08, -4.93974106e-09, -1.85976887e-07],\n",
       "        [-4.69833985e-08, -8.29414493e-09, -2.81928266e-07, ...,\n",
       "          4.18060537e-08,  5.59700801e-08, -1.20099870e-07],\n",
       "        [-1.39217690e-07, -1.47941591e-07,  6.95461608e-08, ...,\n",
       "         -4.44801103e-08,  7.53345830e-08, -9.84496467e-08]], dtype=float32)>,\n",
       " <tf.Tensor: shape=(1024,), dtype=float32, numpy=\n",
       " array([-1.6657707e-05,  1.1265965e-06, -1.9606454e-05, ...,\n",
       "         3.1346026e-06,  9.5692403e-06, -3.0399860e-05], dtype=float32)>,\n",
       " <tf.Tensor: shape=(256, 512), dtype=float32, numpy=\n",
       " array([[ 1.12402745e-07, -2.22646889e-07,  9.70887726e-08, ...,\n",
       "          7.80589247e-08, -3.37692150e-08, -3.99727952e-07],\n",
       "        [-1.48092596e-07,  8.80087754e-08,  9.07166893e-08, ...,\n",
       "          1.33297121e-07,  1.19169130e-07, -1.51086226e-07],\n",
       "        [ 9.12803131e-08, -7.50152822e-07,  1.28122792e-07, ...,\n",
       "         -3.03428962e-08, -3.00922807e-07, -2.29508103e-07],\n",
       "        ...,\n",
       "        [ 3.78530132e-08, -4.30577956e-08,  1.32245987e-07, ...,\n",
       "          2.90614651e-07, -1.65484551e-08, -3.88687909e-08],\n",
       "        [ 8.76286137e-08, -5.33641469e-07, -1.98016139e-07, ...,\n",
       "          2.64136233e-08, -1.60708467e-07,  2.06624549e-07],\n",
       "        [-5.22234700e-10, -5.07159825e-09,  1.61672375e-07, ...,\n",
       "          3.64848745e-07, -1.89815452e-07,  4.71814019e-08]], dtype=float32)>,\n",
       " <tf.Tensor: shape=(128, 512), dtype=float32, numpy=\n",
       " array([[-1.27547075e-08, -1.64836777e-07, -5.35306555e-09, ...,\n",
       "         -3.14717354e-08,  1.00241039e-07,  7.51684297e-08],\n",
       "        [-8.21874977e-08,  6.88290299e-07,  9.00409987e-08, ...,\n",
       "         -6.94829083e-08,  2.64727589e-07,  1.62775521e-07],\n",
       "        [ 4.39237091e-08,  7.71143362e-08,  4.14413748e-08, ...,\n",
       "          1.98130365e-07, -6.14201952e-08, -4.87436580e-08],\n",
       "        ...,\n",
       "        [ 2.19465726e-08,  3.02435872e-08,  8.13354362e-08, ...,\n",
       "          3.86961972e-07, -1.56276911e-08, -1.35190575e-07],\n",
       "        [-7.35136467e-08,  9.00062105e-08, -3.74158731e-08, ...,\n",
       "         -3.78538125e-08,  7.63905064e-08, -1.99080972e-07],\n",
       "        [-6.65821442e-09,  1.90247576e-07, -9.41404750e-08, ...,\n",
       "         -1.86918726e-07,  6.56266295e-08,  3.86262911e-07]], dtype=float32)>,\n",
       " <tf.Tensor: shape=(512,), dtype=float32, numpy=\n",
       " array([ 4.07844027e-06, -1.04925901e-04,  2.22316794e-06, -3.83191873e-05,\n",
       "         5.13401483e-06, -4.35435104e-05,  7.29378098e-06,  6.13848351e-06,\n",
       "         5.26958593e-06,  2.03090458e-05, -3.41939040e-06,  5.41138797e-06,\n",
       "         1.79669933e-05, -1.72519522e-05, -5.78603285e-05,  6.07205257e-05,\n",
       "        -1.10540523e-05,  5.14768872e-05, -3.63531253e-05,  8.78992723e-05,\n",
       "         8.27578606e-06,  3.29485083e-05,  2.12482382e-06, -2.71425633e-05,\n",
       "        -3.30285620e-05,  4.61494892e-06, -2.86820577e-05, -1.63694131e-05,\n",
       "        -2.64903429e-05,  6.88446671e-05, -8.18235640e-05, -2.27840301e-05,\n",
       "         1.28966076e-06,  7.85241355e-07, -4.00579884e-05,  7.90222111e-06,\n",
       "        -2.51033271e-07, -4.21011237e-06,  1.34794700e-05, -6.25003231e-05,\n",
       "        -9.04819317e-05,  6.38959045e-06, -1.91779181e-05,  5.66990057e-05,\n",
       "         6.81749734e-05,  2.86783434e-05,  1.47392784e-05, -7.73652137e-05,\n",
       "        -7.60614130e-05,  2.12129744e-05, -2.57194006e-06, -2.83846639e-05,\n",
       "        -7.02832403e-06, -3.38482241e-05, -3.98452321e-05, -3.66177073e-06,\n",
       "         7.19661984e-05,  1.75002406e-05, -1.57590512e-06, -2.33954561e-05,\n",
       "        -1.53003475e-06,  1.38371706e-06,  2.58654745e-05,  1.74917332e-05,\n",
       "        -8.81147571e-06, -4.12127383e-06,  2.63143120e-05, -4.08689593e-05,\n",
       "         3.38779464e-05,  2.96805883e-05,  2.37216846e-05,  1.47835044e-05,\n",
       "         1.86414945e-05, -1.23455739e-05,  6.76318723e-06, -1.33003196e-05,\n",
       "        -1.51708282e-05,  8.40404609e-05,  3.34181605e-05, -1.26985060e-05,\n",
       "        -3.63437794e-05, -8.42876034e-06, -6.01292413e-06, -1.25760062e-05,\n",
       "         2.25300973e-05,  6.41894585e-05, -1.62972228e-05,  8.60923865e-06,\n",
       "         4.16851071e-05,  1.11266263e-05,  9.74283830e-06,  4.25850703e-06,\n",
       "        -3.43392603e-05, -1.30364160e-05, -1.21878002e-05,  5.16745386e-05,\n",
       "         7.41405602e-05, -2.73660844e-05, -4.14431634e-05, -1.77215752e-05,\n",
       "         6.17614296e-06,  4.57938440e-05,  3.14705358e-05,  1.26189989e-05,\n",
       "        -2.56784497e-05, -6.14694072e-05,  1.98898833e-05,  2.52208629e-05,\n",
       "        -7.89174919e-06,  4.59386592e-06,  6.94852588e-06,  3.92480069e-06,\n",
       "        -2.20917536e-05, -1.16176325e-05,  4.41125849e-05,  3.70873167e-05,\n",
       "         1.81509313e-05,  1.43242114e-05,  2.28605440e-05,  1.47691562e-05,\n",
       "         1.40645498e-05,  4.57524948e-05,  3.99546407e-05,  7.39381449e-06,\n",
       "        -1.34182046e-05,  3.32338750e-05, -1.60674899e-05, -6.47766228e-06,\n",
       "        -1.28327119e-05, -1.51548185e-04, -4.40666190e-06, -5.00378155e-05,\n",
       "        -1.55293083e-06, -6.04366323e-05,  1.54527970e-06, -1.02841586e-05,\n",
       "         3.70162379e-05,  1.16925230e-05,  1.39341864e-05,  4.38496063e-05,\n",
       "         2.92081022e-05, -1.39107087e-05, -5.77992760e-05,  1.17838797e-04,\n",
       "        -2.20427410e-05,  5.48400130e-05, -4.60990595e-05,  1.32029018e-04,\n",
       "         1.39714184e-05,  4.40329713e-05,  7.77222613e-06, -1.68976730e-05,\n",
       "        -3.89654451e-05,  2.26492084e-05, -3.07224327e-05, -2.38323992e-05,\n",
       "        -2.77536365e-05,  5.76519451e-05, -9.97158932e-05, -2.45406536e-05,\n",
       "        -1.75541682e-05, -8.17422188e-06, -8.61346925e-05,  2.43871236e-05,\n",
       "        -1.00792022e-05, -5.04143236e-06, -1.52856956e-06, -6.99628436e-05,\n",
       "        -1.11554771e-04,  7.85717657e-06, -2.60480847e-05,  4.78447182e-05,\n",
       "         4.63200304e-05,  4.15449576e-05,  2.58876462e-05, -9.60039324e-05,\n",
       "        -1.43893078e-04,  2.93125850e-05,  1.58285948e-05, -1.72937544e-05,\n",
       "        -2.09290047e-05, -2.51928868e-05, -2.59910830e-05,  5.01902059e-06,\n",
       "         1.28428583e-04,  6.24460063e-06, -7.86508645e-06, -4.57290298e-05,\n",
       "         1.40769839e-06,  1.97103200e-05,  8.12134476e-06, -3.61142156e-06,\n",
       "        -1.15556641e-05, -1.78370046e-05,  3.51556191e-05, -1.23849441e-05,\n",
       "         4.31345361e-05,  2.07622597e-05,  3.45184199e-05,  3.33622775e-05,\n",
       "         1.79814288e-06, -2.22846775e-05,  1.17407953e-05, -2.34115523e-05,\n",
       "        -2.63986694e-05,  8.92622556e-05,  4.77659414e-05, -4.70973682e-05,\n",
       "        -4.56521157e-05, -2.11727056e-05, -1.89500970e-05, -1.46648272e-05,\n",
       "         2.76848205e-05,  8.56583501e-05,  2.12330633e-08, -7.75995886e-06,\n",
       "         3.82823055e-05,  5.60913577e-06,  3.60672857e-05, -2.62338381e-06,\n",
       "        -9.24584856e-06, -4.72057582e-05, -1.93782271e-05,  5.81483509e-05,\n",
       "         1.14635848e-04, -2.32957536e-05, -3.37510864e-05, -9.47721674e-06,\n",
       "        -4.11175870e-06,  8.83942848e-05,  4.42280689e-05,  3.07422015e-05,\n",
       "        -6.53512034e-05, -1.07571905e-04,  5.14508793e-05,  3.84983505e-05,\n",
       "        -2.52457039e-06, -4.37846120e-06, -1.01035876e-05, -1.05382969e-06,\n",
       "        -3.84976374e-05, -1.39886433e-05,  6.66192427e-05,  4.04258899e-05,\n",
       "        -1.84204237e-05,  5.72437239e-05,  1.00977586e-05,  2.18480964e-05,\n",
       "         3.91938520e-05,  9.40183236e-05,  2.29819816e-05,  1.34882503e-05,\n",
       "         2.54561619e-05,  5.92051365e-05, -4.80155359e-06,  3.60990452e-05,\n",
       "        -6.16353285e-03,  4.88628447e-02,  4.59383568e-03, -3.51609364e-02,\n",
       "        -4.75842580e-02,  8.94296262e-03, -1.01723550e-02, -1.07070459e-02,\n",
       "        -2.27657333e-03, -1.49269048e-02,  2.05109478e-04,  3.76774594e-02,\n",
       "        -6.66448800e-03,  1.11620277e-02,  5.23286173e-03,  6.30840287e-02,\n",
       "        -2.37444863e-02,  1.83491632e-02, -4.16749418e-02,  3.28878015e-02,\n",
       "        -6.12216303e-03,  1.75552443e-02, -4.89115342e-03,  2.85239536e-02,\n",
       "        -2.97035165e-02, -9.67235956e-03,  2.47731339e-02, -2.85881143e-02,\n",
       "         1.96371544e-02, -1.82931982e-02,  4.75184768e-02, -9.95616987e-03,\n",
       "         1.46933477e-02, -4.39555421e-02,  3.33311707e-02, -2.43887631e-03,\n",
       "        -1.23859756e-02,  3.14613292e-03,  1.12089533e-02,  2.32100319e-02,\n",
       "        -3.93808037e-02,  1.21730501e-02,  3.86750838e-03,  3.15752104e-02,\n",
       "        -1.51165891e-02, -7.16156838e-03, -3.46801616e-03, -4.11720425e-02,\n",
       "        -4.05246802e-02,  5.74998884e-03, -1.02369878e-02, -3.82652916e-02,\n",
       "         8.04325379e-03,  5.70027083e-02,  1.87124982e-02,  2.16976292e-02,\n",
       "         3.66899893e-02, -1.53553560e-02, -4.25135763e-03,  1.25668328e-02,\n",
       "         5.05024660e-03,  2.15759175e-03, -1.65756047e-02,  1.27307847e-02,\n",
       "         2.17066258e-02, -2.43643764e-02, -4.38469416e-03, -2.45238515e-03,\n",
       "         4.42243088e-03, -3.04522477e-02,  1.39284953e-02, -1.37369856e-02,\n",
       "         2.16607191e-02,  7.14402692e-03,  4.57147835e-04, -9.45890695e-03,\n",
       "        -1.06373625e-02, -2.53701471e-02, -1.91746708e-02, -3.36130001e-02,\n",
       "         6.38550892e-03, -2.13667713e-02,  3.67498794e-03,  1.46710454e-03,\n",
       "         2.65063178e-02, -9.12914611e-03,  4.63309586e-02,  2.54044253e-02,\n",
       "        -8.41408968e-03, -1.82075407e-02, -7.93098006e-03,  1.71115156e-03,\n",
       "        -1.52290966e-02, -1.73874907e-02,  1.78210214e-02,  6.19874373e-02,\n",
       "        -3.96385118e-02,  2.62411926e-02,  4.20691818e-02, -2.10389830e-02,\n",
       "        -3.80015150e-02, -5.10176346e-02,  3.41646560e-03,  2.04184428e-02,\n",
       "        -1.59928594e-02,  3.67123820e-02,  5.18755652e-02, -6.75066039e-02,\n",
       "         1.00680860e-03, -1.01915393e-02, -4.84851468e-03,  5.20633301e-04,\n",
       "        -4.24621701e-02,  4.95197996e-02, -4.44239192e-02,  4.00694832e-02,\n",
       "         2.57898122e-02, -3.11835669e-02,  2.50120647e-02,  9.65999160e-03,\n",
       "        -1.53739266e-02,  1.68165918e-02, -1.86615586e-02, -4.62318175e-02,\n",
       "         3.92087968e-03,  3.30265239e-02,  5.67405522e-02,  4.58119623e-02,\n",
       "        -1.09040730e-06, -1.15223935e-04, -5.66357267e-06, -4.65830090e-05,\n",
       "         1.40750926e-05, -4.33961759e-05,  8.65610764e-06,  2.31425179e-06,\n",
       "         7.74604359e-06,  2.73821734e-05,  2.71311183e-06,  8.48673972e-06,\n",
       "         1.52046578e-05, -1.07554079e-05, -5.75726554e-05,  7.44964054e-05,\n",
       "        -3.10126597e-06,  4.95665590e-05, -4.36322080e-05,  1.00561672e-04,\n",
       "         6.21763684e-06,  3.06146540e-05,  3.02965691e-06, -2.36409705e-05,\n",
       "        -3.60302074e-05,  2.15374057e-05, -2.61190089e-05, -2.64752598e-05,\n",
       "        -2.42794085e-05,  6.75065894e-05, -9.13127151e-05, -2.21201608e-05,\n",
       "        -1.07746037e-05,  6.45725049e-06, -6.13675002e-05,  5.25339101e-06,\n",
       "        -2.85711576e-06, -4.38976804e-06,  2.05004289e-05, -5.75182603e-05,\n",
       "        -9.46485452e-05,  4.24432119e-06, -2.84050911e-05,  6.43116728e-05,\n",
       "         5.60683620e-05,  1.97912468e-05,  1.09954262e-05, -8.92118987e-05,\n",
       "        -8.91496020e-05,  2.28777972e-05,  7.15681745e-06, -3.00899919e-05,\n",
       "        -1.27098247e-05, -3.41727500e-05, -3.41159284e-05,  2.07358426e-06,\n",
       "         7.53573113e-05,  1.58044477e-05,  1.76259982e-06, -2.43026043e-05,\n",
       "        -5.07062396e-06,  8.74639591e-06,  1.48820563e-05,  1.24006692e-05,\n",
       "        -5.15143483e-06,  1.32843843e-06,  2.63212569e-05, -3.84661980e-05,\n",
       "         3.95378702e-05,  3.50920891e-05,  2.56528383e-05,  1.53880774e-05,\n",
       "         8.08032837e-06, -1.90764513e-05,  1.25496199e-05, -1.50477554e-05,\n",
       "        -1.47385426e-05,  8.97398277e-05,  4.09000422e-05, -1.85433164e-05,\n",
       "        -3.67183820e-05, -1.53930359e-05, -1.05064082e-05, -1.51077911e-05,\n",
       "         2.13047497e-05,  7.30128741e-05, -1.37584411e-05,  5.93736695e-06,\n",
       "         4.03239901e-05,  4.13363887e-06,  6.29518763e-06,  6.42166015e-06,\n",
       "        -3.01327927e-05, -2.33106093e-05,  3.85520252e-06,  5.29426325e-05,\n",
       "         8.16932588e-05, -2.52007594e-05, -4.52711938e-05, -2.38007342e-05,\n",
       "         7.02572834e-06,  6.62415987e-05,  3.36789890e-05,  8.72134478e-06,\n",
       "        -2.27917808e-05, -6.60922233e-05,  1.25456445e-05,  2.63414749e-05,\n",
       "        -1.92596417e-05,  8.14124178e-06,  4.36247637e-06,  4.89770082e-06,\n",
       "        -2.88314368e-05, -1.56869155e-05,  5.26581207e-05,  3.91274079e-05,\n",
       "         3.30949661e-06,  2.01947059e-05,  2.80718123e-05,  1.01392689e-05,\n",
       "         1.54341287e-05,  5.20016547e-05,  4.03452977e-05,  1.20834911e-05,\n",
       "        -1.06482930e-05,  3.92237707e-05, -1.68566639e-05, -1.16878327e-05],\n",
       "       dtype=float32)>,\n",
       " <tf.Tensor: shape=(128, 10000), dtype=float32, numpy=\n",
       " array([[-1.4172764e-03, -1.2100316e-03, -1.2873997e-03, ...,\n",
       "          1.5789508e-06,  1.5800288e-06,  1.5795531e-06],\n",
       "        [ 2.7840992e-03,  2.0703957e-03,  2.1131602e-03, ...,\n",
       "         -4.8541197e-06, -4.8547818e-06, -4.8573102e-06],\n",
       "        [ 3.1387818e-04, -4.9968070e-04, -3.1829451e-04, ...,\n",
       "          3.9740149e-07,  3.9942023e-07,  3.9929529e-07],\n",
       "        ...,\n",
       "        [-1.7237390e-04,  9.2847244e-04,  1.2399798e-04, ...,\n",
       "          1.1302755e-06,  1.1301165e-06,  1.1308165e-06],\n",
       "        [ 7.7331084e-04,  3.1317887e-04,  1.2547639e-03, ...,\n",
       "         -2.0148659e-06, -2.0134080e-06, -2.0142304e-06],\n",
       "        [ 2.6685794e-04, -7.4708159e-04, -1.7707223e-03, ...,\n",
       "          7.2322871e-07,  7.2318119e-07,  7.2343380e-07]], dtype=float32)>,\n",
       " <tf.Tensor: shape=(10000,), dtype=float32, numpy=\n",
       " array([-0.797998  , -1.031332  , -1.0313313 , ...,  0.00199976,\n",
       "         0.0019999 ,  0.0020005 ], dtype=float32)>]"
      ]
     },
     "execution_count": 55,
     "metadata": {},
     "output_type": "execute_result"
    }
   ],
   "source": [
    "# Define the gradient clipping threshold\n",
    "grads, _ = tf.clip_by_global_norm(grad_t_list, max_grad_norm)\n",
    "grads"
   ]
  },
  {
   "cell_type": "markdown",
   "metadata": {},
   "source": [
    "<h4> 4.Apply the optimizer to the variables/gradients tuple. </h4>\n"
   ]
  },
  {
   "cell_type": "code",
   "execution_count": 56,
   "metadata": {
    "tags": []
   },
   "outputs": [],
   "source": [
    "# Create the training TensorFlow Operation through our optimizer\n",
    "train_op = optimizer.apply_gradients(zip(grads, tvars))"
   ]
  },
  {
   "cell_type": "markdown",
   "metadata": {},
   "source": [
    "<a id=\"ltsm\"></a>\n",
    "<h2>LSTM</h2>\n"
   ]
  },
  {
   "cell_type": "markdown",
   "metadata": {},
   "source": [
    "We learned how the model is build step by step. Noe, let's then create a Class that represents our model. This class needs a few things:\n",
    "<ul>\n",
    "    <li>We have to create the model in accordance with our defined hyperparameters</li>\n",
    "    <li>We have to create the LSTM cell structure and connect them with our RNN structure</li>\n",
    "    <li>We have to create the word embeddings and point them to the input data</li>\n",
    "    <li>We have to create the input structure for our RNN</li>\n",
    "    <li>We need to create a logistic structure to return the probability of our words</li>\n",
    "    <li>We need to create the loss and cost functions for our optimizer to work, and then create the optimizer</li>\n",
    "    <li>And finally, we need to create a training operation that can be run to actually train our model</li>\n",
    "</ul>\n"
   ]
  },
  {
   "cell_type": "code",
   "execution_count": 57,
   "metadata": {
    "tags": []
   },
   "outputs": [],
   "source": [
    "class PTBModel(object):\n",
    "\n",
    "\n",
    "    def __init__(self):\n",
    "        ######################################\n",
    "        # Setting parameters for ease of use #\n",
    "        ######################################\n",
    "        self.batch_size = batch_size\n",
    "        self.num_steps = num_steps\n",
    "        self.hidden_size_l1 = hidden_size_l1\n",
    "        self.hidden_size_l2 = hidden_size_l2\n",
    "        self.vocab_size = vocab_size\n",
    "        self.embeding_vector_size = embeding_vector_size\n",
    "        # Create a variable for the learning rate\n",
    "        self._lr = 1.0\n",
    "        \n",
    "        ###############################################################################\n",
    "        # Initializing the model using keras Sequential API  #\n",
    "        ###############################################################################\n",
    "        \n",
    "        self._model = tf.keras.models.Sequential()\n",
    "        \n",
    "        ####################################################################\n",
    "        # Creating the word embeddings layer and adding it to the sequence #\n",
    "        ####################################################################\n",
    "        with tf.device(\"/cpu:0\"):\n",
    "            # Create the embeddings for our input data. Size is hidden size.\n",
    "            self._embedding_layer = tf.keras.layers.Embedding(self.vocab_size, self.embeding_vector_size,batch_input_shape=(self.batch_size, self.num_steps),trainable=True,name=\"embedding_vocab\")  #[10000x200]\n",
    "            self._model.add(self._embedding_layer)\n",
    "            \n",
    "\n",
    "        ##########################################################################\n",
    "        # Creating the LSTM cell structure and connect it with the RNN structure #\n",
    "        ##########################################################################\n",
    "        # Create the LSTM Cells. \n",
    "        # This creates only the structure for the LSTM and has to be associated with a RNN unit still.\n",
    "        # The argument  of LSTMCell is size of hidden layer, that is, the number of hidden units of the LSTM (inside A). \n",
    "        # LSTM cell processes one word at a time and computes probabilities of the possible continuations of the sentence.\n",
    "        lstm_cell_l1 = tf.keras.layers.LSTMCell(hidden_size_l1)\n",
    "        lstm_cell_l2 = tf.keras.layers.LSTMCell(hidden_size_l2)\n",
    "        \n",
    "\n",
    "        \n",
    "        # By taking in the LSTM cells as parameters, the StackedRNNCells function junctions the LSTM units to the RNN units.\n",
    "        # RNN cell composed sequentially of stacked simple cells.\n",
    "        stacked_lstm = tf.keras.layers.StackedRNNCells([lstm_cell_l1, lstm_cell_l2])\n",
    "\n",
    "\n",
    "        \n",
    "\n",
    "        ############################################\n",
    "        # Creating the input structure for our RNN #\n",
    "        ############################################\n",
    "        # Input structure is 20x[30x200]\n",
    "        # Considering each word is represended by a 200 dimentional vector, and we have 30 batchs, we create 30 word-vectors of size [30xx2000]\n",
    "        # The input structure is fed from the embeddings, which are filled in by the input data\n",
    "        # Feeding a batch of b sentences to a RNN:\n",
    "        # In step 1,  first word of each of the b sentences (in a batch) is input in parallel.  \n",
    "        # In step 2,  second word of each of the b sentences is input in parallel. \n",
    "        # The parallelism is only for efficiency.  \n",
    "        # Each sentence in a batch is handled in parallel, but the network sees one word of a sentence at a time and does the computations accordingly. \n",
    "        # All the computations involving the words of all sentences in a batch at a given time step are done in parallel. \n",
    "\n",
    "        ########################################################################################################\n",
    "        # Instantiating our RNN model and setting stateful to True to feed forward the state to the next layer #\n",
    "        ########################################################################################################\n",
    "        \n",
    "        self._RNNlayer  =  tf.keras.layers.RNN(stacked_lstm,[batch_size, num_steps],return_state=False,stateful=True,trainable=True)\n",
    "        \n",
    "        # Define the initial state, i.e., the model state for the very first data point\n",
    "        # It initialize the state of the LSTM memory. The memory state of the network is initialized with a vector of zeros and gets updated after reading each word.\n",
    "        self._initial_state = tf.Variable(tf.zeros([batch_size,embeding_vector_size]),trainable=False)\n",
    "        self._RNNlayer.inital_state = self._initial_state\n",
    "    \n",
    "        ############################################\n",
    "        # Adding RNN layer to keras sequential API #\n",
    "        ############################################        \n",
    "        self._model.add(self._RNNlayer)\n",
    "        \n",
    "        #self._model.add(tf.keras.layers.LSTM(hidden_size_l1,return_sequences=True,stateful=True))\n",
    "        #self._model.add(tf.keras.layers.LSTM(hidden_size_l2,return_sequences=True))\n",
    "        \n",
    "        \n",
    "        ####################################################################################################\n",
    "        # Instantiating a Dense layer that connects the output to the vocab_size  and adding layer to model#\n",
    "        ####################################################################################################\n",
    "        self._dense = tf.keras.layers.Dense(self.vocab_size)\n",
    "        self._model.add(self._dense)\n",
    " \n",
    "        \n",
    "        ####################################################################################################\n",
    "        # Adding softmax activation layer and deriving probability to each class and adding layer to model #\n",
    "        ####################################################################################################\n",
    "        self._activation = tf.keras.layers.Activation('softmax')\n",
    "        self._model.add(self._activation)\n",
    "\n",
    "        ##########################################################\n",
    "        # Instantiating the stochastic gradient decent optimizer #\n",
    "        ########################################################## \n",
    "        self._optimizer = tf.keras.optimizers.SGD(lr=self._lr, clipnorm=max_grad_norm)\n",
    "        \n",
    "        \n",
    "        ##############################################################################\n",
    "        # Compiling and summarizing the model stacked using the keras sequential API #\n",
    "        ##############################################################################\n",
    "        self._model.compile(loss=self.crossentropy, optimizer=self._optimizer)\n",
    "        self._model.summary()\n",
    "\n",
    "\n",
    "    def crossentropy(self,y_true, y_pred):\n",
    "        return tf.keras.losses.sparse_categorical_crossentropy(y_true, y_pred)\n",
    "\n",
    "    def train_batch(self,_input_data,_targets):\n",
    "        #################################################\n",
    "        # Creating the Training Operation for our Model #\n",
    "        #################################################\n",
    "        # Create a variable for the learning rate\n",
    "        self._lr = tf.Variable(0.0, trainable=False)\n",
    "        # Get all TensorFlow variables marked as \"trainable\" (i.e. all of them except _lr, which we just created)\n",
    "        tvars = self._model.trainable_variables\n",
    "        # Define the gradient clipping threshold\n",
    "        with tf.GradientTape() as tape:\n",
    "            # Forward pass.\n",
    "            output_words_prob = self._model(_input_data)\n",
    "            # Loss value for this batch.\n",
    "            loss  = self.crossentropy(_targets, output_words_prob)\n",
    "            # average across batch and reduce sum\n",
    "            cost = tf.reduce_sum(loss/ self.batch_size)\n",
    "        # Get gradients of loss wrt the trainable variables.\n",
    "        grad_t_list = tape.gradient(cost, tvars)\n",
    "        # Define the gradient clipping threshold\n",
    "        grads, _ = tf.clip_by_global_norm(grad_t_list, max_grad_norm)\n",
    "        # Create the training TensorFlow Operation through our optimizer\n",
    "        train_op = self._optimizer.apply_gradients(zip(grads, tvars))\n",
    "        return cost\n",
    "        \n",
    "    def test_batch(self,_input_data,_targets):\n",
    "        #################################################\n",
    "        # Creating the Testing Operation for our Model #\n",
    "        #################################################\n",
    "        output_words_prob = self._model(_input_data)\n",
    "        loss  = self.crossentropy(_targets, output_words_prob)\n",
    "        # average across batch and reduce sum\n",
    "        cost = tf.reduce_sum(loss/ self.batch_size)\n",
    "\n",
    "        return cost\n",
    "    @classmethod\n",
    "    def instance(cls) : \n",
    "        return PTBModel()"
   ]
  },
  {
   "cell_type": "markdown",
   "metadata": {},
   "source": [
    "With that, the actual structure of our Recurrent Neural Network with Long Short-Term Memory is finished. What remains for us to do is to actually create the methods to run through time -- that is, the <code>run_epoch</code> method to be run at each epoch and a <code>main</code> script which ties all of this together.\n",
    "\n",
    "What our <code>run_epoch</code> method should do is take our input data and feed it to the relevant operations. This will return at the very least the current result for the cost function.\n"
   ]
  },
  {
   "cell_type": "code",
   "execution_count": 58,
   "metadata": {
    "tags": []
   },
   "outputs": [],
   "source": [
    "\n",
    "########################################################################################################################\n",
    "# run_one_epoch takes as parameters  the model instance, the data to be fed, training or testing mode and verbose info #\n",
    "########################################################################################################################\n",
    "def run_one_epoch(m, data,is_training=True,verbose=False):\n",
    "\n",
    "    #Define the epoch size based on the length of the data, batch size and the number of steps\n",
    "    epoch_size = ((len(data) // m.batch_size) - 1) // m.num_steps\n",
    "    start_time = time.time()\n",
    "    costs = 0.\n",
    "    iters = 0\n",
    "    \n",
    "    m._model.reset_states()\n",
    "    \n",
    "    #For each step and data point\n",
    "    for step, (x, y) in enumerate(ptb_iterator(data, m.batch_size, m.num_steps)):\n",
    "        \n",
    "        #Evaluate and return cost, state by running cost, final_state and the function passed as parameter\n",
    "        #y = tf.keras.utils.to_categorical(y, num_classes=vocab_size)\n",
    "        if is_training : \n",
    "            loss=  m.train_batch(x, y)\n",
    "        else :\n",
    "            loss = m.test_batch(x, y)\n",
    "                                   \n",
    "\n",
    "        #Add returned cost to costs (which keeps track of the total costs for this epoch)\n",
    "        costs += loss\n",
    "        \n",
    "        #Add number of steps to iteration counter\n",
    "        iters += m.num_steps\n",
    "\n",
    "        if verbose and step % (epoch_size // 10) == 10:\n",
    "            print(\"Itr %d of %d, perplexity: %.3f speed: %.0f wps\" % (step , epoch_size, np.exp(costs / iters), iters * m.batch_size / (time.time() - start_time)))\n",
    "        \n",
    "\n",
    "\n",
    "    # Returns the Perplexity rating for us to keep track of how the model is evolving\n",
    "    return np.exp(costs / iters)\n"
   ]
  },
  {
   "cell_type": "markdown",
   "metadata": {},
   "source": [
    "Now, we create the <code>main</code> method to tie everything together. The code here reads the data from the directory, using the <code>reader</code> helper module, and then trains and evaluates the model on both a testing and a validating subset of data.\n"
   ]
  },
  {
   "cell_type": "code",
   "execution_count": 59,
   "metadata": {
    "tags": []
   },
   "outputs": [],
   "source": [
    "# Reads the data and separates it into training data, validation data and testing data\n",
    "raw_data = ptb_raw_data(data_dir)\n",
    "train_data, valid_data, test_data, _, _ = raw_data"
   ]
  },
  {
   "cell_type": "code",
   "execution_count": null,
   "metadata": {
    "tags": []
   },
   "outputs": [
    {
     "name": "stdout",
     "output_type": "stream",
     "text": [
      "Model: \"sequential_1\"\n",
      "_________________________________________________________________\n",
      " Layer (type)                Output Shape              Param #   \n",
      "=================================================================\n",
      " embedding_vocab (Embedding)  (30, 20, 200)            2000000   \n",
      "                                                                 \n",
      " rnn_1 (RNN)                 (30, 20, 128)             671088    \n",
      "                                                                 \n",
      " dense_1 (Dense)             (30, 20, 10000)           1290000   \n",
      "                                                                 \n",
      " activation_1 (Activation)   (30, 20, 10000)           0         \n",
      "                                                                 \n",
      "=================================================================\n",
      "Total params: 3,961,088\n",
      "Trainable params: 3,955,088\n",
      "Non-trainable params: 6,000\n",
      "_________________________________________________________________\n",
      "Epoch 1 : Learning rate: 1.000\n",
      "Itr 10 of 1549, perplexity: 4980.838 speed: 1063 wps\n",
      "Itr 164 of 1549, perplexity: 1103.917 speed: 1062 wps\n",
      "Itr 1242 of 1549, perplexity: 406.929 speed: 1051 wps\n",
      "Itr 1396 of 1549, perplexity: 378.726 speed: 1049 wps\n",
      "Epoch 1 : Train Perplexity: 356.519\n",
      "Epoch 1 : Valid Perplexity: 206.858\n",
      "Epoch 2 : Learning rate: 1.000\n",
      "Itr 10 of 1549, perplexity: 232.956 speed: 799 wps\n",
      "Itr 164 of 1549, perplexity: 208.936 speed: 1032 wps\n",
      "Itr 318 of 1549, perplexity: 200.091 speed: 1041 wps\n",
      "Itr 472 of 1549, perplexity: 191.712 speed: 1034 wps\n",
      "Itr 626 of 1549, perplexity: 182.863 speed: 1034 wps\n",
      "Itr 780 of 1549, perplexity: 179.268 speed: 1036 wps\n",
      "Itr 934 of 1549, perplexity: 175.302 speed: 1033 wps\n"
     ]
    }
   ],
   "source": [
    "# Instantiates the PTBModel class\n",
    "m=PTBModel.instance()   \n",
    "K = tf.keras.backend \n",
    "for i in range(max_epoch):\n",
    "    # Define the decay for this epoch\n",
    "    lr_decay = decay ** max(i - max_epoch_decay_lr, 0.0)\n",
    "    dcr = learning_rate * lr_decay\n",
    "    m._lr = dcr\n",
    "    K.set_value(m._model.optimizer.learning_rate,m._lr)\n",
    "    print(\"Epoch %d : Learning rate: %.3f\" % (i + 1, m._model.optimizer.learning_rate))\n",
    "    # Run the loop for this epoch in the training mode\n",
    "    train_perplexity = run_one_epoch(m, train_data,is_training=True,verbose=True)\n",
    "    print(\"Epoch %d : Train Perplexity: %.3f\" % (i + 1, train_perplexity))\n",
    "        \n",
    "    # Run the loop for this epoch in the validation mode\n",
    "    valid_perplexity = run_one_epoch(m, valid_data,is_training=False,verbose=False)\n",
    "    print(\"Epoch %d : Valid Perplexity: %.3f\" % (i + 1, valid_perplexity))\n",
    "    \n",
    "# Run the loop in the testing mode to see how effective was our training\n",
    "test_perplexity = run_one_epoch(m, test_data,is_training=False,verbose=False)\n",
    "print(\"Test Perplexity: %.3f\" % test_perplexity)\n",
    "\n"
   ]
  },
  {
   "cell_type": "markdown",
   "metadata": {},
   "source": [
    "As you can see, the model's perplexity rating drops very quickly after a few iterations. As was elaborated before, <b>lower Perplexity means that the model is more certain about its prediction</b>. As such, we can be sure that this model is performing well!\n"
   ]
  },
  {
   "cell_type": "markdown",
   "metadata": {},
   "source": [
    "-------\n"
   ]
  },
  {
   "cell_type": "markdown",
   "metadata": {},
   "source": [
    "This is the end of the <b>Applying Recurrent Neural Networks to Text Processing</b> notebook. Hopefully you now have a better understanding of Recurrent Neural Networks and how to implement one utilizing TensorFlow. Thank you for reading this notebook, and good luck on your studies.\n"
   ]
  },
  {
   "cell_type": "markdown",
   "metadata": {},
   "source": [
    "## Want to learn more?\n",
    "\n",
    "Also, you can use __Watson Studio__ to run these notebooks faster with bigger datasets.__Watson Studio__ is IBM’s leading cloud solution for data scientists, built by data scientists. With Jupyter notebooks, RStudio, Apache Spark and popular libraries pre-packaged in the cloud, __Watson Studio__ enables data scientists to collaborate on their projects without having to install anything. Join the fast-growing community of __Watson Studio__ users today with a free account at [Watson Studio](https://cocl.us/ML0120EN_DSX).This is the end of this lesson. Thank you for reading this notebook, and good luck on your studies.\n"
   ]
  },
  {
   "cell_type": "markdown",
   "metadata": {},
   "source": [
    "### Thanks for completing this lesson!\n",
    "\n",
    "Notebook created by <a href=\"https://br.linkedin.com/in/walter-gomes-de-amorim-junior-624726121?utm_medium=Exinfluencer&utm_source=Exinfluencer&utm_content=000026UJ&utm_term=10006555&utm_id=NA-SkillsNetwork-Channel-SkillsNetworkCoursesIBMDeveloperSkillsNetworkDL0120ENSkillsNetwork954-2023-01-01\">Walter Gomes de Amorim Junior</a>, <a href = \"https://linkedin.com/in/saeedaghabozorgi\"> Saeed Aghabozorgi </a></h4>\n",
    "\n",
    "\n",
    "Updated to TF 2.X by  <a href=\"https://www.linkedin.com/in/samaya-madhavan?utm_medium=Exinfluencer&utm_source=Exinfluencer&utm_content=000026UJ&utm_term=10006555&utm_id=NA-SkillsNetwork-Channel-SkillsNetworkCoursesIBMDeveloperSkillsNetworkDL0120ENSkillsNetwork954-2023-01-01\"> Samaya Madhavan </a>\n"
   ]
  },
  {
   "cell_type": "markdown",
   "metadata": {},
   "source": [
    "<hr>\n",
    "\n",
    "Copyright &copy; 2018 [Cognitive Class](https://cocl.us/DX0108EN_CC). This notebook and its source code are released under the terms of the [MIT License](https://bigdatauniversity.com/mit-license/?utm_medium=Exinfluencer&utm_source=Exinfluencer&utm_content=000026UJ&utm_term=10006555&utm_id=NA-SkillsNetwork-Channel-SkillsNetworkCoursesIBMDeveloperSkillsNetworkDL0120ENSkillsNetwork954-2023-01-01).\n"
   ]
  }
 ],
 "metadata": {
  "kernelspec": {
   "display_name": "Python",
   "language": "python",
   "name": "conda-env-python-py"
  },
  "language_info": {
   "codemirror_mode": {
    "name": "ipython",
    "version": 3
   },
   "file_extension": ".py",
   "mimetype": "text/x-python",
   "name": "python",
   "nbconvert_exporter": "python",
   "pygments_lexer": "ipython3",
   "version": "3.7.12"
  }
 },
 "nbformat": 4,
 "nbformat_minor": 4
}
