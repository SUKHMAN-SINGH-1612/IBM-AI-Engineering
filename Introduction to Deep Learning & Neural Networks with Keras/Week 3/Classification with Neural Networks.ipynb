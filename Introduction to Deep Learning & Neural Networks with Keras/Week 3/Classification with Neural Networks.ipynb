{
  "cells": [
    {
      "cell_type": "markdown",
      "metadata": {
        "id": "877d17af-9b93-4534-8163-2adf7dc490e7"
      },
      "source": [
        "<a href=\"https://cognitiveclass.ai/?utm_medium=Exinfluencer&utm_source=Exinfluencer&utm_content=000026UJ&utm_term=10006555&utm_id=NA-SkillsNetwork-Channel-SkillsNetworkCoursesIBMDeveloperSkillsNetworkDL0101ENSkillsNetwork945-2022-01-01\"><img src=\"https://cf-courses-data.s3.us.cloud-object-storage.appdomain.cloud/IBMDeveloperSkillsNetwork-DL0101EN-SkillsNetwork/images/IDSN-logo.png\" width=\"400\"> </a>\n",
        "\n",
        "<h1 align=center><font size = 5>Classification Models with Keras</font></h1>\n"
      ]
    },
    {
      "cell_type": "markdown",
      "metadata": {
        "id": "5c9ec1fa-3bcf-44bc-965d-b0a3e65bfefc"
      },
      "source": [
        "## Introduction\n"
      ]
    },
    {
      "cell_type": "markdown",
      "metadata": {
        "id": "0a75eb65-fed6-4769-bf2a-8dafae0acdf9"
      },
      "source": [
        "In this lab, we will learn how to use the Keras library to build models for classificaiton problems. We will use the popular MNIST dataset, a dataset of images, for a change.\n",
        "\n",
        "The <strong>MNIST database</strong>, short for Modified National Institute of Standards and Technology database, is a large database of handwritten digits that is commonly used for training various image processing systems. The database is also widely used for training and testing in the field of machine learning.\n",
        "    \n",
        "The MNIST database contains 60,000 training images and 10,000 testing images of digits written by high school students and employees of the United States Census Bureau.\n",
        "\n",
        "Also, this way, will get to compare how conventional neural networks compare to convolutional neural networks, that we will build in the next module.\n"
      ]
    },
    {
      "cell_type": "markdown",
      "metadata": {
        "id": "ffd6d98b-7add-438c-a2dc-53543d386794"
      },
      "source": [
        "<h2>Classification Models with Keras</h2>\n",
        "\n",
        "<h3>Objective for this Notebook<h3>    \n",
        "<h5> 1. Use of MNIST database for training various image processing systems</h5>\n",
        "<h5> 2. Build a Neural Network </h5>\n",
        "<h5> 3. Train and Test the Network. </h5>\n",
        "\n",
        "<p>This link will be used by your peers to assess your project. In your web app, your peers will be able to upload an image, which will then be classified using your custom classifier you connected to the web app. Your project will be graded by how accurately your app can classify <b>Fire</b>, <b>Smoke</b> and <b>Neutral (No Fire or Smoke)</b>.<p>\n"
      ]
    },
    {
      "cell_type": "markdown",
      "metadata": {
        "id": "889d50b2-1117-400d-8850-1678e63f207f"
      },
      "source": [
        "## Table of Contents\n",
        "\n",
        "<div class=\"alert alert-block alert-info\" style=\"margin-top: 20px\">\n",
        "\n",
        "<font size = 3>\n",
        "\n",
        "1. <a href=\"#item312\">Import Keras and Packages</a>      \n",
        "2. <a href=\"#item322\">Build a Neural Network</a>     \n",
        "3. <a href=\"#item332\">Train and Test the Network</a>     \n",
        "\n",
        "</font>\n",
        "</div>\n"
      ]
    },
    {
      "cell_type": "markdown",
      "metadata": {
        "id": "070374e1-ea05-4c71-9c09-70afcee8e002"
      },
      "source": [
        "<a id='item312'></a>\n"
      ]
    },
    {
      "cell_type": "markdown",
      "metadata": {
        "id": "04cb5309-8b73-4ee3-bc33-6f98e6c6d5ea"
      },
      "source": [
        "## Import Keras and Packages\n"
      ]
    },
    {
      "cell_type": "markdown",
      "metadata": {
        "id": "b2807a39-4997-483b-8658-fa0b51064053"
      },
      "source": [
        "Let's start by importing Keras and some of its modules.\n"
      ]
    },
    {
      "cell_type": "code",
      "metadata": {
        "id": "851d3009-7c45-4a08-99c6-4dce1b2a7a02"
      },
      "outputs": [],
      "source": [
        "# All Libraries required for this lab are listed below. The libraries pre-installed on Skills Network Labs are commented.\n",
        "# If you run this notebook on a different environment, e.g. your desktop, you may need to uncomment and install certain libraries.\n",
        "\n",
        "#!pip install numpy==1.21.4\n",
        "#!pip install pandas==1.3.4\n",
        "#!pip install keras==2.1.6\n",
        "#!pip install matplotlib==3.5.0"
      ],
      "execution_count": 1
    },
    {
      "cell_type": "code",
      "metadata": {
        "id": "83b22757-26ef-4bd1-a2c6-6144f6c843a7"
      },
      "outputs": [],
      "source": [
        "import keras\n",
        "\n",
        "from keras.models import Sequential\n",
        "from keras.layers import Dense\n",
        "from keras.utils import to_categorical"
      ],
      "execution_count": 2
    },
    {
      "cell_type": "markdown",
      "metadata": {
        "id": "7342f733-ccb1-4c6a-a2e2-7ae92242281a"
      },
      "source": [
        "Since we are dealing we images, let's also import the Matplotlib scripting layer in order to view the images.\n"
      ]
    },
    {
      "cell_type": "code",
      "metadata": {
        "id": "a4d8f324-7a70-4f0d-85f1-fe396b6f8cc4"
      },
      "outputs": [],
      "source": [
        "import matplotlib.pyplot as plt"
      ],
      "execution_count": 3
    },
    {
      "cell_type": "markdown",
      "metadata": {
        "id": "3a0c2cad-6769-443b-b73a-dc5d0bb5b98e"
      },
      "source": [
        "The Keras library conveniently includes the MNIST dataset as part of its API. You can check other datasets within the Keras library [here](https://keras.io/datasets/?utm_medium=Exinfluencer&utm_source=Exinfluencer&utm_content=000026UJ&utm_term=10006555&utm_id=NA-SkillsNetwork-Channel-SkillsNetworkCoursesIBMDeveloperSkillsNetworkDL0101ENSkillsNetwork945-2022-01-01).\n",
        "\n",
        "So, let's load the MNIST dataset from the Keras library. The dataset is readily divided into a training set and a test set.\n"
      ]
    },
    {
      "cell_type": "code",
      "metadata": {
        "colab": {
          "base_uri": "https://localhost:8080/"
        },
        "id": "f7033ea0-c156-4a14-accf-180e26b6ea42",
        "outputId": "91924f84-48e5-4faf-8e2f-e9e2267f062b"
      },
      "outputs": [
        {
          "output_type": "stream",
          "name": "stdout",
          "text": [
            "Downloading data from https://storage.googleapis.com/tensorflow/tf-keras-datasets/mnist.npz\n",
            "11490434/11490434 [==============================] - 0s 0us/step\n"
          ]
        }
      ],
      "source": [
        "# import the data\n",
        "from keras.datasets import mnist\n",
        "\n",
        "# read the data\n",
        "(X_train, y_train), (X_test, y_test) = mnist.load_data()"
      ],
      "execution_count": 4
    },
    {
      "cell_type": "markdown",
      "metadata": {
        "id": "eb6294b9-bfce-4067-a9e3-90c45de142a7"
      },
      "source": [
        "Let's confirm the number of images in each set. According to the dataset's documentation, we should have 60000 images in X_train and 10000 images in the X_test.\n"
      ]
    },
    {
      "cell_type": "code",
      "metadata": {
        "colab": {
          "base_uri": "https://localhost:8080/"
        },
        "id": "73e7608c-3f34-4651-b8c5-51654400f8a1",
        "outputId": "2f1510b8-7ed8-4a08-cd67-6259a3a5c56f"
      },
      "outputs": [
        {
          "output_type": "execute_result",
          "data": {
            "text/plain": [
              "(60000, 28, 28)"
            ]
          },
          "metadata": {},
          "execution_count": 5
        }
      ],
      "source": [
        "X_train.shape"
      ],
      "execution_count": 5
    },
    {
      "cell_type": "markdown",
      "metadata": {
        "id": "c8583d62-acec-4c71-b339-1e6e23bb7abc"
      },
      "source": [
        "The first number in the output tuple is the number of images, and the other two numbers are the size of the images in datset. So, each image is 28 pixels by 28 pixels.\n"
      ]
    },
    {
      "cell_type": "markdown",
      "metadata": {
        "id": "b5b7c56a-4f99-476e-be99-0646b13d4d02"
      },
      "source": [
        "Let's visualize the first image in the training set using Matplotlib's scripting layer.\n"
      ]
    },
    {
      "cell_type": "code",
      "metadata": {
        "colab": {
          "base_uri": "https://localhost:8080/",
          "height": 447
        },
        "id": "1c672f04-f79d-4354-835d-40cce8035e53",
        "outputId": "5183a061-213c-46d3-bf1d-736395f00148"
      },
      "outputs": [
        {
          "output_type": "execute_result",
          "data": {
            "text/plain": [
              "<matplotlib.image.AxesImage at 0x7d834df016f0>"
            ]
          },
          "metadata": {},
          "execution_count": 6
        },
        {
          "output_type": "display_data",
          "data": {
            "text/plain": [
              "<Figure size 640x480 with 1 Axes>"
            ],
            "image/png": "[encoded data removed]"
          },
          "metadata": {}
        }
      ],
      "source": [
        "plt.imshow(X_train[0])"
      ],
      "execution_count": 6
    },
    {
      "cell_type": "markdown",
      "metadata": {
        "id": "40cf8f85-4826-48c9-af77-e5e35d8b4bd0"
      },
      "source": [
        "With conventional neural networks, we cannot feed in the image as input as is. So we need to flatten the images into one-dimensional vectors, each of size 1 x (28 x 28) = 1 x 784.\n"
      ]
    },
    {
      "cell_type": "code",
      "metadata": {
        "id": "4b400ce0-07a1-4fd8-ae7c-7fd8d8bb701f"
      },
      "outputs": [],
      "source": [
        "# flatten images into one-dimensional vector\n",
        "\n",
        "num_pixels = X_train.shape[1] * X_train.shape[2] # find size of one-dimensional vector\n",
        "\n",
        "X_train = X_train.reshape(X_train.shape[0], num_pixels).astype('float32') # flatten training images\n",
        "X_test = X_test.reshape(X_test.shape[0], num_pixels).astype('float32') # flatten test images"
      ],
      "execution_count": 7
    },
    {
      "cell_type": "markdown",
      "metadata": {
        "id": "41d73cc8-9523-4df9-b2f0-4161172cd85b"
      },
      "source": [
        "Since pixel values can range from 0 to 255, let's normalize the vectors to be between 0 and 1.\n"
      ]
    },
    {
      "cell_type": "code",
      "metadata": {
        "id": "423fbf2a-6f56-4d14-8d78-5c794ef0d977"
      },
      "outputs": [],
      "source": [
        "# normalize inputs from 0-255 to 0-1\n",
        "X_train = X_train / 255\n",
        "X_test = X_test / 255"
      ],
      "execution_count": 8
    },
    {
      "cell_type": "markdown",
      "metadata": {
        "id": "6578c204-30db-402a-af8d-3a25b181e9fb"
      },
      "source": [
        "Finally, before we start building our model, remember that for classification we need to divide our target variable into categories. We use the to_categorical function from the Keras Utilities package.\n"
      ]
    },
    {
      "cell_type": "code",
      "metadata": {
        "colab": {
          "base_uri": "https://localhost:8080/"
        },
        "id": "d2cf1708-ab81-4055-ba61-796ea2305f71",
        "outputId": "c10a3c0f-0a24-4b86-ed73-d058b6b18fd4"
      },
      "outputs": [
        {
          "output_type": "stream",
          "name": "stdout",
          "text": [
            "10\n"
          ]
        }
      ],
      "source": [
        "# one hot encode outputs\n",
        "y_train = to_categorical(y_train)\n",
        "y_test = to_categorical(y_test)\n",
        "\n",
        "num_classes = y_test.shape[1]\n",
        "print(num_classes)"
      ],
      "execution_count": 9
    },
    {
      "cell_type": "markdown",
      "metadata": {
        "id": "829c6f73-0d93-4689-9f2f-b1c219fd7a27"
      },
      "source": [
        "<a id='item322'></a>\n"
      ]
    },
    {
      "cell_type": "markdown",
      "metadata": {
        "id": "c45ab845-8ed9-45c1-ab98-f0b459336211"
      },
      "source": [
        "## Build a Neural Network\n"
      ]
    },
    {
      "cell_type": "code",
      "metadata": {
        "id": "7fda3388-0933-4cb8-876b-b390b8a3fcd5"
      },
      "outputs": [],
      "source": [
        "# define classification model\n",
        "def classification_model():\n",
        "    # create model\n",
        "    model = Sequential()\n",
        "    model.add(Dense(num_pixels, activation='relu', input_shape=(num_pixels,)))\n",
        "    model.add(Dense(100, activation='relu'))\n",
        "    model.add(Dense(num_classes, activation='softmax'))\n",
        "\n",
        "\n",
        "    # compile model\n",
        "    model.compile(optimizer='adam', loss='categorical_crossentropy', metrics=['accuracy'])\n",
        "    return model"
      ],
      "execution_count": 10
    },
    {
      "cell_type": "markdown",
      "metadata": {
        "id": "5690098b-54da-4575-838d-2b4bb0706049"
      },
      "source": [
        "<a id='item332'></a>\n"
      ]
    },
    {
      "cell_type": "markdown",
      "metadata": {
        "id": "dbc54f7f-b0bc-4af6-ab8f-8ffba65d56e8"
      },
      "source": [
        "## Train and Test the Network\n"
      ]
    },
    {
      "cell_type": "code",
      "metadata": {
        "colab": {
          "base_uri": "https://localhost:8080/"
        },
        "id": "7c3ce34a-7d96-4b73-a9d6-a3e6a24b584f",
        "outputId": "57ad7b77-9d6c-44bd-ed99-30d6f3ab2fce"
      },
      "outputs": [
        {
          "output_type": "stream",
          "name": "stdout",
          "text": [
            "Epoch 1/10\n",
            "1875/1875 - 19s - loss: 0.1864 - accuracy: 0.9434 - val_loss: 0.1189 - val_accuracy: 0.9648 - 19s/epoch - 10ms/step\n",
            "Epoch 2/10\n",
            "1875/1875 - 18s - loss: 0.0801 - accuracy: 0.9751 - val_loss: 0.0765 - val_accuracy: 0.9755 - 18s/epoch - 10ms/step\n",
            "Epoch 3/10\n",
            "1875/1875 - 17s - loss: 0.0531 - accuracy: 0.9830 - val_loss: 0.0898 - val_accuracy: 0.9733 - 17s/epoch - 9ms/step\n",
            "Epoch 4/10\n",
            "1875/1875 - 18s - loss: 0.0399 - accuracy: 0.9872 - val_loss: 0.0727 - val_accuracy: 0.9796 - 18s/epoch - 9ms/step\n",
            "Epoch 5/10\n",
            "1875/1875 - 17s - loss: 0.0311 - accuracy: 0.9900 - val_loss: 0.0955 - val_accuracy: 0.9742 - 17s/epoch - 9ms/step\n",
            "Epoch 6/10\n",
            "1875/1875 - 18s - loss: 0.0253 - accuracy: 0.9916 - val_loss: 0.0768 - val_accuracy: 0.9795 - 18s/epoch - 9ms/step\n",
            "Epoch 7/10\n",
            "1875/1875 - 17s - loss: 0.0229 - accuracy: 0.9923 - val_loss: 0.0735 - val_accuracy: 0.9813 - 17s/epoch - 9ms/step\n",
            "Epoch 8/10\n",
            "1875/1875 - 18s - loss: 0.0198 - accuracy: 0.9936 - val_loss: 0.0843 - val_accuracy: 0.9793 - 18s/epoch - 9ms/step\n",
            "Epoch 9/10\n",
            "1875/1875 - 17s - loss: 0.0165 - accuracy: 0.9946 - val_loss: 0.1176 - val_accuracy: 0.9766 - 17s/epoch - 9ms/step\n",
            "Epoch 10/10\n",
            "1875/1875 - 17s - loss: 0.0150 - accuracy: 0.9953 - val_loss: 0.1012 - val_accuracy: 0.9803 - 17s/epoch - 9ms/step\n"
          ]
        }
      ],
      "source": [
        "# build the model\n",
        "model = classification_model()\n",
        "\n",
        "# fit the model\n",
        "model.fit(X_train, y_train, validation_data=(X_test, y_test), epochs=10, verbose=2)\n",
        "\n",
        "# evaluate the model\n",
        "scores = model.evaluate(X_test, y_test, verbose=0)"
      ],
      "execution_count": 11
    },
    {
      "cell_type": "markdown",
      "metadata": {
        "id": "d7346129-0871-4ed8-a0f9-d60b4a031436"
      },
      "source": [
        "Let's print the accuracy and the corresponding error.\n"
      ]
    },
    {
      "cell_type": "code",
      "metadata": {
        "colab": {
          "base_uri": "https://localhost:8080/"
        },
        "id": "1ca30118-1d39-475d-9282-fd94a063fe2b",
        "outputId": "4257afee-c1b0-4b87-d021-75d779c9cb2f"
      },
      "outputs": [
        {
          "output_type": "stream",
          "name": "stdout",
          "text": [
            "Accuracy: 0.9803000092506409% \n",
            " Error: 0.01969999074935913\n"
          ]
        }
      ],
      "source": [
        "print('Accuracy: {}% \\n Error: {}'.format(scores[1], 1 - scores[1]))"
      ],
      "execution_count": 12
    },
    {
      "cell_type": "markdown",
      "metadata": {
        "id": "e3b91ba3-1e16-4627-bb05-2af2dc677da6"
      },
      "source": [
        "Just running 10 epochs could actually take over 20 minutes. But enjoy the results as they are getting generated.\n"
      ]
    },
    {
      "cell_type": "markdown",
      "metadata": {
        "id": "988683a0-ba7b-4b83-8c02-248a9b6af698"
      },
      "source": [
        "Sometimes, you cannot afford to retrain your model everytime you want to use it, especially if you are limited on computational resources and training your model can take a long time. Therefore, with the Keras library, you can save your model after training. To do that, we use the save method.\n"
      ]
    },
    {
      "cell_type": "code",
      "metadata": {
        "colab": {
          "base_uri": "https://localhost:8080/"
        },
        "id": "c72b31e3-98ce-477f-a0f9-e12539e9296c",
        "outputId": "493076bc-59e8-4559-de69-57fe997d57ea"
      },
      "outputs": [
        {
          "output_type": "stream",
          "name": "stderr",
          "text": [
            "/usr/local/lib/python3.10/dist-packages/keras/src/engine/training.py:3000: UserWarning: You are saving your model as an HDF5 file via `model.save()`. This file format is considered legacy. We recommend using instead the native Keras format, e.g. `model.save('my_model.keras')`.\n",
            "  saving_api.save_model(\n"
          ]
        }
      ],
      "source": [
        "model.save('classification_model.h5')"
      ],
      "execution_count": 13
    },
    {
      "cell_type": "markdown",
      "metadata": {
        "id": "71b57c76-4672-43ff-a3a1-718f4a2d431d"
      },
      "source": [
        "Since our model contains multidimensional arrays of data, then models are usually saved as .h5 files.\n"
      ]
    },
    {
      "cell_type": "markdown",
      "metadata": {
        "id": "6c002e07-6613-4216-8592-d0bb380c158d"
      },
      "source": [
        "When you are ready to use your model again, you use the load_model function from <strong>keras.models</strong>.\n"
      ]
    },
    {
      "cell_type": "code",
      "metadata": {
        "id": "f565995e-4175-475c-96fc-87de6803dd66"
      },
      "outputs": [],
      "source": [
        "from keras.models import load_model"
      ],
      "execution_count": 14
    },
    {
      "cell_type": "code",
      "metadata": {
        "id": "de31ca51-19f9-4fc7-b059-6aaefc697827"
      },
      "outputs": [],
      "source": [
        "pretrained_model = load_model('classification_model.h5')"
      ],
      "execution_count": 15
    },
    {
      "cell_type": "markdown",
      "metadata": {
        "id": "b267bd54-381a-4434-a288-e86f5bb11c26"
      },
      "source": [
        "### Thank you for completing this lab!\n",
        "\n",
        "This notebook was created by [Alex Aklson](https://www.linkedin.com/in/aklson/?utm_medium=Exinfluencer&utm_source=Exinfluencer&utm_content=000026UJ&utm_term=10006555&utm_id=NA-SkillsNetwork-Channel-SkillsNetworkCoursesIBMDeveloperSkillsNetworkDL0101ENSkillsNetwork945-2022-01-01). I hope you found this lab interesting and educational. Feel free to contact me if you have any questions!\n"
      ]
    },
    {
      "cell_type": "markdown",
      "metadata": {
        "id": "923a3adf-7972-459d-aac6-cf244e533e1f"
      },
      "source": [
        "\n",
        "## Change Log\n",
        "\n",
        "|  Date (YYYY-MM-DD) |  Version | Changed By  |  Change Description |\n",
        "|---|---|---|---|\n",
        "| 2020-09-21  | 2.0  | Srishti  |  Migrated Lab to Markdown and added to course repo in GitLab |\n",
        "\n",
        "\n",
        "\n",
        "<hr>\n",
        "\n",
        "## <h3 align=\"center\"> © IBM Corporation 2020. All rights reserved. <h3/>\n"
      ]
    },
    {
      "cell_type": "markdown",
      "metadata": {
        "id": "6c16f52e-5d01-45e5-bcd4-c8258fb8cdff"
      },
      "source": [
        "This notebook is part of a course on **Coursera** called *Introduction to Deep Learning & Neural Networks with Keras*. If you accessed this notebook outside the course, you can take this course online by clicking [here](https://cocl.us/DL0101EN_Coursera_Week3_LAB2).\n"
      ]
    },
    {
      "cell_type": "markdown",
      "metadata": {
        "id": "1ec9e0b4-81b6-4cfe-b76a-4d6eb09a9bea"
      },
      "source": [
        "<hr>\n",
        "\n",
        "Copyright &copy; 2019 [IBM Developer Skills Network](https://cognitiveclass.ai/?utm_medium=dswb&utm_source=bducopyrightlink&utm_content=000026UJ&utm_term=10006555&utm_id=NA-SkillsNetwork-Channel-SkillsNetworkCoursesIBMDeveloperSkillsNetworkDL0101ENSkillsNetwork945-2022-01-01&utm_campaign=bdu). This notebook and its source code are released under the terms of the [MIT License](https://bigdatauniversity.com/mit-license/?utm_medium=Exinfluencer&utm_source=Exinfluencer&utm_content=000026UJ&utm_term=10006555&utm_id=NA-SkillsNetwork-Channel-SkillsNetworkCoursesIBMDeveloperSkillsNetworkDL0101ENSkillsNetwork945-2022-01-01).\n"
      ]
    }
  ],
  "metadata": {
    "kernelspec": {
      "display_name": "Python",
      "language": "python",
      "name": "conda-env-python-py"
    },
    "language_info": {
      "name": ""
    },
    "colab": {
      "provenance": []
    }
  },
  "nbformat": 4,
  "nbformat_minor": 0
}